{
  "cells": [
    {
      "cell_type": "markdown",
      "metadata": {},
      "source": "<i class=\"fa fa-wikipedia-w\"></i> Definitions\n---------------------------------------------\n"
    },
    {
      "cell_type": "markdown",
      "metadata": {},
      "source": "**Control engineering** or **control systems engineering** is an\nengineering discipline that applies automatic control theory to design\nsystems with desired behaviors in control environments.\n"
    },
    {
      "cell_type": "markdown",
      "metadata": {},
      "source": "The discipline of controls overlaps and is usually taught along with\nelectrical engineering at many institutions around the world.\n"
    },
    {
      "cell_type": "markdown",
      "metadata": {},
      "source": "------------------------------------------------------------------------\n"
    },
    {
      "cell_type": "markdown",
      "metadata": {},
      "source": "**Control theory** in control systems engineering is a subfield of\nmathematics that deals with the control of continuously operating\ndynamical systems in engineered processes and machines.\n"
    },
    {
      "cell_type": "markdown",
      "metadata": {},
      "source": "------------------------------------------------------------------------\n"
    },
    {
      "cell_type": "markdown",
      "metadata": {},
      "source": "A **dynamical system** is a system in which a function describes the\ntime dependence of a point in a geometrical space.\n"
    },
    {
      "cell_type": "markdown",
      "metadata": {},
      "source": "Examples include the mathematical models that describe the swinging of a\nclock pendulum, the flow of water in a pipe, and the number of fish each\nspringtime in a lake.\n"
    },
    {
      "cell_type": "markdown",
      "metadata": {},
      "source": "<i class=\"fa fa-gear\"></i> Robotic Arms\n---------------------------------------\n"
    },
    {
      "cell_type": "markdown",
      "metadata": {},
      "source": "<iframe width=\"560\" height=\"315\" src=\"https://www.youtube-nocookie.com/embed/s-yne8xTNM0\" frameborder=\"0\" allow=\"accelerometer; autoplay; encrypted-media; gyroscope; picture-in-picture\" allowfullscreen>\n"
    },
    {
      "cell_type": "markdown",
      "metadata": {},
      "source": "</iframe>\n"
    },
    {
      "cell_type": "markdown",
      "metadata": {},
      "source": "------------------------------------------------------------------------\n"
    },
    {
      "cell_type": "markdown",
      "metadata": {},
      "source": "**DEMO:** $2 k \\pi$\n([CAS](http://www.mines-paristech.fr/Recherche/Centres-de-recherche/Centre-automatique-et-systemes-CAS/))\n"
    },
    {
      "cell_type": "markdown",
      "metadata": {},
      "source": "<i class=\"fa fa-plane\"></i> Aircrafts\n-------------------------------------\n"
    },
    {
      "cell_type": "markdown",
      "metadata": {},
      "source": "-   [Boeing 747 Max Plane\n    Crashes](https://www.theverge.com/2019/3/22/18275736/boeing-737-max-plane-crashes-grounded-problems-info-details-explained-reasons)\n\n-   [The Dangerous Flaw in Boeing\u2019s Automated\n    System](https://www.nytimes.com/interactive/2019/03/29/business/boeing-737-max-8-flaws.html)\n\n-   Accident Preliminary Report:\n    [<i class=\"fa fa-file-pdf-o\"></i>](http://www.ecaa.gov.et/documents/20435/0/Preliminary+Report+B737-800MAX+%2C%28ET-AVJ%29.pdf)\n\n-   [What is the Boeing 737 Max\n    MACS?](https://theaircurrent.com/aviation-safety/what-is-the-boeing-737-max-maneuvering-characteristics-augmentation-system-mcas-jt610/)\n\n-   [Eurofighter Typhoon](https://www.eurofighter.com/advantages)\n"
    },
    {
      "cell_type": "markdown",
      "metadata": {},
      "source": "<i class=\"fa fa-car\"></i> Smart Vehicles\n----------------------------------------\n"
    },
    {
      "cell_type": "markdown",
      "metadata": {},
      "source": "-   [Waymo](https://waymo.com/) (\u201cGoogle Car\u201d),\n\n-   [Tesla](https://www.tesla.com):\n    [Autopilot](https://www.tesla.com/en_EU/autopilot?redirect=no),\n    [Semi (truck)](https://en.wikipedia.org/wiki/Tesla_Semi),\n\n-   [Uber](https://www.uber.com): [ATG](https://www.uber.com/info/atg/)\n\n-   \u2026\n"
    },
    {
      "cell_type": "markdown",
      "metadata": {},
      "source": "------------------------------------------------------------------------\n"
    },
    {
      "cell_type": "markdown",
      "metadata": {},
      "source": "Control Theory is about:\n"
    },
    {
      "cell_type": "markdown",
      "metadata": {},
      "source": "-   Modelling,\n\n-   Analysis and\n\n-   Control\n"
    },
    {
      "cell_type": "markdown",
      "metadata": {},
      "source": "of dynamical systems\n"
    },
    {
      "cell_type": "markdown",
      "metadata": {},
      "source": "<i class=\"fa fa-github\" aria-hidden=\"true\"></i> Ressources\n----------------------------------------------------------\n"
    },
    {
      "cell_type": "markdown",
      "metadata": {},
      "source": "<https://github.com/boisgera/control-engineering-with-python>\n"
    },
    {
      "cell_type": "markdown",
      "metadata": {},
      "source": "<style>\n\n.reveal section img {\n  border:0;\n  height:50vh;\n  width:auto;\n\n}\n\n.reveal section img.medium {\n  border:0;\n  max-width:50vh;\n}\n\n.reveal section img.icon {\n  display:inline;\n  border:0;\n  width:1em;\n  margin:0em;\n  box-shadow:none;\n  vertical-align:-10%;\n}\n\n.reveal code {\n  font-family: Inconsolata, monospace;\n}\n\n.reveal pre code {\n  font-size: 1.5em;\n  line-height: 1.5em;\n  /* max-height: 80wh; won't work, overriden */\n}\n\ninput {\n  font-family: \"Source Sans Pro\", Helvetica, sans-serif;\n  font-size: 42px;\n  line-height: 54.6px;\n}\n\n</style>\n"
    },
    {
      "cell_type": "markdown",
      "metadata": {},
      "source": "<link href=\"https://fonts.googleapis.com/css?family=Inconsolata:400,700\" rel=\"stylesheet\">\n"
    },
    {
      "cell_type": "markdown",
      "metadata": {},
      "source": "<link href=\"https://cdnjs.cloudflare.com/ajax/libs/font-awesome/4.7.0/css/font-awesome.css\" rel=\"stylesheet\">\n"
    }
  ],
  "metadata": {
    "kernelspec": {
      "display_name": "Python 3",
      "language": "python",
      "name": "python3"
    },
    "language_info": {
      "codemirror_mode": {
        "name": "ipython",
        "version": 3
      },
      "file_extension": ".py",
      "mimetype": "text/x-python",
      "name": "python",
      "nbconvert_exporter": "python",
      "pygments_lexer": "ipython3",
      "version": "3.6.4"
    }
  },
  "nbformat": 4,
  "nbformat_minor": 2
}