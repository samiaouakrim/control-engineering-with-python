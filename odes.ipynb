{
  "cells": [
    {
      "cell_type": "markdown",
      "metadata": {},
      "source": "Preamble\n--------\n"
    },
    {
      "cell_type": "code",
      "execution_count": 1,
      "metadata": {},
      "outputs": [],
      "source": "from numpy import *\nimport matplotlib; matplotlib.use(\"nbAgg\")\nfrom matplotlib.pyplot import *\n%matplotlib notebook "
    },
    {
      "cell_type": "markdown",
      "metadata": {},
      "source": "Introduction\n============\n"
    },
    {
      "cell_type": "markdown",
      "metadata": {},
      "source": "Vector Field\n------------\n"
    },
    {
      "cell_type": "markdown",
      "metadata": {},
      "source": "Let $n \\in \\mathbb{N}^*$ and $f:\\mathbb{R}^n \\to \\mathbb{R}^n$.\n"
    },
    {
      "cell_type": "markdown",
      "metadata": {},
      "source": "Visualize $f(x)$ as an arrow with origin the point $x$.\n"
    },
    {
      "cell_type": "markdown",
      "metadata": {},
      "source": "In the plane ($n=2$), use\n[quiver](https://matplotlib.org/api/_as_gen/matplotlib.pyplot.streamplot.html)\n(Matplotlib).\n"
    },
    {
      "cell_type": "markdown",
      "metadata": {},
      "source": "Q Helper\n--------\n"
    },
    {
      "cell_type": "code",
      "execution_count": 2,
      "metadata": {},
      "outputs": [],
      "source": "def Q(f, xs, ys):\n    X, Y = meshgrid(xs, ys)\n    fx = vectorize(lambda x, y: f([x, y])[0])\n    fy = vectorize(lambda x, y: f([x, y])[1])\n    return X, Y, fx(X, Y), fy(X, Y)"
    },
    {
      "cell_type": "markdown",
      "metadata": {},
      "source": "<i class=\"fa fa-eye\"></i> Vector Field / Rotation\n-------------------------------------------------\n"
    },
    {
      "cell_type": "markdown",
      "metadata": {},
      "source": "Consider $f(x,y) = (-y, x).$\n"
    },
    {
      "cell_type": "code",
      "execution_count": 3,
      "metadata": {},
      "outputs": [],
      "source": "def f(xy):\n    x, y = xy\n    return array([-y, x])"
    },
    {
      "cell_type": "markdown",
      "metadata": {},
      "source": "<i class=\"fa fa-area-chart\"></i>\n--------------------------------\n"
    },
    {
      "cell_type": "code",
      "execution_count": 4,
      "metadata": {},
      "outputs": [],
      "source": "figure()\nx = y = linspace(-1.0, 1.0, 20)\ngca().set_aspect(1.0); grid(True)\nquiver(*Q(f, x, y)) "
    },
    {
      "cell_type": "markdown",
      "metadata": {},
      "source": "------------------------------------------------------------------------\n"
    },
    {
      "cell_type": "markdown",
      "metadata": {},
      "source": "Ordinary Differential Equations (ODEs)\n--------------------------------------\n"
    },
    {
      "cell_type": "markdown",
      "metadata": {},
      "source": "A solution of $\\dot{x} = f(x)$ is\n"
    },
    {
      "cell_type": "markdown",
      "metadata": {},
      "source": "-   a function $x:I \\to \\mathbb{R}^n$,\n\n-   defined on a (possibly unbounded) interval $I$ of $\\mathbb{R}$,\n\n-   such that for every $t \\in I,$\n\n    $$\\dot{x}(t) = dx(t)/dt = f(x(t)).$$\n"
    },
    {
      "cell_type": "markdown",
      "metadata": {},
      "source": "<i class=\"fa fa-area-chart\"></i>\n--------------------------------\n"
    },
    {
      "cell_type": "code",
      "execution_count": 5,
      "metadata": {},
      "outputs": [],
      "source": "figure()\nx = y = linspace(-1.0, 1.0, 20)\ngca().set_aspect(1.0); grid(True)\nstreamplot(*Q(f, x, y), color=\"k\") "
    },
    {
      "cell_type": "markdown",
      "metadata": {},
      "source": "------------------------------------------------------------------------\n"
    },
    {
      "cell_type": "markdown",
      "metadata": {},
      "source": "Initial Value Problem (IVP)\n---------------------------\n"
    },
    {
      "cell_type": "markdown",
      "metadata": {},
      "source": "Solutions $x(t)$, for $t\\geq t_0$, of\n"
    },
    {
      "cell_type": "markdown",
      "metadata": {},
      "source": "$$\n\\dot{x} = f(x)\n$$\n"
    },
    {
      "cell_type": "markdown",
      "metadata": {},
      "source": "such that\n"
    },
    {
      "cell_type": "markdown",
      "metadata": {},
      "source": "$$\nx(t_0) = x_0 \\in \\mathbb{R}^n.\n$$\n"
    },
    {
      "cell_type": "markdown",
      "metadata": {},
      "source": "------------------------------------------------------------------------\n"
    },
    {
      "cell_type": "markdown",
      "metadata": {},
      "source": "The **initial condition** $(t_0, x_0)$ is made of\n"
    },
    {
      "cell_type": "markdown",
      "metadata": {},
      "source": "-   the **initial time** $t_0 \\in \\mathbb{R}$ and\n\n-   the **initial value** or **initial state** $x_0 \\in \\mathbb{R}^n$.\n"
    },
    {
      "cell_type": "markdown",
      "metadata": {},
      "source": "The set $\\mathbb{R}^n$ is the **state space**,\\\n$x(t)$ the **state at time** $t$.\n"
    },
    {
      "cell_type": "markdown",
      "metadata": {},
      "source": "Higher-Order ODEs\n-----------------\n"
    },
    {
      "cell_type": "markdown",
      "metadata": {},
      "source": "Scalar differential equations structured as\n"
    },
    {
      "cell_type": "markdown",
      "metadata": {},
      "source": "$$\n  x^{(n)}(t) = f(x, \\dot{x}, \\ddot{x}, \\dots, x^{(n-1)})\n  $$\n"
    },
    {
      "cell_type": "markdown",
      "metadata": {},
      "source": "can be converted to the standard form with the state\n"
    },
    {
      "cell_type": "markdown",
      "metadata": {},
      "source": "$$\n  y = (x, \\dot{x}, \\ddot{x}, \\dots, x^{(n-1)}) \\in \\mathbb{R^n}\n  $$\n"
    },
    {
      "cell_type": "markdown",
      "metadata": {},
      "source": "------------------------------------------------------------------------\n"
    },
    {
      "cell_type": "markdown",
      "metadata": {},
      "source": "$$\n  \\begin{array}{ccl}\n  \\dot{y}_1 &=& y_2 \\\\\n  \\dot{y}_2 &=& y_3 \\\\\n  \\vdots &\\vdots& \\vdots \\\\\n  \\dot{y}_n &=& f(y_1, y_2, \\dots, y_{n-1})\n  \\end{array}\n  $$\n"
    },
    {
      "cell_type": "markdown",
      "metadata": {},
      "source": "<i class=\"fa fa-eye\"></i> Pendulum\n----------------------------------\n"
    },
    {
      "cell_type": "markdown",
      "metadata": {},
      "source": "![](images/static/pendulum.svg)\n"
    },
    {
      "cell_type": "markdown",
      "metadata": {},
      "source": "<i class=\"fa fa-question-circle-o\"></i> \u2013 Model / Pendulum\n----------------------------------------------------------\n"
    },
    {
      "cell_type": "markdown",
      "metadata": {},
      "source": "-   \\[</i><i class=\"fa fa-gear\"></i>,\n    </i><i class=\"fa fa-superscript\"></i>\\] Establish the equations\n    governing the pendulum dynamics when the mechanical energy of the\n    system is constant.\n\n-   \\[</i><i class=\"fa fa-gear\"></i>,\n    </i><i class=\"fa fa-superscript\"></i>\\] Generalize the dynamics when\n    there is a friction torque $c = -b \\dot{\\theta}$ for some\n    $b \\geq 0$.\n"
    },
    {
      "cell_type": "markdown",
      "metadata": {},
      "source": "### <i class=\"fa fa-key\"></i> \u2013 Result\n"
    },
    {
      "cell_type": "markdown",
      "metadata": {},
      "source": "$$\nm \\ell^2 \\ddot{\\theta} + b \\dot{\\theta} + m g \\ell \\sin \\theta = 0\n$$\n"
    },
    {
      "cell_type": "markdown",
      "metadata": {},
      "source": "------------------------------------------------------------------------\n"
    },
    {
      "cell_type": "markdown",
      "metadata": {},
      "source": "Introduce the rotational frequency $\\omega = \\dot{\\theta}$ in rad/sec.\n"
    },
    {
      "cell_type": "markdown",
      "metadata": {},
      "source": "The pendulum dynamics is equivalent to:\n"
    },
    {
      "cell_type": "markdown",
      "metadata": {},
      "source": "$$\n  \\begin{array}{lll}\n  \\dot{\\theta} &=& \\omega \\\\\n  \\dot{\\omega} &=& - (b/m\\ell^2) \\omega -(g /\\ell) \\sin \\theta  \n  \\end{array}\n  $$\n"
    },
    {
      "cell_type": "markdown",
      "metadata": {},
      "source": "------------------------------------------------------------------------\n"
    },
    {
      "cell_type": "code",
      "execution_count": 6,
      "metadata": {},
      "outputs": [],
      "source": "m=1.0; b=0.0; l=1.0; g=9.81\ndef f(theta_d_theta):\n    theta, d_theta = theta_d_theta\n    J = m * l * l\n    d2_theta  = - b / J * d_theta \n    d2_theta += - g / l * sin(theta)\n    return array([d_theta, d2_theta])\n        "
    },
    {
      "cell_type": "markdown",
      "metadata": {},
      "source": "<i class=\"fa fa-area-chart\"></i>\n--------------------------------\n"
    },
    {
      "cell_type": "code",
      "execution_count": 7,
      "metadata": {},
      "outputs": [],
      "source": "figure()\ntheta = linspace(-1.5 * pi, 1.5 * pi, 100)\nd_theta = linspace(-5.0, 5.0, 100)\ngrid(True)\nxticks([-pi, 0, pi], [r\"$-\\pi$\", \"$0$\", r\"$\\pi$\"])\nstreamplot(*Q(f, theta, d_theta), color=\"k\") "
    },
    {
      "cell_type": "markdown",
      "metadata": {},
      "source": "------------------------------------------------------------------------\n"
    },
    {
      "cell_type": "markdown",
      "metadata": {},
      "source": "<i class=\"fa fa-question-circle-o\"></i> \u2013 Model / Pendulum\n----------------------------------------------------------\n"
    },
    {
      "cell_type": "markdown",
      "metadata": {},
      "source": "-   \\[<i class=\"fa fa-flask\"></i>, <i class=\"fa fa-area-chart\"></i>\\]\n    Determine an approximation of the least possible angular velocity\n    $\\omega_0 > 0$ such that when $\\theta(0) = 0$ and\n    $\\dot{\\theta}(0) = \\omega_0$, the pendulum reaches (or overshoots)\n    $\\theta(t) = \\pi$ for some $t>0$.\n\n-   \\[<i class=\"fa fa-lightbulb-o\"></i>,\n    <i class=\"fa fa-superscript\"></i>\\] Answer the same question\n    analytically.\n"
    },
    {
      "cell_type": "markdown",
      "metadata": {},
      "source": "Numerical Solution (Basic)\n--------------------------\n"
    },
    {
      "cell_type": "markdown",
      "metadata": {},
      "source": "Given a finite **time span** $[t_0, t_f]$ and a small enough **time\nstep** $\\Delta t > 0$, we can use the approximation:\n"
    },
    {
      "cell_type": "markdown",
      "metadata": {},
      "source": "$$\n  \\begin{split}\n  x(t + \\Delta t) \n    & \\simeq x(t) + \\Delta t \\times \\dot{x}(t) \\\\\n    & = x(t) + \\Delta t \\times f(x(t)) \\\\\n  \\end{split}\n  $$\n"
    },
    {
      "cell_type": "markdown",
      "metadata": {},
      "source": "to compute a sequence of states $x_k \\in \\mathbb{R}^n$ such that:\n"
    },
    {
      "cell_type": "markdown",
      "metadata": {},
      "source": "$$\n  x(t = t_0 + k \\Delta t) \\simeq x_k.\n  $$\n"
    },
    {
      "cell_type": "markdown",
      "metadata": {},
      "source": "Euler Scheme\n------------\n"
    },
    {
      "cell_type": "markdown",
      "metadata": {},
      "source": "(Fixed-step & explicit version)\n"
    },
    {
      "cell_type": "code",
      "execution_count": 8,
      "metadata": {},
      "outputs": [],
      "source": "def basic_solve_ivp(f, t0, x0, dt, t_f):\n    ts, xs = [t0], [x0]\n    while ts[-1] < t_f:\n        t, x = ts[-1], xs[-1]\n        t_next, x_next = t + dt, x + dt * f(x)\n        ts.append(t_next); xs.append(x_next)\n    return (array(ts), array(xs).T)"
    },
    {
      "cell_type": "markdown",
      "metadata": {},
      "source": "------------------------------------------------------------------------\n"
    },
    {
      "cell_type": "markdown",
      "metadata": {},
      "source": "Why the final transposition (`.T`)?\n"
    },
    {
      "cell_type": "markdown",
      "metadata": {},
      "source": "So that when\n"
    },
    {
      "cell_type": "markdown",
      "metadata": {},
      "source": "`t, x = basic_solve_ivp(...)`,\n"
    },
    {
      "cell_type": "markdown",
      "metadata": {},
      "source": "`x[i]` refers to the values of the `i`th component of `x`.\n"
    },
    {
      "cell_type": "markdown",
      "metadata": {},
      "source": "(without the `.T`, it would be `x[:][i]`)\n"
    },
    {
      "cell_type": "markdown",
      "metadata": {},
      "source": "<i class=\"fa fa-eye\"></i> Rotation / Solution\n---------------------------------------------\n"
    },
    {
      "cell_type": "markdown",
      "metadata": {},
      "source": "$$\n  \\left|\n  \\begin{split}\n  \\dot{x} &= -y \\\\\n  \\dot{y} &= +x\n  \\end{split}\n  \\right.,\n  \\; \\mbox{ with } \\;\n  \\left|\n  \\begin{array}{l}\n  x(0) = 1\\\\\n  y(0) = 0\n  \\end{array}\n  \\right.\n  $$\n"
    },
    {
      "cell_type": "markdown",
      "metadata": {},
      "source": "------------------------------------------------------------------------\n"
    },
    {
      "cell_type": "code",
      "execution_count": 9,
      "metadata": {},
      "outputs": [],
      "source": "def f(xy):\n    x, y = xy\n    return array([-y, x])\nt0, x0 = 0.0, array([-1.0, 0.0])\ndt, tf = 0.001, 5.0\nt, x = basic_solve_ivp(f, t0, x0, dt, tf)"
    },
    {
      "cell_type": "markdown",
      "metadata": {},
      "source": "<i class=\"fa fa-area-chart\"></i> Trajectories\n---------------------------------------------\n"
    },
    {
      "cell_type": "code",
      "execution_count": 10,
      "metadata": {},
      "outputs": [],
      "source": "figure()\nplot(t, x[0])\nplot(t, x[1])\ngrid(True)"
    },
    {
      "cell_type": "markdown",
      "metadata": {},
      "source": "<i class=\"fa fa-area-chart\"></i> Trajectories (State Space)\n-----------------------------------------------------------\n"
    },
    {
      "cell_type": "markdown",
      "metadata": {},
      "source": "Represent solutions fragments in the background\n"
    },
    {
      "cell_type": "code",
      "execution_count": 11,
      "metadata": {},
      "outputs": [],
      "source": "figure()\nxs = ys = linspace(-1.5, 1.5, 50)\nstreamplot(*Q(f, xs, ys), color=\"lightgrey\")"
    },
    {
      "cell_type": "markdown",
      "metadata": {},
      "source": "<i class=\"fa fa-area-chart\"></i> \u2026\n----------------------------------\n"
    },
    {
      "cell_type": "code",
      "execution_count": 12,
      "metadata": {},
      "outputs": [],
      "source": "plot(x[0], x[1], \"k\")\nplot(x0[0], x0[1], \"ko\")\ndx = x[0][-1] - x[0][-2]\ndy = x[1][-1] - x[1][-2]\narrow(x[0][-1], x[1][-1], dx, dy, width=0.02, color=\"k\")\ngrid()\naxis(\"equal\")"
    },
    {
      "cell_type": "markdown",
      "metadata": {},
      "source": "Beyond the Basic Solver\n-----------------------\n"
    },
    {
      "cell_type": "markdown",
      "metadata": {},
      "source": "Many issues that our basic solver doesn\u2019t address:\n"
    },
    {
      "cell_type": "markdown",
      "metadata": {},
      "source": "-   time-dependent vector field,\n\n-   error control,\n\n-   dense outputs,\n\n-   and more \u2026\n"
    },
    {
      "cell_type": "markdown",
      "metadata": {},
      "source": "------------------------------------------------------------------------\n"
    },
    {
      "cell_type": "markdown",
      "metadata": {},
      "source": "Instead, use:\n"
    },
    {
      "cell_type": "code",
      "execution_count": 13,
      "metadata": {},
      "outputs": [],
      "source": "from scipy.integrate import solve_ivp"
    },
    {
      "cell_type": "markdown",
      "metadata": {},
      "source": "Documentation:\n[`solve_ivp`](https://docs.scipy.org/doc/scipy/reference/generated/scipy.integrate.solve_ivp.html)\n(Scipy)\n"
    },
    {
      "cell_type": "markdown",
      "metadata": {},
      "source": "<i class=\"fa fa-eye\"></i> IVP / Rotation\n----------------------------------------\n"
    },
    {
      "cell_type": "markdown",
      "metadata": {},
      "source": "Compute the solution $x(t)$ for $t\\in[0,2\\pi]$ of the IVP:\n"
    },
    {
      "cell_type": "markdown",
      "metadata": {},
      "source": "$$\n  \\left|\n  \\begin{split}\n  \\dot{x}_1 &= -x_2 \\\\\n  \\dot{x}_2 &= +x_1\n  \\end{split}\n  \\right.\n  \\; \\mbox{ with } \\;\n  \\left|\n  \\begin{array}{l}\n  x_1(0) = 1\\\\\n  x_2(0) = 0\n  \\end{array}\n  \\right.\n  $$\n"
    },
    {
      "cell_type": "markdown",
      "metadata": {},
      "source": "<i class=\"fa fa-eye\"></i> Solver Interface / Rotation\n-----------------------------------------------------\n"
    },
    {
      "cell_type": "code",
      "execution_count": 14,
      "metadata": {},
      "outputs": [],
      "source": "def fun(t, y):\n    x1, x2 = y\n    return array([-x2, x1])\nt_span = [0.0, 2*pi]\ny0 = [1.0, 0.0]\nresult = solve_ivp(fun=fun, t_span=t_span, y0=y0)"
    },
    {
      "cell_type": "markdown",
      "metadata": {},
      "source": "Result Structure\n----------------\n"
    },
    {
      "cell_type": "markdown",
      "metadata": {},
      "source": "The `result` is a dictionary-like object (a \u201cbunch\u201d).\n"
    },
    {
      "cell_type": "markdown",
      "metadata": {},
      "source": "Its fields:\n"
    },
    {
      "cell_type": "markdown",
      "metadata": {},
      "source": "-   `t` : array, time points, shape `(n_points,)`,\n\n-   `y` : array, values of the solution at t, shape `(n, n_points)`,\n\n-   \u2026\n"
    },
    {
      "cell_type": "markdown",
      "metadata": {},
      "source": "(See [`solve_ivp`\ndocumentation](https://docs.scipy.org/doc/scipy/reference/generated/scipy.integrate.solve_ivp.html))\n"
    },
    {
      "cell_type": "markdown",
      "metadata": {},
      "source": "Non-Autonomous Systems\n----------------------\n"
    },
    {
      "cell_type": "markdown",
      "metadata": {},
      "source": "<i class=\"fa fa-warning\"></i> The solver may apply to systems that are\nnot time-invariant\n"
    },
    {
      "cell_type": "markdown",
      "metadata": {},
      "source": "$$\n  \\dot{y} = f(t, y)\n  $$\n"
    },
    {
      "cell_type": "markdown",
      "metadata": {},
      "source": "The `t` argument in the definition of `fun` is mandatory, even if the\nreturned value doesn\u2019t depend on it (time-invariant system).\n"
    },
    {
      "cell_type": "markdown",
      "metadata": {},
      "source": "------------------------------------------------------------------------\n"
    },
    {
      "cell_type": "code",
      "execution_count": 15,
      "metadata": {},
      "outputs": [],
      "source": "r_t = result[\"t\"]\nx_1 = result[\"y\"][0]\nx_2 = result[\"y\"][1]"
    },
    {
      "cell_type": "markdown",
      "metadata": {},
      "source": "<i class=\"fa fa-area-chart\"></i>\n--------------------------------\n"
    },
    {
      "cell_type": "code",
      "execution_count": 16,
      "metadata": {},
      "outputs": [],
      "source": "figure()\nt = linspace(0, 2*pi, 1000)\nplot(t, cos(t), \"k--\")\nplot(t, sin(t), \"k--\")\nbold = {\"lw\": 2.0, \"ms\": 10.0}\nplot(r_t, x_1, \".-\", label=\"$x_1(t)$\", **bold)\nplot(r_t, x_2, \".-\", label=\"$x_2(t)$\", **bold)\nxlabel(\"$t$\"); grid(); legend()"
    },
    {
      "cell_type": "markdown",
      "metadata": {},
      "source": "------------------------------------------------------------------------\n"
    },
    {
      "cell_type": "markdown",
      "metadata": {},
      "source": "Variable Step Size\n------------------\n"
    },
    {
      "cell_type": "markdown",
      "metadata": {},
      "source": "The step size is:\n"
    },
    {
      "cell_type": "markdown",
      "metadata": {},
      "source": "-   variable: $t_{n+1} - t_n$ may not be constant,\n\n-   automatically selected by the algorithm,\n"
    },
    {
      "cell_type": "markdown",
      "metadata": {},
      "source": "The solver shall meet the user specification, but should select the\nlargest step size to do so to minimize the number of computations.\n"
    },
    {
      "cell_type": "markdown",
      "metadata": {},
      "source": "Optionally, you can specify a `max_step` (default: $+\\infty$).\n"
    },
    {
      "cell_type": "markdown",
      "metadata": {},
      "source": "Error Control\n-------------\n"
    },
    {
      "cell_type": "markdown",
      "metadata": {},
      "source": "We generally want to control the (local) error $e(t)$:\\\nthe difference between the numerical solution and the exact one.\n"
    },
    {
      "cell_type": "markdown",
      "metadata": {},
      "source": "-   `atol` is the **absolute tolerance** (default: $10^{-6}$),\n\n-   `rtol` is the **relative tolerance** (default: $10^{-3}$).\n"
    },
    {
      "cell_type": "markdown",
      "metadata": {},
      "source": "The solver ensures (approximately) that at each step:\n"
    },
    {
      "cell_type": "markdown",
      "metadata": {},
      "source": "$$\n  |e(t)| \\leq \\mathrm{atol} + \\mathrm{rtol} \\times |x(t)|\n  $$\n"
    },
    {
      "cell_type": "markdown",
      "metadata": {},
      "source": "------------------------------------------------------------------------\n"
    },
    {
      "cell_type": "code",
      "execution_count": 17,
      "metadata": {},
      "outputs": [],
      "source": "options = {\n    # at least 20 data points\n    \"max_step\": 2*pi / 20, \n    # standard absolute tolerance\n    \"atol\"    : 1e-6,        \n    # very large relative tolerance\n    \"rtol\"    : 1e9 \n}"
    },
    {
      "cell_type": "markdown",
      "metadata": {},
      "source": "------------------------------------------------------------------------\n"
    },
    {
      "cell_type": "code",
      "execution_count": 18,
      "metadata": {},
      "outputs": [],
      "source": "result = solve_ivp(\n    fun=fun, t_span=t_span, y0=y0, \n    **options\n)\nr_t = result[\"t\"]\nx_1 = result[\"y\"][0]\nx_2 = result[\"y\"][1]"
    },
    {
      "cell_type": "markdown",
      "metadata": {},
      "source": "<i class=\"fa fa-area-chart\"></i>\n--------------------------------\n"
    },
    {
      "cell_type": "code",
      "execution_count": 19,
      "metadata": {},
      "outputs": [],
      "source": "figure()\nt = linspace(0, 2*pi, 20)\nplot(t, cos(t), \"k--\")\nplot(t, sin(t), \"k--\")\nbold = {\"lw\": 2.0, \"ms\": 10.0}\nplot(r_t, x_1, \".-\", label=\"$x_1(t)$\", **bold)\nplot(r_t, x_2, \".-\", label=\"$x_2(t)$\", **bold)\nxlabel(\"$t$\"); grid(); legend()"
    },
    {
      "cell_type": "markdown",
      "metadata": {},
      "source": "------------------------------------------------------------------------\n"
    },
    {
      "cell_type": "markdown",
      "metadata": {},
      "source": "Dense Output\n------------\n"
    },
    {
      "cell_type": "markdown",
      "metadata": {},
      "source": "Using a small `max_step` is usually the wrong way to \u201cget more data\npoints\u201d since this will trigger many (potentially expensive) evaluations\nof `fun`.\n"
    },
    {
      "cell_type": "markdown",
      "metadata": {},
      "source": "Instead, use dense outputs: the solver may return\\\nthe discrete data `result[\"t\"]` and `result[\"y\"]` **and** an approximate\nsolution `result[\"sol\"]` **as a function of `t`** with little extra\ncomputations.\n"
    },
    {
      "cell_type": "markdown",
      "metadata": {},
      "source": "------------------------------------------------------------------------\n"
    },
    {
      "cell_type": "code",
      "execution_count": 20,
      "metadata": {},
      "outputs": [],
      "source": "options = {\n    \"dense_output\": True\n}"
    },
    {
      "cell_type": "markdown",
      "metadata": {},
      "source": "------------------------------------------------------------------------\n"
    },
    {
      "cell_type": "code",
      "execution_count": 21,
      "metadata": {},
      "outputs": [],
      "source": "result = solve_ivp(\n    fun=fun, t_span=t_span, y0=y0, \n    **options\n)\nr_t = result[\"t\"]\nx_1 = result[\"y\"][0]\nx_2 = result[\"y\"][1]\nsol = result[\"sol\"]"
    },
    {
      "cell_type": "markdown",
      "metadata": {},
      "source": "------------------------------------------------------------------------\n"
    },
    {
      "cell_type": "code",
      "execution_count": 22,
      "metadata": {},
      "outputs": [],
      "source": "figure()\nt = linspace(0, 2*pi, 1000)\nplot(t, cos(t), \"k--\")\nplot(t, sin(t), \"k--\")\nbold = {\"lw\": 2.0, \"ms\": 10.0}\nplot(t, sol(t)[0], \"-\", label=\"$x_1(t)$\", **bold)\nplot(t, sol(t)[1], \"-\", label=\"$x_2(t)$\", **bold)\nplot(r_t, x_1, \".\", color=\"C0\", **bold)\nplot(r_t, x_2, \".\", color=\"C1\", **bold)\nxlabel(\"$t$\"); grid(); legend()"
    },
    {
      "cell_type": "markdown",
      "metadata": {},
      "source": "------------------------------------------------------------------------\n"
    },
    {
      "cell_type": "markdown",
      "metadata": {},
      "source": "<!--\n\n--------------------------------------------------------------------------------\n\n    def explicit_euler_step(fun, t, y, step):\n        return y + step * fun(t, y)\n\nExample\n--------------------------------------------------------------------------------\n\n\n----\n\n    class ODEScheme:\n        def __init__(self, fun, t0, y0, max_step, tf):\n            self.fun = fun\n            self.t = t0\n            self.y = y0\n            self.max_step = max_step\n            self.tf = tf\n\n----\n\n    class ExplicitEuler(ODEScheme):\n        def step(self):\n            t_next = min(self.tf, \\\n                         self.t + self.max_step)\n            step = t_next - self.t\n            y_next = explicit_euler_step(self.fun, \\\n                                         self.t,   \\\n                                         self.y,   \\\n                                         step      )\n            self.t = t_next\n            self.y = y_next\n\n\nInterpolation\n--------------------------------------------------------------------------------\n\n    from scipy.interpolate import interp1d\n    def interpolate(ti, yi):\n        def function(t):\n            options = {\"axis\": 0, \\\n                       \"fill_value\": \"extrapolate\"}\n            return interp1d(ti, yi, **options)(t).T\n        return function\n\nExample\n--------------------------------------------------------------------------------\n\n    ti, yi = array([0, 1, 2]), array([1, 2, 1])\n    f = interpolate(ti, yi)\n    t = linspace(-1, 3, 100)\n    y = f(t)\n    figure()\n    plot(ti, yi, \"ko\")\n    plot(t, y, \"k--\")\n\n::: hidden :::::::::::::::::::::::::::::::::::::::::::::::::::::::::::::::::::::\n\n    save(\"images/interpolation\")\n\n::::::::::::::::::::::::::::::::::::::::::::::::::::::::::::::::::::::::::::::::\n\n::: slides :::::::::::::::::::::::::::::::::::::::::::::::::::::::::::::::::::::\n\nResult\n--------------------------------------------------------------------------------\n\n![](images/interpolation.svg)    \n\n::::::::::::::::::::::::::::::::::::::::::::::::::::::::::::::::::::::::::::::::\n\n-----\n\n    def solve_ivp(fun, t_span, y0, \\\n                  max_step=1e-5, \\\n                  dense_output=False, \\\n                  **options):\n        t0, tf = t_span\n        scheme = ExplicitEuler(fun, t0, y0, max_step, tf)\n\n        result = {}\n        t, y = [t0], [y0]\n        try:\n            while t[-1] < tf:\n                scheme.step()\n                t.append(scheme.t)\n                y.append(scheme.y)\n            result[\"success\"] = True\n        except: # too wide. What can happen here ? nan stuff ?\n            result[\"success\"] = False\n        result[\"t\"] = t = array(t)\n        result[\"y\"] = y = array(y)\n        if dense_output:\n            result[\"sol\"] = interpolate(t, y)\n        else:\n            result[\"sol\"] = None\n        return result  \n\n-----\n\n    def fun(t, y):\n        return y\n\n    t0, tf, y0 = 0.0, 5.0, array([1.0])\n    result = solve_ivp(fun, (t0, tf), y0, \\\n                       max_step=0.25, \\\n                       dense_output=True)\n\n------\n\n    td, yd = result[\"t\"], result[\"y\"]\n    t = linspace(t0, tf, 1000)\n    y = result[\"sol\"](t)\n    figure()\n    plot(t, exp(t), \"k\")\n    plot(t, y.T, \"k--\")\n    plot(td, yd, \"k+\")\n\n\n::: hidden :::::::::::::::::::::::::::::::::::::::::::::::::::::::::::::::::::::\n\n    save(\"images/exp\")\n\n::::::::::::::::::::::::::::::::::::::::::::::::::::::::::::::::::::::::::::::::\n\n::: slides :::::::::::::::::::::::::::::::::::::::::::::::::::::::::::::::::::::\n\nResults\n--------------------------------------------------------------------------------\n\n![](images/exp.svg)\n\n::::::::::::::::::::::::::::::::::::::::::::::::::::::::::::::::::::::::::::::::\n\n\n-->\n"
    },
    {
      "cell_type": "markdown",
      "metadata": {},
      "source": "Well-Posedness\n==============\n"
    },
    {
      "cell_type": "markdown",
      "metadata": {},
      "source": "Well-Posedness of an IVP\n------------------------\n"
    },
    {
      "cell_type": "markdown",
      "metadata": {},
      "source": "**Well-Posedness** = Existence + Uniqueness + Continuity\n"
    },
    {
      "cell_type": "markdown",
      "metadata": {},
      "source": "A set of properties that ensures that common problems with IVPs cannot\nhappen.\n"
    },
    {
      "cell_type": "markdown",
      "metadata": {},
      "source": "We are going to detail each property\n"
    },
    {
      "cell_type": "markdown",
      "metadata": {},
      "source": "Preamble: Local vs Global\n-------------------------\n"
    },
    {
      "cell_type": "markdown",
      "metadata": {},
      "source": "So far, we have only dealt with **global** solutions $x(t)$ of IVPs,\ndefined for any $t \\geq t_0$.\n"
    },
    {
      "cell_type": "markdown",
      "metadata": {},
      "source": "This concept is sometimes too stringent.\n"
    },
    {
      "cell_type": "markdown",
      "metadata": {},
      "source": "------------------------------------------------------------------------\n"
    },
    {
      "cell_type": "markdown",
      "metadata": {},
      "source": "Consider for example:\n"
    },
    {
      "cell_type": "markdown",
      "metadata": {},
      "source": "$\\dot{x} = x^2$ and $x(0)=1.$\n"
    },
    {
      "cell_type": "markdown",
      "metadata": {},
      "source": "------------------------------------------------------------------------\n"
    },
    {
      "cell_type": "code",
      "execution_count": 23,
      "metadata": {},
      "outputs": [],
      "source": "def fun(t, y):\n    return y * y\nt0, tf, y0 = 0.0, 3.0, array([1.0])\nresult = solve_ivp(fun, t_span=[t0, tf], y0=y0)\nfigure()\nplot(result[\"t\"], result[\"y\"][0], \"k\")\nxlim(t0, tf); xlabel(\"$t$\"); ylabel(\"$x(t)$\")"
    },
    {
      "cell_type": "markdown",
      "metadata": {},
      "source": "------------------------------------------------------------------------\n"
    },
    {
      "cell_type": "markdown",
      "metadata": {},
      "source": "Ouch.\n"
    },
    {
      "cell_type": "markdown",
      "metadata": {},
      "source": "There is actually no **global** solution.\n"
    },
    {
      "cell_type": "markdown",
      "metadata": {},
      "source": "However there is **local** solution $x(t)$, defined for\n$t \\in \\left[t_0, \\tau\\right[$ for some $\\tau > t_0$.\n"
    },
    {
      "cell_type": "markdown",
      "metadata": {},
      "source": "------------------------------------------------------------------------\n"
    },
    {
      "cell_type": "markdown",
      "metadata": {},
      "source": "Indeed, the function\n"
    },
    {
      "cell_type": "markdown",
      "metadata": {},
      "source": "$$\nx(t) = \\frac{1}{1 - t}\n$$\n"
    },
    {
      "cell_type": "markdown",
      "metadata": {},
      "source": "satisfies\n"
    },
    {
      "cell_type": "markdown",
      "metadata": {},
      "source": "$$\n\\dot{x}(t) = \\frac{d}{dt} x(t) = -\\frac{-1}{(1 - t)^2} \n=  (x(t))^2.\n$$\n"
    },
    {
      "cell_type": "markdown",
      "metadata": {},
      "source": "But it\u2019s defined only for $t<1.$\n"
    },
    {
      "cell_type": "markdown",
      "metadata": {},
      "source": "<i class=\"fa fa-area-chart\"></i>\n--------------------------------\n"
    },
    {
      "cell_type": "code",
      "execution_count": 24,
      "metadata": {},
      "outputs": [],
      "source": "tf = 1.0\nresult = solve_ivp(fun, t_span=[t0, tf], y0=y0, max_step=0.01)\nfigure()\nplot(result[\"t\"], result[\"y\"][0], \"k\")\nylim(0.0, 10.0); grid(); xlabel(\"$t$\"); ylabel(\"$x(t)$\")"
    },
    {
      "cell_type": "markdown",
      "metadata": {},
      "source": "------------------------------------------------------------------------\n"
    },
    {
      "cell_type": "markdown",
      "metadata": {},
      "source": "This local solution is also **maximal**:\n"
    },
    {
      "cell_type": "markdown",
      "metadata": {},
      "source": "You cannot extend this solution beyond $\\tau=1.0$.\n"
    },
    {
      "cell_type": "markdown",
      "metadata": {},
      "source": "<i class=\"fa fa-question-circle-o\"></i> \u2013 Local/Maximal Solution\n----------------------------------------------------------------\n"
    },
    {
      "cell_type": "markdown",
      "metadata": {},
      "source": "-   \\[<i class=\"fa fa-superscript\"></i>\\] Find a local solution $x(t)$\n    of $\\dot{x} = x^2$ such that $x(0) = x_0$ under the assumption that\n    $x(t) \\neq 0$ when $t\\geq 0$.\n\n    <i class=\"fa fa-key\"></i> **Hint:** compute $d(1/x(t))/dt.$\n\n-   \\[<i class=\"fa fa-lightbulb-o\"></i>\\] Find for every $x_0 \\neq 0$ a\n    maximal solution. When is it global?\n"
    },
    {
      "cell_type": "markdown",
      "metadata": {},
      "source": "Bad News (1/3)\n--------------\n"
    },
    {
      "cell_type": "markdown",
      "metadata": {},
      "source": "Sometimes things get worse than simply having no global solution.\n"
    },
    {
      "cell_type": "markdown",
      "metadata": {},
      "source": "<i class=\"fa fa-eye\"></i> \u2013 No Local Solution\n---------------------------------------------\n"
    },
    {
      "cell_type": "markdown",
      "metadata": {},
      "source": "Consider the scalar IVP with initial value $x(0) = (0,0)$ and right-hand\nside\n"
    },
    {
      "cell_type": "markdown",
      "metadata": {},
      "source": "$$\n  f(x_1,x_2) = \n  \\left|\n  \\begin{array}{rl}\n  (+1,0) & \\mbox{if } \\; x_1< 0 \\\\\n  (-1,0) & \\mbox{if } \\; x_1 \\geq 0.\n  \\end{array}\n  \\right.\n  $$\n"
    },
    {
      "cell_type": "markdown",
      "metadata": {},
      "source": "<i class=\"fa fa-area-chart\"></i> \u2013 No Local Solution\n----------------------------------------------------\n"
    },
    {
      "cell_type": "code",
      "execution_count": 25,
      "metadata": {},
      "outputs": [],
      "source": "def f(x1x2):\n    x1, x2 = x1x2\n    dx1 = 1.0 if x1 < 0.0 else -1.0\n    return array([dx1, 0.0])\nfigure()\nx1 = x2 = linspace(-1.0, 1.0, 20)\ngca().set_aspect(1.0); grid(True)\nquiver(*Q(f, x1, x2), color=\"k\") "
    },
    {
      "cell_type": "markdown",
      "metadata": {},
      "source": "<i class=\"fa fa-lightbulb-o\"></i> \u2013 No Local Solution\n-----------------------------------------------------\n"
    },
    {
      "cell_type": "markdown",
      "metadata": {},
      "source": "This system has no solution, not even a local one, when $x(0) = (0,0)$.\n"
    },
    {
      "cell_type": "markdown",
      "metadata": {},
      "source": "Proof\n-----\n"
    },
    {
      "cell_type": "markdown",
      "metadata": {},
      "source": "-   Assume that $x: [0, \\tau[ \\to \\mathbb{R}$ is a local solution.\n\n-   Since $\\dot{x}(0) = -1 < 0$, for some small enough\n    $0 < \\epsilon < \\tau$ and any $t \\in \\left]0, \\epsilon\\right]$, we\n    have $x(t) < 0$.\n\n-   Consequently, $\\dot{x}(t) = +1$ and thus by integration\n\n    $$\n    x(\\epsilon) =  x(0) + \\int_0^{\\epsilon} \\dot{x}(t) \\, dt = \\epsilon > 0,\n    $$\n\n    which is a contradiction.\n"
    },
    {
      "cell_type": "markdown",
      "metadata": {},
      "source": "Good News (1/3)\n---------------\n"
    },
    {
      "cell_type": "markdown",
      "metadata": {},
      "source": "However, a local solution exists under very mild assumptions.\n"
    },
    {
      "cell_type": "markdown",
      "metadata": {},
      "source": "Existence\n---------\n"
    },
    {
      "cell_type": "markdown",
      "metadata": {},
      "source": "If $f$ is continuous,\n"
    },
    {
      "cell_type": "markdown",
      "metadata": {},
      "source": "-   There is a (at least one) local solution to the IVP\n\n    $\\dot{x} = f(x)$ and $x(t_0) = x_0$.\n\n-   Any local solution on some $\\left[t_0, \\tau \\right[$ can be extended\n    to a (at least one) maximal one on some\n    $\\left[t_0, t_{\\infty}\\right[$.\n"
    },
    {
      "cell_type": "markdown",
      "metadata": {},
      "source": "**Note.** A maximal solution is global iff $t_{\\infty} = +\\infty$.\n"
    },
    {
      "cell_type": "markdown",
      "metadata": {},
      "source": "Maximal Solutions\n-----------------\n"
    },
    {
      "cell_type": "markdown",
      "metadata": {},
      "source": "A local solution on $\\left[t_0, \\tau \\right[$ is maximal when\n"
    },
    {
      "cell_type": "markdown",
      "metadata": {},
      "source": "$$\n  \\lim_{t \\to \\tau} \\|x(t)\\| = +\\infty.\n  $$\n"
    },
    {
      "cell_type": "markdown",
      "metadata": {},
      "source": "Corollary\n---------\n"
    },
    {
      "cell_type": "markdown",
      "metadata": {},
      "source": "If any **potential** local solution $x(t)$ defined on\n$\\left[t_0, \\tau\\right[$ is **locally bounded** on this interval(\\*)\nthen such a solution exists.\n"
    },
    {
      "cell_type": "markdown",
      "metadata": {},
      "source": "(\\*): bounded on any $[t_0, s] \\subset \\left[t_0, \\tau \\right[$.\n"
    },
    {
      "cell_type": "markdown",
      "metadata": {},
      "source": "<i class=\"fa fa-question-circle-o\"></i> \u2013 Existence / Sigmoid\n-------------------------------------------------------------\n"
    },
    {
      "cell_type": "markdown",
      "metadata": {},
      "source": "Consider\n"
    },
    {
      "cell_type": "markdown",
      "metadata": {},
      "source": "$$\n  \\dot{x} = \\frac{1}{1 + e^{-x}} \\mbox{ with } x(0) = x_0 \\in \\mathbb{R}\n  $$\n"
    },
    {
      "cell_type": "markdown",
      "metadata": {},
      "source": "-   \\[</i><i class=\"fa fa-superscript\"></i>\\] Show that there is a (at\n    least one) maximal solution.\n\n-   \\[<i class=\"fa fa-superscript\"></i>\\] Show that any such solution is\n    global.\n"
    },
    {
      "cell_type": "markdown",
      "metadata": {},
      "source": "<i class=\"fa fa-question-circle-o\"></i> \u2013 Existence / Linear Systems\n--------------------------------------------------------------------\n"
    },
    {
      "cell_type": "markdown",
      "metadata": {},
      "source": "Let $A \\in \\mathbb{R}^{n \\times n}$ and $x_0 \\in \\mathbb{R}^n$. Consider\n$$\n  \\dot{x} = A x \\; \\mbox{ and } \\; x(0) = x_0\n  $$\n"
    },
    {
      "cell_type": "markdown",
      "metadata": {},
      "source": "<i class=\"fa fa-bullseye\"></i> **Aim.** Show that any maximal solution\nis global.\n"
    },
    {
      "cell_type": "markdown",
      "metadata": {},
      "source": "------------------------------------------------------------------------\n"
    },
    {
      "cell_type": "markdown",
      "metadata": {},
      "source": "-   \\[</i><i class=\"fa fa-superscript\"></i>\\] Show that\n    $y(t) = \\|x(t)\\|^2$ is differentiable and satisfies $y(t) \\geq 0$\n    and $\\dot{y}(t) \\leq \\alpha y(t)$ for some $\\alpha \\geq 0$.\n\n-   \\[</i><i class=\"fa fa-superscript\"></i>\\] Compute the derivative of\n    $y(t) e^{-\\alpha t}$ and conclude that\n    $0 \\leq y(t) \\leq y(0) e^{\\alpha t}$.\n\n-   \\[</i><i class=\"fa fa-superscript\"></i>\\] Prove that any maximal\n    solution $x(t)$ of the initial IVP is global.\n"
    },
    {
      "cell_type": "markdown",
      "metadata": {},
      "source": "Bad News (2/3)\n--------------\n"
    },
    {
      "cell_type": "markdown",
      "metadata": {},
      "source": "Uniqueness of solutions, even the maximal ones, is not granted either.\n"
    },
    {
      "cell_type": "markdown",
      "metadata": {},
      "source": "(Note: why does uniqueness of local solution does not make sense?)\n"
    },
    {
      "cell_type": "markdown",
      "metadata": {},
      "source": "<i class=\"fa fa-eye\"></i> \u2013 Non-Uniqueness\n------------------------------------------\n"
    },
    {
      "cell_type": "markdown",
      "metadata": {},
      "source": "The IVP\n"
    },
    {
      "cell_type": "markdown",
      "metadata": {},
      "source": "$\\dot{x} = \\sqrt{x}$, $x(0) = 0$\n"
    },
    {
      "cell_type": "markdown",
      "metadata": {},
      "source": "has several maximal (global) solutions.\n"
    },
    {
      "cell_type": "markdown",
      "metadata": {},
      "source": "Proof\n-----\n"
    },
    {
      "cell_type": "markdown",
      "metadata": {},
      "source": "For any $\\tau \\geq 0$, $x_{\\tau}$ is a solution:\n"
    },
    {
      "cell_type": "markdown",
      "metadata": {},
      "source": "$$\nx_{\\tau}(t) = \n\\left| \n\\begin{array}{ll}\n0 & \\mbox{if} \\; t \\leq \\tau, \\\\\n1/4 \\times (t-\\tau)^2 & \\mbox{if} \\; t > \\tau.\n\\end{array}\n\\right.\n$$\n"
    },
    {
      "cell_type": "markdown",
      "metadata": {},
      "source": "Good News (2/3)\n---------------\n"
    },
    {
      "cell_type": "markdown",
      "metadata": {},
      "source": "However, uniqueness of maximal solution holds under mild assumptions.\n"
    },
    {
      "cell_type": "markdown",
      "metadata": {},
      "source": "Uniqueness\n----------\n"
    },
    {
      "cell_type": "markdown",
      "metadata": {},
      "source": "If $\\partial f/\\partial x$ exists and is continuous,\\\nthe maximal solution is unique.\n"
    },
    {
      "cell_type": "markdown",
      "metadata": {},
      "source": "Bad News (3/3)\n--------------\n"
    },
    {
      "cell_type": "markdown",
      "metadata": {},
      "source": "An infinitely small error in the initial value could result in a finite\nerror in the solution, even in finite time.\n"
    },
    {
      "cell_type": "markdown",
      "metadata": {},
      "source": "That would undermine the utility of any approximation method.\n"
    },
    {
      "cell_type": "markdown",
      "metadata": {},
      "source": "Good News (3/3)\n---------------\n"
    },
    {
      "cell_type": "markdown",
      "metadata": {},
      "source": "However, continuity wrt the initial value holds under mild assumptions.\n"
    },
    {
      "cell_type": "markdown",
      "metadata": {},
      "source": "Continuity w.r.t. the Initial State\n-----------------------------------\n"
    },
    {
      "cell_type": "markdown",
      "metadata": {},
      "source": "Assume that $\\partial f / \\partial x$ exists and is continuous.\n"
    },
    {
      "cell_type": "markdown",
      "metadata": {},
      "source": "If $x(t, x_0)$ is defined on $[t_0, \\tau]$ and $t\\in [t_0, \\tau]$:\n"
    },
    {
      "cell_type": "markdown",
      "metadata": {},
      "source": "$$\nx(t, y) \\to x(t, x_0) \\; \\mbox{when} \\; y \\to x_0\n$$\n"
    },
    {
      "cell_type": "markdown",
      "metadata": {},
      "source": "This convergence t is uniform w.r.t. $t \\in [t_0, \\tau]$.\n"
    },
    {
      "cell_type": "markdown",
      "metadata": {},
      "source": "<i class=\"fa fa-eye\"></i> Continuity / Prey-Predator\n----------------------------------------------------\n"
    },
    {
      "cell_type": "code",
      "execution_count": 26,
      "metadata": {},
      "outputs": [],
      "source": "alpha = 2 / 3; beta = 4 / 3; delta = gamma = 1.0\ndef f(t, y):\n    x, y = y \n    u = alpha * x - beta * x * y\n    v = delta * x * y - gamma * y\n    return array([u, v])"
    },
    {
      "cell_type": "markdown",
      "metadata": {},
      "source": "------------------------------------------------------------------------\n"
    },
    {
      "cell_type": "code",
      "execution_count": 27,
      "metadata": {},
      "outputs": [],
      "source": "tf = 3.0\nresult = solve_ivp(f, t_span=[0.0, tf], y0=[1.5, 1.5], max_step=0.01)\nx = result[\"y\"][0]\ny = result[\"y\"][1]"
    },
    {
      "cell_type": "markdown",
      "metadata": {},
      "source": "<i class=\"fa fa-area-chart\"></i>\n--------------------------------\n"
    },
    {
      "cell_type": "code",
      "execution_count": 28,
      "metadata": {},
      "outputs": [],
      "source": "figure(); ax = gca()\nxr = yr = linspace(0.0, 2.0, 1000)\nstreamplot(*Q(lambda y: f(0,y), xr, yr), color=\"grey\")\nfor xy in zip(x, y):\n    x_, y_ = xy\n    ax.add_artist(Circle((x_, y_), 0.2, color=\"#d3d3d3\"))\nax.add_artist(Circle((x[0], y[0]), 0.1, color=\"#808080\"))\nplot(x, y, \"k\")"
    },
    {
      "cell_type": "markdown",
      "metadata": {},
      "source": "<i class=\"fa fa-area-chart\"></i>\n--------------------------------\n"
    },
    {
      "cell_type": "code",
      "execution_count": 29,
      "metadata": {},
      "outputs": [],
      "source": "result = solve_ivp(f, t_span=[0.0, tf], y0=[1.5, 1.575], max_step=0.01)\nx = result[\"y\"][0]\ny = result[\"y\"][1]\nplot(x, y, \"k--\")\naxis([0,2,0,2]); axis(\"square\")"
    },
    {
      "cell_type": "markdown",
      "metadata": {},
      "source": "------------------------------------------------------------------------\n"
    },
    {
      "cell_type": "markdown",
      "metadata": {},
      "source": "### <i class=\"fa fa-question-circle-o\"></i> \u2013 Continuity / Initial Value\n"
    },
    {
      "cell_type": "markdown",
      "metadata": {},
      "source": "Let $h \\geq 0$ and $x^h(t)$ be the solution of $\\dot{x} = x$ and\n$x^h(0) = 1+ h$.\n"
    },
    {
      "cell_type": "markdown",
      "metadata": {},
      "source": "-   \\[<i class=\"fa fa-superscript\"></i>\\]. Let $\\epsilon > 0$; find the\n    smallest $\\delta > 0$ such that $|h| < \\delta$ ensures that\n    $$\\mbox{for any $t \\in [t_0, \\tau]$}, |x^{h}(t) - x^0(t)| < \\epsilon$$\n"
    },
    {
      "cell_type": "markdown",
      "metadata": {},
      "source": "------------------------------------------------------------------------\n"
    },
    {
      "cell_type": "markdown",
      "metadata": {},
      "source": "-   \\[<i class=\"fa fa-superscript\"></i>\\]. What is the behavior of\n    $\\delta$ when $\\tau$ goes to infinity?\n"
    },
    {
      "cell_type": "markdown",
      "metadata": {},
      "source": "<i class=\"fa fa-question-circle-o\"></i> \u2013 Continuity / Initial Value\n--------------------------------------------------------------------\n"
    },
    {
      "cell_type": "markdown",
      "metadata": {},
      "source": "Consider $\\dot{x} = \\sqrt{|x|}$, $x(0)=x_0$.\n"
    },
    {
      "cell_type": "markdown",
      "metadata": {},
      "source": "-   \\[<i class=\"fa fa-laptop\"></i>\\] Solve numerically this IVP for\n    $t \\in [0,1]$ and $x_0 = 0$. Then, solve it again for $x_0 = 0.1$,\n    $x_0=0.01$, etc.\n\n-   \\[<i class=\"fa fa-flask\"></i>\\] Does the solution seem to be\n    continuous with respect to the initial value?\n\n-   \\[<i class=\"fa fa-lightbulb-o\"></i>\\] Explain this experimental\n    result.\n"
    },
    {
      "cell_type": "markdown",
      "metadata": {},
      "source": "<i class=\"fa fa-question-circle-o\"></i> \u2013 Well-Posedness / Prey-Predator\n------------------------------------------------------------------------\n"
    },
    {
      "cell_type": "markdown",
      "metadata": {},
      "source": "Let\n"
    },
    {
      "cell_type": "markdown",
      "metadata": {},
      "source": "$$\n\\begin{array}{rcl}\n\\dot{x} &=& \\alpha x - \\beta xy \\\\\n\\dot{y} &=& \\delta x y - \\gamma y \\\\\n\\end{array}\n$$\n"
    },
    {
      "cell_type": "markdown",
      "metadata": {},
      "source": "with $\\alpha = 2 / 3$, $\\beta = 4 / 3$, $\\delta = \\gamma = 1.0$.\n"
    },
    {
      "cell_type": "markdown",
      "metadata": {},
      "source": "------------------------------------------------------------------------\n"
    },
    {
      "cell_type": "markdown",
      "metadata": {},
      "source": "-   \\[<i class=\"fa fa-lightbulb-o\"></i>\\] Show that the system is\n    well-posed.\n\n-   \\[<i class=\"fa fa-lightbulb-o\"></i>,\n    <i class=\"fa fa-superscript\"></i>\\] Show that if $x(0) > 0$ and\n    $y(0) > 0$, the maximal solution is global.\n\n    <i class=\"fa fa-key\"></i> **Hint.** Compute $$\n    d/dt(\\delta x - \\gamma \\ln x +\\beta y - \\alpha \\ln y)\n    $$\n"
    },
    {
      "cell_type": "markdown",
      "metadata": {},
      "source": "Asymptotic Behavior\n===================\n"
    },
    {
      "cell_type": "markdown",
      "metadata": {},
      "source": "------------------------------------------------------------------------\n"
    },
    {
      "cell_type": "markdown",
      "metadata": {},
      "source": "Asymptotic = Long-Term: when $t \\to + \\infty$\n"
    },
    {
      "cell_type": "markdown",
      "metadata": {},
      "source": "(note: from now on, all systems are well-posed.)\n"
    },
    {
      "cell_type": "markdown",
      "metadata": {},
      "source": "Lorenz System\n-------------\n"
    },
    {
      "cell_type": "markdown",
      "metadata": {},
      "source": "$$\n  \\begin{array}{lll}\n  \\dot{x} &=& \\sigma (y - x) \\\\\n  \\dot{y} &=& x (\\rho - z) \\\\\n  \\dot{z} &=& xy - \\beta z \n  \\end{array}\n  $$\n"
    },
    {
      "cell_type": "markdown",
      "metadata": {},
      "source": "------------------------------------------------------------------------\n"
    },
    {
      "cell_type": "markdown",
      "metadata": {},
      "source": "[![](images/static/lorenz-attractor.png)](https://portsmouth.github.io/fibre/?settings=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%3D)\n"
    },
    {
      "cell_type": "markdown",
      "metadata": {},
      "source": "Visualized with [Fibre](https://github.com/portsmouth/fibre)\n"
    },
    {
      "cell_type": "markdown",
      "metadata": {},
      "source": "Hadley System\n-------------\n"
    },
    {
      "cell_type": "markdown",
      "metadata": {},
      "source": "$$\n  \\begin{array}{lll}\n  \\dot{x} &=& -y^2 - z^2 - ax + af\\\\\n  \\dot{y} &=& xy - b xz - y + g \\\\\n  \\dot{z} &=& bxy + xz - z\n  \\end{array}\n  $$\n"
    },
    {
      "cell_type": "markdown",
      "metadata": {},
      "source": "------------------------------------------------------------------------\n"
    },
    {
      "cell_type": "markdown",
      "metadata": {},
      "source": "[![](images/static/hadley-attractor.png)](https://portsmouth.github.io/fibre/?settings=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%3D%3D)\n"
    },
    {
      "cell_type": "markdown",
      "metadata": {},
      "source": "Visualized with [Fibre](https://github.com/portsmouth/fibre)\n"
    },
    {
      "cell_type": "markdown",
      "metadata": {},
      "source": "Equilibrium\n-----------\n"
    },
    {
      "cell_type": "markdown",
      "metadata": {},
      "source": "An **equilibrium** of system $\\dot{x} = f(x)$ is a state $x_e$ such that\nthe maximal solution of this system such that $x(0) = x_e$ is\n$x(t) = x_e$ for any $t > 0$.\n"
    },
    {
      "cell_type": "markdown",
      "metadata": {},
      "source": "The state $x_e$ is an equilibrium if and only if $f(x_e) = 0$.\n"
    },
    {
      "cell_type": "markdown",
      "metadata": {},
      "source": "------------------------------------------------------------------------\n"
    },
    {
      "cell_type": "markdown",
      "metadata": {},
      "source": "### <i class=\"fa fa-question-circle-o\"></i> \u2013 Equilibrium / Pendulum\n"
    },
    {
      "cell_type": "markdown",
      "metadata": {},
      "source": "**Reminder:** the pendulum is governed by the equation\n"
    },
    {
      "cell_type": "markdown",
      "metadata": {},
      "source": "$$\n  m \\ell^2 \\ddot{\\theta} + b \\dot{\\theta} + m g \\ell \\sin \\theta = 0\n  $$\n"
    },
    {
      "cell_type": "markdown",
      "metadata": {},
      "source": "-   \\[<i class=\"fa fa-superscript\"></i>\\] Find the equilibriums of this\n    dynamics.\n"
    },
    {
      "cell_type": "markdown",
      "metadata": {},
      "source": "Stability\n---------\n"
    },
    {
      "cell_type": "markdown",
      "metadata": {},
      "source": "About the long-term behavior of solutions.\n"
    },
    {
      "cell_type": "markdown",
      "metadata": {},
      "source": "-   \u201cStability\u201d subtle concept,\n\n-   \u201cAsymptotic Stability\u201d simpler (and stronger),\n\n-   \u201cAttractivity\u201d simpler yet, (but often too weak).\n"
    },
    {
      "cell_type": "markdown",
      "metadata": {},
      "source": "Attractivity\n------------\n"
    },
    {
      "cell_type": "markdown",
      "metadata": {},
      "source": "Consider a well-posed ODE $\\dot{x} = f(x)$.\n"
    },
    {
      "cell_type": "markdown",
      "metadata": {},
      "source": "An equilibrium $x_e$ is:\n"
    },
    {
      "cell_type": "markdown",
      "metadata": {},
      "source": "-   **globally attractive** if for every $x_0$, the maximal solution\n    $x(t)$ of the IVP with $x(0)=x_0$ exists for any $t\\geq 0$ and $$\n      \\lim_{t \\to +\\infty} x(t) = x_e.\n      $$\n\n-   **locally attractive** if this property holds when $x_0$ is\n    sufficiently close to the equilibrium $x_e$.\n"
    },
    {
      "cell_type": "markdown",
      "metadata": {},
      "source": "------------------------------------------------------------------------\n"
    },
    {
      "cell_type": "code",
      "execution_count": 30,
      "metadata": {},
      "outputs": [],
      "source": "def f(xy):\n    x, y = xy\n    dx = -2*x + y\n    dy = -2*y + x\n    return array([dx, dy])"
    },
    {
      "cell_type": "markdown",
      "metadata": {},
      "source": "<i class=\"fa fa-area-chart\"></i>\n--------------------------------\n"
    },
    {
      "cell_type": "code",
      "execution_count": 31,
      "metadata": {},
      "outputs": [],
      "source": "figure()\nx = y = linspace(-5.0, 5.0, 1000)\nstreamplot(*Q(f, x, y), color=\"k\") \nplot([0], [0], \"k.\", ms=10.0)"
    },
    {
      "cell_type": "markdown",
      "metadata": {},
      "source": "Globally Attractive\n-------------------\n"
    },
    {
      "cell_type": "markdown",
      "metadata": {},
      "source": "------------------------------------------------------------------------\n"
    },
    {
      "cell_type": "code",
      "execution_count": 32,
      "metadata": {},
      "outputs": [],
      "source": "def f(xy):\n    x, y = xy\n    dx = -2*x + y**3\n    dy = -2*y + x**3\n    return array([dx, dy])"
    },
    {
      "cell_type": "markdown",
      "metadata": {},
      "source": "<i class=\"fa fa-area-chart\"></i>\n--------------------------------\n"
    },
    {
      "cell_type": "code",
      "execution_count": 33,
      "metadata": {},
      "outputs": [],
      "source": "figure()\nx = y = linspace(-5.0, 5.0, 1000)\nstreamplot(*Q(f, x, y), color=\"k\") \nplot([0], [0], \"k.\", ms=10.0)"
    },
    {
      "cell_type": "markdown",
      "metadata": {},
      "source": "Locally Attractive\n------------------\n"
    },
    {
      "cell_type": "markdown",
      "metadata": {},
      "source": "------------------------------------------------------------------------\n"
    },
    {
      "cell_type": "markdown",
      "metadata": {},
      "source": "### <i class=\"fa fa-question-circle-o\"></i> \u2013 Equilibrium / Stability\n"
    },
    {
      "cell_type": "markdown",
      "metadata": {},
      "source": "Consider a pendulum with a coefficient of friction $b$.\n"
    },
    {
      "cell_type": "markdown",
      "metadata": {},
      "source": "-   \\[<i class=\"fa fa-gears\"></i>\\] Is any equilibrium globally\n    attractive?\n\n-   \\[<i class=\"fa fa-flask\"></i>, <i class=\"fa fa-area-chart\"></i>\\]\n\n    -   Assume that $b>0$. Determine graphically the equilibriums which\n        are locally attractive.\n\n    -   What happens when $b=0$?\n"
    },
    {
      "cell_type": "markdown",
      "metadata": {},
      "source": "------------------------------------------------------------------------\n"
    },
    {
      "cell_type": "markdown",
      "metadata": {},
      "source": "-   \\[<i class=\"fa fa-gears\"></i>, <i class=\"fa fa-superscript\"></i>\\]\n    Prove that no equilibrium is locally attractive when $k=0$.\n\n    <i class=\"fa fa-key\"></i> **Hint:** study the evolution in time $$\n      E = J \\dot{\\theta}^2 / 2 - m g\\ell \\cos \\theta,\n      $$ with $J = m\\ell^2$, the total mechanical energy of the\n    pendulum.\n"
    },
    {
      "cell_type": "markdown",
      "metadata": {},
      "source": "Attractivity\n------------\n"
    },
    {
      "cell_type": "markdown",
      "metadata": {},
      "source": "The equilibrium $x_e$ is globally attractive iff:\n"
    },
    {
      "cell_type": "markdown",
      "metadata": {},
      "source": "-   for any $x_0$ and for any $\\epsilon > 0$, there is a $\\tau \\geq 0$\n    such that the maximal solution $x(t)$ such that $x(0) = x_0$ exists\n    for all $t \\geq 0$ and satisfies:\n\n    $$\n    \\|x(t) - x_e\\| \\leq \\epsilon \\; \\mbox{ when } \\; t \\geq \\tau.\n    $$\n"
    },
    {
      "cell_type": "markdown",
      "metadata": {},
      "source": "<i class=\"fa fa-warning\"></i>\n-----------------------------\n"
    },
    {
      "cell_type": "markdown",
      "metadata": {},
      "source": "-   Very close values of $x(0)$ could lead to very different \u201cspeed of\n    convergence\u201d towards the equilibrium.\n\n-   This is not contradictory with the well-posedness assumption:\n    continuity w.r.t. the initial condition only works with finite time\n    spans.\n"
    },
    {
      "cell_type": "markdown",
      "metadata": {},
      "source": "Example\n-------\n"
    },
    {
      "cell_type": "markdown",
      "metadata": {},
      "source": "$$\n  \\left|\n  \\begin{array}{lll}\n  \\dot{x} &=& x + xy - (x + y)\\sqrt{x^2 + y^2} \\\\\n  \\dot{y} &=& y - x^2 + (x - y) \\sqrt{x^2 + y^2}\n  \\end{array}\n  \\right.\n  $$\n"
    },
    {
      "cell_type": "markdown",
      "metadata": {},
      "source": "------------------------------------------------------------------------\n"
    },
    {
      "cell_type": "markdown",
      "metadata": {},
      "source": "Equivalently, in polar coordinates:\n"
    },
    {
      "cell_type": "markdown",
      "metadata": {},
      "source": "$$\n  \\left|\n  \\begin{array}{lll}\n  \\dot{r} &=& r (1 - r) \\\\\n  \\dot{\\theta} &=& r (1 - \\cos \\theta)\n  \\end{array}\n  \\right.\n  $$\n"
    },
    {
      "cell_type": "markdown",
      "metadata": {},
      "source": "Stream Plot\n-----------\n"
    },
    {
      "cell_type": "code",
      "execution_count": 34,
      "metadata": {},
      "outputs": [],
      "source": "def f(xy):\n    x, y = xy\n    r = sqrt(x*x + y*y)\n    dx = x + x * y - (x + y) * r\n    dy = y - x * x + (x - y) * r\n    return [dx, dy]"
    },
    {
      "cell_type": "markdown",
      "metadata": {},
      "source": "------------------------------------------------------------------------\n"
    },
    {
      "cell_type": "code",
      "execution_count": 35,
      "metadata": {},
      "outputs": [],
      "source": "figure()\nx = y = linspace(-2.0, 2.0, 1000)\nstreamplot(*Q(f, x, y), color=\"k\") \nplot([1], [0], \"k.\", ms=10.0)"
    },
    {
      "cell_type": "markdown",
      "metadata": {},
      "source": "------------------------------------------------------------------------\n"
    },
    {
      "cell_type": "markdown",
      "metadata": {},
      "source": "------------------------------------------------------------------------\n"
    },
    {
      "cell_type": "markdown",
      "metadata": {},
      "source": "First, make sure that the right-hand side is time-dependent:\n"
    },
    {
      "cell_type": "code",
      "execution_count": 36,
      "metadata": {},
      "outputs": [],
      "source": "def fun(t, y):\n    return f(y)"
    },
    {
      "cell_type": "markdown",
      "metadata": {},
      "source": "------------------------------------------------------------------------\n"
    },
    {
      "cell_type": "markdown",
      "metadata": {},
      "source": "Then, pick a large time span and an initial state just above the\nequilibrium $(1.0, 0.0)$:\n"
    },
    {
      "cell_type": "code",
      "execution_count": 37,
      "metadata": {},
      "outputs": [],
      "source": "t_span = (0.0, 600.0)\ntheta_0 = 2 * pi / 1000\ny0 = [cos(theta_0), sin(theta_0)]"
    },
    {
      "cell_type": "markdown",
      "metadata": {},
      "source": "------------------------------------------------------------------------\n"
    },
    {
      "cell_type": "code",
      "execution_count": 38,
      "metadata": {},
      "outputs": [],
      "source": "y = solve_ivp(fun, t_span, y0=y0, dense_output=True).sol\nt = linspace(t_span[0], t_span[-1], 1000)"
    },
    {
      "cell_type": "markdown",
      "metadata": {},
      "source": "<i class=\"fa fa-area-chart\"></i>\n--------------------------------\n"
    },
    {
      "cell_type": "markdown",
      "metadata": {},
      "source": "Plot the distance to the equilibrium as a function of time.\n"
    },
    {
      "cell_type": "code",
      "execution_count": 39,
      "metadata": {},
      "outputs": [],
      "source": "figure()\nx1, x2 = y(t)[0], y(t)[1]\nplot(t, (sqrt((x1-1.0)**2 + x2**2)))\ngrid()\nxlabel(\"$t$\")"
    },
    {
      "cell_type": "markdown",
      "metadata": {},
      "source": "------------------------------------------------------------------------\n"
    },
    {
      "cell_type": "markdown",
      "metadata": {},
      "source": "Asymptotic Stability\n--------------------\n"
    },
    {
      "cell_type": "markdown",
      "metadata": {},
      "source": "Asymptotic stability is a stronger version of attractivity which is by\ndefinition robust with respect to the choice of the initial state.\n"
    },
    {
      "cell_type": "markdown",
      "metadata": {},
      "source": "Global Asymptotic Stability\n---------------------------\n"
    },
    {
      "cell_type": "markdown",
      "metadata": {},
      "source": "The equilibrium $x_e$ is **globally asymptotically stable** if:\n"
    },
    {
      "cell_type": "markdown",
      "metadata": {},
      "source": "-   for any $x_0$ and for any $\\epsilon > 0$, there is a $\\tau \\geq 0$\n    **and a $r > 0$ such that if $\\|x_1 - x_0\\| \\leq r$**, the maximal\n    solution $x(t)$ **such that $x(0) = x_1$** exists for all $t \\geq 0$\n    and satisfies:\n\n    $$\n    \\|x(t) - x_e\\| \\leq \\epsilon \\; \\mbox{ when } \\; t \\geq \\tau.\n    $$\n"
    },
    {
      "cell_type": "markdown",
      "metadata": {},
      "source": "------------------------------------------------------------------------\n"
    },
    {
      "cell_type": "markdown",
      "metadata": {},
      "source": "Equivalently:\n"
    },
    {
      "cell_type": "markdown",
      "metadata": {},
      "source": "-   **for any $r>0$**, for any $\\epsilon > 0$, there is a $\\tau \\geq 0$\n    such the maximal solution $x(t)$ **such that\n    $\\|x(0) - x_e\\| \\leq r$** exists for all $t \\geq 0$ and satisfies:\n\n    $$\n    \\|x(t) - x_e\\| \\leq \\epsilon \\; \\mbox{ when } \\; t \\geq \\tau.\n    $$\n"
    },
    {
      "cell_type": "markdown",
      "metadata": {},
      "source": "G.A.S. in Plain Words\n---------------------\n"
    },
    {
      "cell_type": "markdown",
      "metadata": {},
      "source": "-   Pick any bounded set $B$ in $\\mathbb{R}^n$.\n\n-   Consider each point of the set as an initial value $x(0)$, compute\n    $x(t)$. The set of all $x(t)$ is $B_t$.\n\n-   The set $B_t$ will eventually fit into an arbitrarily small\n    neighbourghood of $x_e$ when $t \\to +\\infty$.\n"
    },
    {
      "cell_type": "markdown",
      "metadata": {},
      "source": "Local Asymptotic Stability\n--------------------------\n"
    },
    {
      "cell_type": "markdown",
      "metadata": {},
      "source": "A variant of the global asymptotic stability: the property may hold only\nfor small enough balls.\n"
    },
    {
      "cell_type": "markdown",
      "metadata": {},
      "source": "-   **for some $r>0$**, for any $\\epsilon > 0$, there is a $\\tau \\geq 0$\n    such that any maximal solution $x(t)$ **such that\n    $\\|x(0) - x_e\\| \\leq r$** exists for all $t \\geq 0$ and satisfies:\n\n    $$\n    \\|x(t) - x_e\\| \\leq \\epsilon \\; \\mbox{ when } \\; t \\geq \\tau.\n    $$\n"
    },
    {
      "cell_type": "markdown",
      "metadata": {},
      "source": "<i class=\"fa fa-question-circle-o\"></i> \u2013 Asymptotic Stability / Vinograd\n-------------------------------------------------------------------------\n"
    },
    {
      "cell_type": "markdown",
      "metadata": {},
      "source": "Consider the ODE with right-hand side:\n"
    },
    {
      "cell_type": "code",
      "execution_count": 40,
      "metadata": {},
      "outputs": [],
      "source": "def f(xy):\n    x, y = xy\n    q = x**2 + y**2 * (1 + (x**2 + y**2)**2) \n    dx = (x**2 * (y - x) + y**5) / q\n    dy = y**2 * (y - 2*x) / q\n    return array([dx, dy])"
    },
    {
      "cell_type": "markdown",
      "metadata": {},
      "source": "<i class=\"fa fa-area-chart\"></i>\n--------------------------------\n"
    },
    {
      "cell_type": "code",
      "execution_count": 41,
      "metadata": {},
      "outputs": [],
      "source": "figure()\nx = y = linspace(-1.0, 1.0, 1000)\nstreamplot(*Q(f, x, y), color=\"k\") \nxticks([-1, 0, 1])\nplot([0], [0], \"k.\", ms=10.0)"
    },
    {
      "cell_type": "markdown",
      "metadata": {},
      "source": "------------------------------------------------------------------------\n"
    },
    {
      "cell_type": "markdown",
      "metadata": {},
      "source": "-   \\[<i class=\"fa fa-flask\"></i>\\] Does the origin of the system look\n    attractive ?\n\n-   \\[<i class=\"fa fa-flask\"></i>, <i class=\"fa fa-lightbulb-o\"></i>\\]\n    Does it seem to be asymptotically stable ?\n\n    <i class=\"fa fa-key\"></i> **Hint.**\n\n    -   Show if the origin is asymptotically stable, then it is\n        **stable**, that is: for any $r>0$, there is a $\\rho \\leq r$\n        such that if $|x(0)| \\leq \\rho$, then $|x(t)| \\leq r$ for any\n        $t\\geq 0$.\n\n    -   Is the system stable (graphically)?\n"
    },
    {
      "cell_type": "markdown",
      "metadata": {},
      "source": "<style>\n\n.reveal section img {\n  border:0;\n  height:50vh;\n  width:auto;\n\n}\n\n.reveal section img.medium {\n  border:0;\n  max-width:50vh;\n}\n\n.reveal section img.icon {\n  display:inline;\n  border:0;\n  width:1em;\n  margin:0em;\n  box-shadow:none;\n  vertical-align:-10%;\n}\n\n.reveal code {\n  font-family: Inconsolata, monospace;\n}\n\n.reveal pre code {\n  font-size: 1.5em;\n  line-height: 1.5em;\n  /* max-height: 80wh; won't work, overriden */\n}\n\ninput {\n  font-family: \"Source Sans Pro\", Helvetica, sans-serif;\n  font-size: 42px;\n  line-height: 54.6px;\n}\n\n</style>\n"
    },
    {
      "cell_type": "markdown",
      "metadata": {},
      "source": "<link href=\"https://fonts.googleapis.com/css?family=Inconsolata:400,700\" rel=\"stylesheet\">\n"
    },
    {
      "cell_type": "markdown",
      "metadata": {},
      "source": "<link href=\"https://cdnjs.cloudflare.com/ajax/libs/font-awesome/4.7.0/css/font-awesome.css\" rel=\"stylesheet\">\n"
    }
  ],
  "metadata": {
    "kernelspec": {
      "display_name": "Python 3",
      "language": "python",
      "name": "python3"
    },
    "language_info": {
      "codemirror_mode": {
        "name": "ipython",
        "version": 3
      },
      "file_extension": ".py",
      "mimetype": "text/x-python",
      "name": "python",
      "nbconvert_exporter": "python",
      "pygments_lexer": "ipython3",
      "version": "3.6.4"
    }
  },
  "nbformat": 4,
  "nbformat_minor": 2
}