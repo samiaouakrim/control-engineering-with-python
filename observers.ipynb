{
  "cells": [
    {
      "cell_type": "markdown",
      "metadata": {},
      "source": "Preamble\n========\n"
    },
    {
      "cell_type": "markdown",
      "metadata": {},
      "source": "------------------------------------------------------------------------\n"
    },
    {
      "cell_type": "code",
      "execution_count": 1,
      "metadata": {},
      "outputs": [],
      "source": "from numpy import *\nfrom numpy.linalg import *\nfrom numpy.testing import *\nfrom matplotlib.pyplot import *\nfrom scipy.integrate import *"
    },
    {
      "cell_type": "code",
      "execution_count": 2,
      "metadata": {},
      "outputs": [],
      "source": "from numpy import *\nimport matplotlib; matplotlib.use(\"nbAgg\")\nfrom matplotlib.pyplot import *\n%matplotlib notebook "
    },
    {
      "cell_type": "markdown",
      "metadata": {},
      "source": "Observability\n=============\n"
    },
    {
      "cell_type": "markdown",
      "metadata": {},
      "source": "Motivation\n----------\n"
    },
    {
      "cell_type": "markdown",
      "metadata": {},
      "source": "Controling a system generally requires the knowledge of the state\n$x(t)$, but measuring every state variable may be impossible (or too\nexpensive).\n"
    },
    {
      "cell_type": "markdown",
      "metadata": {},
      "source": "Can we reduce the amount of physical sensors and still be able to\ncompute the state with \u201cvirtual\u201d or \u201csoftware\u201d sensors ?\n"
    },
    {
      "cell_type": "markdown",
      "metadata": {},
      "source": "------------------------------------------------------------------------\n"
    },
    {
      "cell_type": "markdown",
      "metadata": {},
      "source": "Control engineers call these software devices **observers**.\n"
    },
    {
      "cell_type": "markdown",
      "metadata": {},
      "source": "First we adress the mathematical feasibility of observers:\n**observability**.\n"
    },
    {
      "cell_type": "markdown",
      "metadata": {},
      "source": "Definition\n----------\n"
    },
    {
      "cell_type": "markdown",
      "metadata": {},
      "source": "The system\n"
    },
    {
      "cell_type": "markdown",
      "metadata": {},
      "source": "$$\n\\left|\n\\begin{array}{rcl}\n\\dot{x} &=& f(x) \\\\\ny &=& g(x)\n\\end{array}\n\\right.\n$$\n"
    },
    {
      "cell_type": "markdown",
      "metadata": {},
      "source": "is **observable** if the knowledge of $y(t) = g(x(t))$ on some finite\ntime span $[0, \\tau]$ determines uniquely the initial condition $x(0)$.\n"
    },
    {
      "cell_type": "markdown",
      "metadata": {},
      "source": "Remarks\n-------\n"
    },
    {
      "cell_type": "markdown",
      "metadata": {},
      "source": "-   The knowledge of $x(0)$ determines uniquely $x(t)$ via the system\n    dynamics.\n\n-   Later, observers will provide merely **asymptotically exact**\n    estimates $\\hat{x}(t)$ of $x(t)$, that satisfy\n\n    $\\hat{x}(t) - x(t)$ when $t \\to +\\infty$.\n"
    },
    {
      "cell_type": "markdown",
      "metadata": {},
      "source": "Extension\n---------\n"
    },
    {
      "cell_type": "markdown",
      "metadata": {},
      "source": "The definition of observability may be extended to systems with (known)\ninputs $u$:\n"
    },
    {
      "cell_type": "markdown",
      "metadata": {},
      "source": "$$\n\\left|\n\\begin{array}{rcl}\n\\dot{x} &=& f(x, u) \\\\\ny &=& g(x, u)\n\\end{array}\n\\right.\n$$\n"
    },
    {
      "cell_type": "markdown",
      "metadata": {},
      "source": "In general, the input $u$ may then be selected specifically to generate\nthe appropriate $y(t)$ that allows us to compute $x(0)$.\n"
    },
    {
      "cell_type": "markdown",
      "metadata": {},
      "source": "------------------------------------------------------------------------\n"
    },
    {
      "cell_type": "markdown",
      "metadata": {},
      "source": "But for linear systems, the choice of $u$ is irrelevant.\n"
    },
    {
      "cell_type": "markdown",
      "metadata": {},
      "source": "Indeed, if\n"
    },
    {
      "cell_type": "markdown",
      "metadata": {},
      "source": "$$\n\\left|\n\\begin{array}{rcl}\n\\dot{x} &=& Ax + Bu \\\\\ny &=& C x + D u\n\\end{array}\n\\right.\n$$\n"
    },
    {
      "cell_type": "markdown",
      "metadata": {},
      "source": "and we can deduce $x(0)$ from $y(t)$ when $u=0$:\n"
    },
    {
      "cell_type": "markdown",
      "metadata": {},
      "source": "$$\ny_0(t) = C e^{At} x(0) \\; \\to \\; x(0)\n$$\n"
    },
    {
      "cell_type": "markdown",
      "metadata": {},
      "source": "------------------------------------------------------------------------\n"
    },
    {
      "cell_type": "markdown",
      "metadata": {},
      "source": "then in the general case, when we measure\n"
    },
    {
      "cell_type": "markdown",
      "metadata": {},
      "source": "$$\ny_u(t) = C e^{At} x(0) + (H \\ast u)(t) \n$$\n"
    },
    {
      "cell_type": "markdown",
      "metadata": {},
      "source": "we can compute\n"
    },
    {
      "cell_type": "markdown",
      "metadata": {},
      "source": "$$\ny_0(t) = y_u(t) - (H \\ast u)(t)\n$$\n"
    },
    {
      "cell_type": "markdown",
      "metadata": {},
      "source": "and deduce $x(0)$ at this stage.\n"
    },
    {
      "cell_type": "markdown",
      "metadata": {},
      "source": "------------------------------------------------------------------------\n"
    },
    {
      "cell_type": "markdown",
      "metadata": {},
      "source": "<i class=\"fa fa-eye\"></i> Observability / Car\n---------------------------------------------\n"
    },
    {
      "cell_type": "markdown",
      "metadata": {},
      "source": "The position $x$ (in meters) of a car of mass $m$ (in kg) on a straight\nroad is governed by\n"
    },
    {
      "cell_type": "markdown",
      "metadata": {},
      "source": "$$\nm \\ddot{x} = u\n$$\n"
    },
    {
      "cell_type": "markdown",
      "metadata": {},
      "source": "where $u$ the force (in Newtons) generated by its motor.\n"
    },
    {
      "cell_type": "markdown",
      "metadata": {},
      "source": "------------------------------------------------------------------------\n"
    },
    {
      "cell_type": "markdown",
      "metadata": {},
      "source": "-   we don\u2019t know where the car is at $t=0$,\n\n-   we don\u2019t know what its initial speed was,\n\n-   but we know that the car doesn\u2019t accelerate ($u=0$).\n"
    },
    {
      "cell_type": "markdown",
      "metadata": {},
      "source": "------------------------------------------------------------------------\n"
    },
    {
      "cell_type": "markdown",
      "metadata": {},
      "source": "If we measure the position $y(t) = x(t)$:\n"
    },
    {
      "cell_type": "markdown",
      "metadata": {},
      "source": "-   $x(0) = y(0)$ is known,\n\n-   $\\dot{x}(0) = \\dot{y}(0)$ is also computable.\n"
    },
    {
      "cell_type": "markdown",
      "metadata": {},
      "source": "Thus the system is observable.\n"
    },
    {
      "cell_type": "markdown",
      "metadata": {},
      "source": "------------------------------------------------------------------------\n"
    },
    {
      "cell_type": "markdown",
      "metadata": {},
      "source": "But what if we measure instead the speed $y(t) = \\dot{x}(t)$ ?\n"
    },
    {
      "cell_type": "markdown",
      "metadata": {},
      "source": "The system dynamics $m \\ddot{x}(t) = u(t) = 0$ yields $$\nx(t) = x(0) + \\dot{x}(0) t\n$$ thus $$\n\\dot{x}(t) = \\dot{x}(0)\n$$ and any $x(0)$ is consistent with a measure of a constant speed.\n"
    },
    {
      "cell_type": "markdown",
      "metadata": {},
      "source": "We can\u2019t deduce the position of the car from the measure of its speed;\nthe system is not observable.\n"
    },
    {
      "cell_type": "markdown",
      "metadata": {},
      "source": "Kalman Criterion\n----------------\n"
    },
    {
      "cell_type": "markdown",
      "metadata": {},
      "source": "The system $\\dot{x} = Ax, \\, y = C x$ is observable iff:\n"
    },
    {
      "cell_type": "markdown",
      "metadata": {},
      "source": "$$\n  \\mathrm{rank} \\, \n  \\left[\n  \\begin{array}{c}\n  C \\\\\n  CA \\\\ \n  \\vdots \\\\\n  C A^{n-1}\n  \\end{array}\n  \\right] = n\n  $$\n"
    },
    {
      "cell_type": "markdown",
      "metadata": {},
      "source": "$[C; \\dots; C A^{n-1}]$ is the **Kalman observability matrix**.\n"
    },
    {
      "cell_type": "markdown",
      "metadata": {},
      "source": "(\u201c$;$\u201d denotes the column concatenation of matrices)\n"
    },
    {
      "cell_type": "markdown",
      "metadata": {},
      "source": "Duality\n-------\n"
    },
    {
      "cell_type": "markdown",
      "metadata": {},
      "source": "Since\n"
    },
    {
      "cell_type": "markdown",
      "metadata": {},
      "source": "$$\n[C; \\dots; C A^{n-1}]^t = [C^t, \\dots, (A^t)^{n-1}C^t],\n$$\n"
    },
    {
      "cell_type": "markdown",
      "metadata": {},
      "source": "the system $\\dot{x} = A x, \\; y = Cx$ is observable iff the system\n$\\dot{x} = A^t x + C^t u$ is controllable.\n"
    },
    {
      "cell_type": "markdown",
      "metadata": {},
      "source": "<i class=\"fa fa-question-circle-o\"></i> Fully Measured System\n-------------------------------------------------------------\n"
    },
    {
      "cell_type": "markdown",
      "metadata": {},
      "source": "Consider $\\dot{x} = A x, \\; y = Cx$ with $x \\in \\mathbb{R}^n$,\n$y \\in\\mathbb{R}^p$ and $\\mathrm{rank} \\, C = n$.\n"
    },
    {
      "cell_type": "markdown",
      "metadata": {},
      "source": "-   \\[<i class=\"fa fa-lightbulb-o\"></i>,\n    <i class=\"fa fa-superscript\"></i>\\] Is the system observable ?\n"
    },
    {
      "cell_type": "markdown",
      "metadata": {},
      "source": "<i class=\"fa fa-question-circle-o\"></i> Integrator Chain\n--------------------------------------------------------\n"
    },
    {
      "cell_type": "markdown",
      "metadata": {},
      "source": "![](images/static/integrator-chain-2.svg)\n$$\\dot{x}_n = 0, \\, \\dot{x}_{n-1} = x_n, \\, \\cdots \\,, \\dot{x}_1 = x_2, \\, y=x_1$$\n"
    },
    {
      "cell_type": "markdown",
      "metadata": {},
      "source": "------------------------------------------------------------------------\n"
    },
    {
      "cell_type": "markdown",
      "metadata": {},
      "source": "-   \\[<i class=\"fa fa-lightbulb-o\"></i>,\n    <i class=\"fa fa-superscript\"></i>\\] Show that the system is\n    observable.\n"
    },
    {
      "cell_type": "markdown",
      "metadata": {},
      "source": "<i class=\"fa fa-question-circle-o\"></i> Heat Equation\n-----------------------------------------------------\n"
    },
    {
      "cell_type": "markdown",
      "metadata": {},
      "source": "![](images/static/heat-simple.svg)\n"
    },
    {
      "cell_type": "markdown",
      "metadata": {},
      "source": "------------------------------------------------------------------------\n"
    },
    {
      "cell_type": "markdown",
      "metadata": {},
      "source": "-   $d T_1/dt = 0 + (T_2 - T_1)$\n\n-   $d T_2/dt = (T_1 - T_2) + (T_3 - T_2)$\n\n-   $d T_3/dt = (T_2 - T_3) + (T_4 - T_3)$\n\n-   $d T_4/dt = (T_3 - T_4)$\n\n-   $y = T_4$\n"
    },
    {
      "cell_type": "markdown",
      "metadata": {},
      "source": "------------------------------------------------------------------------\n"
    },
    {
      "cell_type": "markdown",
      "metadata": {},
      "source": "-   \\[<i class=\"fa fa-lightbulb-o\"></i>,\n    <i class=\"fa fa-superscript\"></i>\\] Show that the system is\n    observable.\n\n-   \\[<i class=\"fa fa-lightbulb-o\"></i>,\n    <i class=\"fa fa-superscript\"></i>\\] Is it still true if the four\n    cells are organized as a square and the temperature sensor is in any\n    of the corners ? How many independent sensors do you need to make\n    the system observable and where can you place them?\n"
    },
    {
      "cell_type": "markdown",
      "metadata": {},
      "source": "Observer Design\n===============\n"
    },
    {
      "cell_type": "markdown",
      "metadata": {},
      "source": "------------------------------------------------------------------------\n"
    },
    {
      "cell_type": "markdown",
      "metadata": {},
      "source": "$$\n\\left|\n\\begin{split}\n\\dot{x} = A x + B u \\\\\ny = C x + D u\n\\end{split}\n\\right.\n$$\n"
    },
    {
      "cell_type": "markdown",
      "metadata": {},
      "source": "State Observer v1\n-----------------\n"
    },
    {
      "cell_type": "markdown",
      "metadata": {},
      "source": "Simulate the system behavior\n"
    },
    {
      "cell_type": "markdown",
      "metadata": {},
      "source": "$$\n\\left|\n\\begin{split}\n\\frac{d\\hat{x}}{dt} &= A \\hat{x} + B u \\\\\n\\hat{y} &= C \\hat{x} + D u\n\\end{split}\n\\right.\n$$\n"
    },
    {
      "cell_type": "markdown",
      "metadata": {},
      "source": "and since we don\u2019t know better,\n"
    },
    {
      "cell_type": "markdown",
      "metadata": {},
      "source": "$$\n\\hat{x}(0) = 0.\n$$\n"
    },
    {
      "cell_type": "markdown",
      "metadata": {},
      "source": "State Estimate Error\n--------------------\n"
    },
    {
      "cell_type": "markdown",
      "metadata": {},
      "source": "Does $\\hat{x}(t)$ provide a good asymptotic estimate of $x(t)$ ?\n"
    },
    {
      "cell_type": "markdown",
      "metadata": {},
      "source": "------------------------------------------------------------------------\n"
    },
    {
      "cell_type": "markdown",
      "metadata": {},
      "source": "The dynamics of the **state estimate error** $e = \\hat{x} - x$ is\n"
    },
    {
      "cell_type": "markdown",
      "metadata": {},
      "source": "$$\n\\begin{split}\n\\dot{e} & = \\frac{d}{dt}(\\hat{x} - x) \\\\\n        & = \\frac{d\\hat{x}}{dt} - \\dot{x} \\\\\n        & = (A \\hat{x} + Bu) - (A x + Bu) \\\\\n        & = A e \n\\end{split}\n$$\n"
    },
    {
      "cell_type": "markdown",
      "metadata": {},
      "source": "------------------------------------------------------------------------\n"
    },
    {
      "cell_type": "markdown",
      "metadata": {},
      "source": "The state estimator error $e(t)$, solution of\n"
    },
    {
      "cell_type": "markdown",
      "metadata": {},
      "source": "$$\n\\dot{e} = A e \n$$\n"
    },
    {
      "cell_type": "markdown",
      "metadata": {},
      "source": "doesn\u2019t satisfy\n"
    },
    {
      "cell_type": "markdown",
      "metadata": {},
      "source": "$$\n\\lim_{t \\to +\\infty} e(t) = 0\n$$\n"
    },
    {
      "cell_type": "markdown",
      "metadata": {},
      "source": "for every value of $e(0) = \\hat{x}(0) - x(0)$, **unless the eigenvalues\nof $A$ are in the open left-hand plane** (i.e. $\\dot{x} = A x$ is\nasymptotically stable).\n"
    },
    {
      "cell_type": "markdown",
      "metadata": {},
      "source": "State Observer v2\n-----------------\n"
    },
    {
      "cell_type": "markdown",
      "metadata": {},
      "source": "Change the observer dynamics to account for differences between\n$\\hat{y}$ and $y$ (both known values):\n"
    },
    {
      "cell_type": "markdown",
      "metadata": {},
      "source": "$$\n\\left|\n\\begin{split}\nd\\hat{x}/dt &= A \\hat{x} + B u  - L (\\hat{y} - y)\\\\\n\\hat{y} &= C \\hat{x} + D u\n\\end{split}\n\\right.\n$$\n"
    },
    {
      "cell_type": "markdown",
      "metadata": {},
      "source": "for some **observer gain** matrix $L \\in \\mathbb{R}^{n \\times p}$\\\n(to be determined).\n"
    },
    {
      "cell_type": "markdown",
      "metadata": {},
      "source": "------------------------------------------------------------------------\n"
    },
    {
      "cell_type": "markdown",
      "metadata": {},
      "source": "![](images/static/observer.svg)\n"
    },
    {
      "cell_type": "markdown",
      "metadata": {},
      "source": "------------------------------------------------------------------------\n"
    },
    {
      "cell_type": "markdown",
      "metadata": {},
      "source": "The new dynamics of $e = \\hat{x} - x$ is\n"
    },
    {
      "cell_type": "markdown",
      "metadata": {},
      "source": "$$\n\\begin{split}\n\\dot{e} & = d(\\hat{x} - x)/dt \\\\\n        & = d\\hat{x}/dt - \\dot{x} \\\\\n        & = (A \\hat{x} + Bu - L(C \\hat{x} - C x)) - (A x + Bu) \\\\\n        & = (A - LC) e \n\\end{split}\n$$\n"
    },
    {
      "cell_type": "markdown",
      "metadata": {},
      "source": "Reminder\n--------\n"
    },
    {
      "cell_type": "markdown",
      "metadata": {},
      "source": "The system $\\dot{x} = A x, \\; y = Cx$ is observable\n"
    },
    {
      "cell_type": "markdown",
      "metadata": {},
      "source": "$\\Longleftrightarrow$\n"
    },
    {
      "cell_type": "markdown",
      "metadata": {},
      "source": "The system $\\dot{x} = A^t x + C^t u$ is commandable.\n"
    },
    {
      "cell_type": "markdown",
      "metadata": {},
      "source": "So what?\n--------\n"
    },
    {
      "cell_type": "markdown",
      "metadata": {},
      "source": "In this case, we can perform arbitrary pole assignment:\n"
    },
    {
      "cell_type": "markdown",
      "metadata": {},
      "source": "-   for any conjugate set $\\Lambda$ of eigenvalues,\n\n-   there is a matrix $K \\in \\mathbb{R}^{p \\times n}$ such that\n\n    $$\n    \\sigma(A^t - C^t K) = \\Lambda\n    $$\n"
    },
    {
      "cell_type": "markdown",
      "metadata": {},
      "source": "------------------------------------------------------------------------\n"
    },
    {
      "cell_type": "markdown",
      "metadata": {},
      "source": "Since $\\sigma(M) = \\sigma(M^t)$ for any square matrix $M$,\n"
    },
    {
      "cell_type": "markdown",
      "metadata": {},
      "source": "$$\n\\begin{split}\n\\sigma(A^t - C^t K) & = \\sigma((A - K^tC)^t) \\\\\n                    & = \\sigma(A - K^t C) \\\\\n\\end{split}\n$$\n"
    },
    {
      "cell_type": "markdown",
      "metadata": {},
      "source": "Observers / Pole Assignment\n---------------------------\n"
    },
    {
      "cell_type": "markdown",
      "metadata": {},
      "source": "Thus, if we set\n"
    },
    {
      "cell_type": "markdown",
      "metadata": {},
      "source": "$$\nL = K^t\n$$\n"
    },
    {
      "cell_type": "markdown",
      "metadata": {},
      "source": "we have solved the pole assignment problem **for observers:**\n"
    },
    {
      "cell_type": "markdown",
      "metadata": {},
      "source": "$$\n\\sigma(A - L C) = \\Lambda\n$$\n"
    },
    {
      "cell_type": "markdown",
      "metadata": {},
      "source": "<i class=\"fa fa-eye\"></i> Observer/Pole Assignment\n--------------------------------------------------\n"
    },
    {
      "cell_type": "markdown",
      "metadata": {},
      "source": "Consider the double integrator $\\ddot{y} = u$\n"
    },
    {
      "cell_type": "markdown",
      "metadata": {},
      "source": "$$\n  \\frac{d}{dt}\n  \\left[\\begin{array}{c} x_1 \\\\ x_2 \\end{array}\\right]\n  =\n  \\left[\\begin{array}{cx} 0 & 1 \\\\ 0 & 0\\end{array}\\right]\n  \\left[\\begin{array}{c} x_1 \\\\ x_2 \\end{array}\\right]\n  +\n  \\left[\\begin{array}{c} 0 \\\\ 1 \\end{array}\\right] u\n  $$\n"
    },
    {
      "cell_type": "markdown",
      "metadata": {},
      "source": "$$\n  y = \n  \\left[\n  \\begin{array}{cc}\n  1 & 0\n  \\end{array}\n  \\right]\n  \\left[\\begin{array}{c} x_1 \\\\ x_2 \\end{array}\\right]\n  $$\n"
    },
    {
      "cell_type": "markdown",
      "metadata": {},
      "source": "(in standard form)\n"
    },
    {
      "cell_type": "markdown",
      "metadata": {},
      "source": "------------------------------------------------------------------------\n"
    },
    {
      "cell_type": "code",
      "execution_count": 3,
      "metadata": {},
      "outputs": [],
      "source": "from scipy.signal import place_poles\nA = array([[0, 1], [0, 0]])\nC = array([[1, 0]])\npoles = [-1, -2]\nK = place_poles(A.T, C.T, poles).gain_matrix\nL = K.T\nassert_almost_equal(K, [[3.0, 2.0]])"
    },
    {
      "cell_type": "markdown",
      "metadata": {},
      "source": "------------------------------------------------------------------------\n"
    },
    {
      "cell_type": "markdown",
      "metadata": {},
      "source": "$$\n  \\frac{d}{dt}\n  \\left[\\begin{array}{c} \\hat{x}_1 \\\\ \\hat{x}_2 \\end{array}\\right]\n  =\n  \\left[\\begin{array}{cx} 0 & 1 \\\\ 0 & 0\\end{array}\\right]\n  \\left[\\begin{array}{c} \\hat{x}_1 \\\\ \\hat{x}_2 \\end{array}\\right]\n  +\n  \\left[\\begin{array}{c} 0 \\\\ 1 \\end{array}\\right] u\n  - \\left[\\begin{array}{c} 3 \\\\2 \\end{array}\\right] (\\hat{y} - y)\n  $$\n"
    },
    {
      "cell_type": "markdown",
      "metadata": {},
      "source": "$$\n  \\hat{y} = \n  \\left[\n  \\begin{array}{cc}\n  1 & 0\n  \\end{array}\n  \\right]\n  \\left[\\begin{array}{c} \\hat{x}_1 \\\\ \\hat{x}_2 \\end{array}\\right]\n  $$\n"
    },
    {
      "cell_type": "markdown",
      "metadata": {},
      "source": "<i class=\"fa fa-flask\"></i>\n---------------------------\n"
    },
    {
      "cell_type": "code",
      "execution_count": 4,
      "metadata": {},
      "outputs": [],
      "source": "def fun(t, X_Xhat):\n    x, x_hat = X_Xhat[0:2], X_Xhat[2:4]\n    y, y_hat = C.dot(x), C.dot(x_hat)\n    dx = A.dot(x)\n    dx_hat = A.dot(x_hat) - L.dot(y_hat - y)\n    return r_[dx, dx_hat]"
    },
    {
      "cell_type": "markdown",
      "metadata": {},
      "source": "------------------------------------------------------------------------\n"
    },
    {
      "cell_type": "code",
      "execution_count": 5,
      "metadata": {},
      "outputs": [],
      "source": "y0 = [-2.0, 1.0, 0.0, 0.0]\nresult = solve_ivp(fun=fun, t_span=[0.0, 5.0], y0=y0, max_step=0.1)"
    },
    {
      "cell_type": "markdown",
      "metadata": {},
      "source": "------------------------------------------------------------------------\n"
    },
    {
      "cell_type": "code",
      "execution_count": 6,
      "metadata": {},
      "outputs": [],
      "source": "figure()\nt = result[\"t\"]\ny = result[\"y\"]\nplot(t, y[0], \"b\", label=\"$x_1$\")\nplot(t, y[2], \"b:\", alpha=0.5, label=r\"$\\hat{x}_1$\")\nplot(t, y[1], \"g\", label=\"$x_2$\")\nplot(t, y[3], \"g:\", alpha=0.5, label=r\"$\\hat{x}_2$\")\ngrid(); legend()"
    },
    {
      "cell_type": "markdown",
      "metadata": {},
      "source": "Kalman Filtering\n================\n"
    },
    {
      "cell_type": "markdown",
      "metadata": {},
      "source": "Setting\n-------\n"
    },
    {
      "cell_type": "markdown",
      "metadata": {},
      "source": "Consider $\\dot{x} = A x, \\; y = Cx$ where:\n"
    },
    {
      "cell_type": "markdown",
      "metadata": {},
      "source": "-   the state $x(t)$ is unknown ($x(0)$ is unknown),\n\n-   only (a noisy version of) $y(t)$ is available.\n"
    },
    {
      "cell_type": "markdown",
      "metadata": {},
      "source": "We want a sensible estimation $\\hat{x}(t)$ of $x(t)$.\n"
    },
    {
      "cell_type": "markdown",
      "metadata": {},
      "source": "------------------------------------------------------------------------\n"
    },
    {
      "cell_type": "markdown",
      "metadata": {},
      "source": "We now assume the existence of state and output disturbances $v(t)$ and\n$w(t)$ (deviations from the exact dynamics)\n"
    },
    {
      "cell_type": "markdown",
      "metadata": {},
      "source": "$$\n\\left|\n\\begin{split}\n\\dot{x} &= A x + v \\\\\ny &= C x + w\n\\end{split}\n\\right.\n$$\n"
    },
    {
      "cell_type": "markdown",
      "metadata": {},
      "source": "Thes disturbances (or \u201cnoises\u201d) are unknown; we are searching for the\nestimate $\\hat{x}(t)$ of $x(t)$ that requires the smallest deviation\nfrom the exact dynamics to explain the data.\n"
    },
    {
      "cell_type": "markdown",
      "metadata": {},
      "source": "------------------------------------------------------------------------\n"
    },
    {
      "cell_type": "markdown",
      "metadata": {},
      "source": "For a known $y(t)$, among all possible trajectories $x(t)$ of the\nsystem, find the one that minimizes\n"
    },
    {
      "cell_type": "markdown",
      "metadata": {},
      "source": "$$ \n  J = \\int_0^{+\\infty} v(t)^t Q v(t) + w(t)^t R w(t) \\, dt\n  $$\n"
    },
    {
      "cell_type": "markdown",
      "metadata": {},
      "source": "where:\n"
    },
    {
      "cell_type": "markdown",
      "metadata": {},
      "source": "-   $Q \\in \\mathbb{R}^{n \\times n}$ and $R \\in \\mathbb{R}^{p\\times p}$,\n\n-   (to be continued \u2026)\n"
    },
    {
      "cell_type": "markdown",
      "metadata": {},
      "source": "------------------------------------------------------------------------\n"
    },
    {
      "cell_type": "markdown",
      "metadata": {},
      "source": "-   $Q$ and $R$ are **symmetric** ($R^t = R$ and $Q^t = Q$),\n\n-   $Q$ and $R$ are **positive definite** (denoted \u201c$>0$\u201d)\n"
    },
    {
      "cell_type": "markdown",
      "metadata": {},
      "source": "Heuristics\n----------\n"
    },
    {
      "cell_type": "markdown",
      "metadata": {},
      "source": "If it is known that there is a large state disturbance but small output\ndisturbance, it makes sense to reduce the impact of the state\ndisturbance in the composition of $J$, hence to select a small $Q$ wrt\n$R$.\n"
    },
    {
      "cell_type": "markdown",
      "metadata": {},
      "source": "<!--\n\n--------------------------------------------------------------------------------\n\nTo balance the impact of the state disturbance and output disturbance error,\none may set:\n\n$$\nQ^{-1} = \\mathbb{E} v(t)^t v(t),\nR^{-1} = \\mathbb{E} w(t)^t w(t).\n$$\n\n-->\n"
    },
    {
      "cell_type": "markdown",
      "metadata": {},
      "source": "Optimal Solution\n----------------\n"
    },
    {
      "cell_type": "markdown",
      "metadata": {},
      "source": "Assume that $\\dot{x} = A x, \\; y = Cx$ is observable.\n"
    },
    {
      "cell_type": "markdown",
      "metadata": {},
      "source": "There is a state estimation $\\hat{x}(t)$, given for some\n$L \\in \\mathbb{R}^{n \\times p}$ as the solution of\n"
    },
    {
      "cell_type": "markdown",
      "metadata": {},
      "source": "$$\n\\left|\n\\begin{split}\nd\\hat{x}/dt &= A \\hat{x} - L (\\hat{y} - y)\\\\\n\\hat{y} &= C \\hat{x}\n\\end{split}\n\\right.\n$$\n"
    },
    {
      "cell_type": "markdown",
      "metadata": {},
      "source": "The dynamics of the corresponding estimation error\n$e(t) = \\hat{x}(t) - x(t)$ is asymptotically stable.\n"
    },
    {
      "cell_type": "markdown",
      "metadata": {},
      "source": "Algebraic Riccati Equation\n--------------------------\n"
    },
    {
      "cell_type": "markdown",
      "metadata": {},
      "source": "The gain matrix $L$ is given by\n"
    },
    {
      "cell_type": "markdown",
      "metadata": {},
      "source": "$$\n  L = \\Sigma C^t R,\n  $$\n"
    },
    {
      "cell_type": "markdown",
      "metadata": {},
      "source": "where $\\Sigma \\in \\mathbb{R}^{n \\times n}$ is the unique matrix such\nthat $\\Sigma^t = \\Sigma$, $\\Sigma > 0$ and\n"
    },
    {
      "cell_type": "markdown",
      "metadata": {},
      "source": "$$\n   \\Sigma C^t R C \\Sigma - \\Sigma A^t - A \\Sigma - Q^{-1} = 0.\n   $$\n"
    },
    {
      "cell_type": "markdown",
      "metadata": {},
      "source": "Optimal Control $\\leftrightarrow$ Filter\n----------------------------------------\n"
    },
    {
      "cell_type": "markdown",
      "metadata": {},
      "source": "Solve the Ricatti equation for optimal control with\n"
    },
    {
      "cell_type": "markdown",
      "metadata": {},
      "source": "$$\n(A, B, Q, R) = (A^t, C^t, Q^{-1}, R^{-1})\n$$\n"
    },
    {
      "cell_type": "markdown",
      "metadata": {},
      "source": "then\n"
    },
    {
      "cell_type": "markdown",
      "metadata": {},
      "source": "$\\Sigma = \\Pi^t$ and $L = K^t.$\n"
    },
    {
      "cell_type": "markdown",
      "metadata": {},
      "source": "<i class=\"fa fa-eye\"></i> Kalman Filter\n---------------------------------------\n"
    },
    {
      "cell_type": "markdown",
      "metadata": {},
      "source": "Consider the system $$\n\\begin{split}\n\\dot{x} &= v\\\\\ny &= x + w\n\\end{split}\n$$\n"
    },
    {
      "cell_type": "markdown",
      "metadata": {},
      "source": "If we believe that the state and output perturbation are of the same\nscale, we may try\n"
    },
    {
      "cell_type": "markdown",
      "metadata": {},
      "source": "$$\nQ=[1.0], R=[1.0]\n$$\n"
    },
    {
      "cell_type": "markdown",
      "metadata": {},
      "source": "------------------------------------------------------------------------\n"
    },
    {
      "cell_type": "markdown",
      "metadata": {},
      "source": "With $\\Sigma = [\\sigma]$, the filtering Ricatti equation becomes\n"
    },
    {
      "cell_type": "markdown",
      "metadata": {},
      "source": "$$\n\\sigma^2 - 2\\sigma  - 1 = 0\n$$\n"
    },
    {
      "cell_type": "markdown",
      "metadata": {},
      "source": "whose only positive solution is\n"
    },
    {
      "cell_type": "markdown",
      "metadata": {},
      "source": "$$\n\\sigma = \\frac{2 + \\sqrt{(-2)^2 - 4\\times 1 \\times (-1)}}{2} = 1+\\sqrt{2}.\n$$\n"
    },
    {
      "cell_type": "markdown",
      "metadata": {},
      "source": "------------------------------------------------------------------------\n"
    },
    {
      "cell_type": "markdown",
      "metadata": {},
      "source": "With $L = [\\ell]$, we end up with\n"
    },
    {
      "cell_type": "markdown",
      "metadata": {},
      "source": "$\\ell = \\sigma = 1 + \\sqrt{2}.$\n"
    },
    {
      "cell_type": "markdown",
      "metadata": {},
      "source": "Thus, the optimal filter is\n"
    },
    {
      "cell_type": "markdown",
      "metadata": {},
      "source": "$$\n\\begin{split}\nd\\hat{x}/dt &= - (1+\\sqrt{2})(\\hat{y} - y)\\\\\n\\hat{y} &= \\hat{x}\n\\end{split}\n$$\n"
    },
    {
      "cell_type": "markdown",
      "metadata": {},
      "source": "<i class=\"fa fa-eye\"></i> Stabilization/Kalman Filter\n-----------------------------------------------------\n"
    },
    {
      "cell_type": "markdown",
      "metadata": {},
      "source": "Consider the double integrator $\\ddot{x} = 0,$ $y=x$.\n"
    },
    {
      "cell_type": "markdown",
      "metadata": {},
      "source": "$$\n  \\frac{d}{dt}\n  \\left[\\begin{array}{c} x \\\\ \\dot{x} \\end{array}\\right]\n  =\n  \\left[\\begin{array}{cc} 0 & 1 \\\\ 0 & 0\\end{array}\\right]\n  \\left[\\begin{array}{c} x \\\\ \\dot{x} \\end{array}\\right]\n  +\n  \\left[\\begin{array}{c} v_1 \\\\ v_2 \\end{array}\\right],\n  y = \\left[\\begin{array}{c} 1 & 0 \\end{array} \\right]\n  \\left[\\begin{array}{c} x \\\\ \\dot{x} \\end{array}\\right]\n  + w\n  $$\n"
    },
    {
      "cell_type": "markdown",
      "metadata": {},
      "source": "(in standard form)\n"
    },
    {
      "cell_type": "markdown",
      "metadata": {},
      "source": "------------------------------------------------------------------------\n"
    },
    {
      "cell_type": "code",
      "execution_count": 7,
      "metadata": {},
      "outputs": [],
      "source": "from scipy.linalg import solve_continuous_are\nA = array([[0, 1], [0, 0]])\nB = array([[0], [1]])\nQ = array([[1, 0], [0, 1]]); R = array([[1]])\nSigma = solve_continuous_are(A.T, C.T, inv(Q), inv(R))\nL = Sigma @ C.T @ R\neigenvalues, _ = eig(A - L @ C)\nassert all([real(s) < 0 for s in eigenvalues])"
    },
    {
      "cell_type": "markdown",
      "metadata": {},
      "source": "<i class=\"fa fa-area-chart\"></i>\n--------------------------------\n"
    },
    {
      "cell_type": "code",
      "execution_count": 8,
      "metadata": {},
      "outputs": [],
      "source": "figure()\nx = [real(s) for s in eigenvalues]\ny = [imag(s) for s in eigenvalues]\nplot(x, y, \"kx\", ms=12.0)\nxticks([-2, -1, 0, 1, 2])\nyticks([-2, -1, 0, 1, 2])\nplot([0, 0], [-2, 2], \"k\")\nplot([-2, 2], [0, 0], \"k\")   \ngrid(True)\ntitle(\"Eigenvalues\")"
    },
    {
      "cell_type": "markdown",
      "metadata": {},
      "source": "------------------------------------------------------------------------\n"
    },
    {
      "cell_type": "markdown",
      "metadata": {},
      "source": "<i class=\"fa fa-flask\"></i>\n---------------------------\n"
    },
    {
      "cell_type": "code",
      "execution_count": 9,
      "metadata": {},
      "outputs": [],
      "source": "def fun(t, X_Xhat):\n    x, x_hat = X_Xhat[0:2], X_Xhat[2:4]\n    y, y_hat = C.dot(x), C.dot(x_hat)\n    dx = A.dot(x)\n    dx_hat = A.dot(x_hat) - L.dot(y_hat - y)\n    return r_[dx, dx_hat]"
    },
    {
      "cell_type": "markdown",
      "metadata": {},
      "source": "------------------------------------------------------------------------\n"
    },
    {
      "cell_type": "code",
      "execution_count": 10,
      "metadata": {},
      "outputs": [],
      "source": "y0 = [-2.0, 1.0, 0.0, 0.0]\nresult = solve_ivp(fun=fun, t_span=[0.0, 5.0], y0=y0, max_step=0.1)"
    },
    {
      "cell_type": "markdown",
      "metadata": {},
      "source": "------------------------------------------------------------------------\n"
    },
    {
      "cell_type": "code",
      "execution_count": 11,
      "metadata": {},
      "outputs": [],
      "source": "figure()\nt = result[\"t\"]\ny = result[\"y\"]\nplot(t, y[0], \"b\", label=\"$x_1$\")\nplot(t, y[2], \"b:\", alpha=0.5, label=r\"$\\hat{x}_1$\")\nplot(t, y[1], \"g\", label=\"$x_2$\")\nplot(t, y[3], \"g:\", alpha=0.5, label=r\"$\\hat{x}_2$\")\ngrid(); legend()"
    },
    {
      "cell_type": "markdown",
      "metadata": {},
      "source": "<!--\n\n--------------------------------------------------------------------------------\n\n    def f(t, y):\n        return 0.0\n    def g(y):\n        return y\n\n    y0 = [10.0]\n    tspan = [0.0, 20.0]\n    result = solve_ivp(f, tspan, y0, dense_output=True)\n    t = linspace(tspan[0], tspan[-1], 1000)\n    x = result[\"sol\"](t)[0]\n\n--------------------------------------------------------------------------------\n\n    figure()\n    plot(t, x, \"k\", label=r\"$x(t)$\")\n    output = lambda t: g(result[\"sol\"](t)[0])\n    plot(t, output(t), \"k--\", label=r\"$y(t)$\")\n    grid(True)\n\n::: hidden :::::::::::::::::::::::::::::::::::::::::::::::::::::::::::::::::::::\n\n    save(\"images/K\")\n\n::::::::::::::::::::::::::::::::::::::::::::::::::::::::::::::::::::::::::::::::\n\n::: slides :::::::::::::::::::::::::::::::::::::::::::::::::::::::::::::::::::::\n\n--------------------------------------------------------------------------------\n\n![](images/K.svg)\n\n::::::::::::::::::::::::::::::::::::::::::::::::::::::::::::::::::::::::::::::::\n\n\n--------------------------------------------------------------------------------\n\n    def f(t, y):\n        return - (1+ sqrt(2)) * (y[0] - output(t))\n\n    y0 = [1.0]\n    result2 = solve_ivp(f, tspan, y0, dense_output=True)\n    t = linspace(tspan[0], tspan[-1], 1000)\n    x_hat = result2[\"sol\"](t)[0]\n\n\n--------------------------------------------------------------------------------\n\n    figure()\n    plot(t, x, \"k\", label=r\"$x(t)$\")\n    plot(t, output(t), \"k--\", label=r\"$y(t)$\")\n    plot(t, x_hat, \"g\")\n    grid(True)\n\n::: hidden :::::::::::::::::::::::::::::::::::::::::::::::::::::::::::::::::::::\n\n    save(\"images/K2\")\n\n::::::::::::::::::::::::::::::::::::::::::::::::::::::::::::::::::::::::::::::::\n\n::: slides :::::::::::::::::::::::::::::::::::::::::::::::::::::::::::::::::::::\n\n--------------------------------------------------------------------------------\n\n![](images/K2.svg)\n\n::::::::::::::::::::::::::::::::::::::::::::::::::::::::::::::::::::::::::::::::\n\n-->\n"
    },
    {
      "cell_type": "markdown",
      "metadata": {},
      "source": "<style>\n\n.reveal section img {\n  border:0;\n  height:50vh;\n  width:auto;\n\n}\n\n.reveal section img.medium {\n  border:0;\n  max-width:50vh;\n}\n\n.reveal section img.icon {\n  display:inline;\n  border:0;\n  width:1em;\n  margin:0em;\n  box-shadow:none;\n  vertical-align:-10%;\n}\n\n.reveal code {\n  font-family: Inconsolata, monospace;\n}\n\n.reveal pre code {\n  font-size: 1.5em;\n  line-height: 1.5em;\n  /* max-height: 80wh; won't work, overriden */\n}\n\ninput {\n  font-family: \"Source Sans Pro\", Helvetica, sans-serif;\n  font-size: 42px;\n  line-height: 54.6px;\n}\n\n</style>\n"
    },
    {
      "cell_type": "markdown",
      "metadata": {},
      "source": "<link href=\"https://fonts.googleapis.com/css?family=Inconsolata:400,700\" rel=\"stylesheet\">\n"
    },
    {
      "cell_type": "markdown",
      "metadata": {},
      "source": "<link href=\"https://cdnjs.cloudflare.com/ajax/libs/font-awesome/4.7.0/css/font-awesome.css\" rel=\"stylesheet\">\n"
    }
  ],
  "metadata": {
    "kernelspec": {
      "display_name": "Python 3",
      "language": "python",
      "name": "python3"
    },
    "language_info": {
      "codemirror_mode": {
        "name": "ipython",
        "version": 3
      },
      "file_extension": ".py",
      "mimetype": "text/x-python",
      "name": "python",
      "nbconvert_exporter": "python",
      "pygments_lexer": "ipython3",
      "version": "3.6.4"
    }
  },
  "nbformat": 4,
  "nbformat_minor": 2
}