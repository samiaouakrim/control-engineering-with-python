{
  "cells": [
    {
      "cell_type": "markdown",
      "metadata": {},
      "source": "Preamble (Code)\n---------------\n"
    },
    {
      "cell_type": "code",
      "execution_count": 1,
      "metadata": {},
      "outputs": [],
      "source": "from numpy import *\nimport matplotlib; matplotlib.use(\"nbAgg\")\nfrom matplotlib.pyplot import *\n%matplotlib notebook \nfrom mpl_toolkits.mplot3d import *\nfrom scipy.integrate import solve_ivp"
    },
    {
      "cell_type": "markdown",
      "metadata": {},
      "source": "Preamble\n========\n"
    },
    {
      "cell_type": "markdown",
      "metadata": {},
      "source": "Inputs\n------\n"
    },
    {
      "cell_type": "markdown",
      "metadata": {},
      "source": "It\u2019s handy to introduce non-autonomous ODEs.\n"
    },
    {
      "cell_type": "markdown",
      "metadata": {},
      "source": "There are designated as\n"
    },
    {
      "cell_type": "markdown",
      "metadata": {},
      "source": "$$\n  \\dot{x} = f(x, u)\n  $$\n"
    },
    {
      "cell_type": "markdown",
      "metadata": {},
      "source": "where $x \\in \\mathbb{R}^n$ and $u \\in \\mathbb{R}^m$, that is\n"
    },
    {
      "cell_type": "markdown",
      "metadata": {},
      "source": "$$f: \\mathbb{R}^n \\times \\mathbb{R}^m \\to \\mathbb{R}^n.$$\n"
    },
    {
      "cell_type": "markdown",
      "metadata": {},
      "source": "------------------------------------------------------------------------\n"
    },
    {
      "cell_type": "markdown",
      "metadata": {},
      "source": "The vector-valued $u$ is the **system input**.\n"
    },
    {
      "cell_type": "markdown",
      "metadata": {},
      "source": "This quantity may depend on the time $t$\n"
    },
    {
      "cell_type": "markdown",
      "metadata": {},
      "source": "$$\nu: t \\in \\mathbb{R} \\mapsto u(t) \\in \\mathbb{R}^m,\n$$\n"
    },
    {
      "cell_type": "markdown",
      "metadata": {},
      "source": "(actually it may also depend on some state, but we will adress this\nlater).\n"
    },
    {
      "cell_type": "markdown",
      "metadata": {},
      "source": "------------------------------------------------------------------------\n"
    },
    {
      "cell_type": "markdown",
      "metadata": {},
      "source": "A solution of\n"
    },
    {
      "cell_type": "markdown",
      "metadata": {},
      "source": "$\\dot{x} = f(x, u)$ and $x(t_0) = x_0$\n"
    },
    {
      "cell_type": "markdown",
      "metadata": {},
      "source": "is merely a solution of\n"
    },
    {
      "cell_type": "markdown",
      "metadata": {},
      "source": "$\\dot{x} = h(t,x)$ and $x(t_0) = x_0$,\n"
    },
    {
      "cell_type": "markdown",
      "metadata": {},
      "source": "where\n"
    },
    {
      "cell_type": "markdown",
      "metadata": {},
      "source": "$h(t, x) = f(x, u(t))$.\n"
    },
    {
      "cell_type": "markdown",
      "metadata": {},
      "source": "Outputs\n-------\n"
    },
    {
      "cell_type": "markdown",
      "metadata": {},
      "source": "We may complement the system dynamics with an equation\n"
    },
    {
      "cell_type": "markdown",
      "metadata": {},
      "source": "$$\ny = g(x, u) \\in \\mathbb{R}^p\n$$\n"
    },
    {
      "cell_type": "markdown",
      "metadata": {},
      "source": "The vector $y$ refers to the **systems output**, usually the quantities\nthat we can effectively measure in a system (the state $x$ itself may be\nunknown).\n"
    },
    {
      "cell_type": "markdown",
      "metadata": {},
      "source": "What Are Linear Systems?\n========================\n"
    },
    {
      "cell_type": "markdown",
      "metadata": {},
      "source": "Standard Form\n-------------\n"
    },
    {
      "cell_type": "markdown",
      "metadata": {},
      "source": "Input $u \\in \\mathbb{R}^m$, state $x \\in \\mathbb{R}^n$, output\n$y \\in \\mathbb{R}^p$.\n"
    },
    {
      "cell_type": "markdown",
      "metadata": {},
      "source": "$$\n  \\begin{array}{c}\n  \\dot{x} &=& A x + B u \\\\\n  y       &=& C x + D u\n  \\end{array}\n  $$\n"
    },
    {
      "cell_type": "markdown",
      "metadata": {},
      "source": "Why Linear ?\n------------\n"
    },
    {
      "cell_type": "markdown",
      "metadata": {},
      "source": "Assume that:\n"
    },
    {
      "cell_type": "markdown",
      "metadata": {},
      "source": "-   $\\dot{x}_1 = A x_1 + B u_1$, $x_1(0) = x_{10}$,\n\n-   $\\dot{x}_2 = A x_2 + B u_2$, $x_2(0) = x_{20}$,\n"
    },
    {
      "cell_type": "markdown",
      "metadata": {},
      "source": "------------------------------------------------------------------------\n"
    },
    {
      "cell_type": "markdown",
      "metadata": {},
      "source": "Set\n"
    },
    {
      "cell_type": "markdown",
      "metadata": {},
      "source": "-   $x_3 = \\lambda x_1 + \\mu x_2$,\n\n-   $u_3 = \\lambda u_1 + \\mu u_2$ and\n\n-   $x_{30} = \\lambda x_{10} + \\mu x_{20}$.\n"
    },
    {
      "cell_type": "markdown",
      "metadata": {},
      "source": "for some $\\lambda$ and $\\mu$.\n"
    },
    {
      "cell_type": "markdown",
      "metadata": {},
      "source": "------------------------------------------------------------------------\n"
    },
    {
      "cell_type": "markdown",
      "metadata": {},
      "source": "Then\n"
    },
    {
      "cell_type": "markdown",
      "metadata": {},
      "source": "$$\n\\dot{x}_3 = A x_3 + B u_3, \\; x_3(0) = x_{30}.\n$$\n"
    },
    {
      "cell_type": "markdown",
      "metadata": {},
      "source": "Internal + External Dynamics\n----------------------------\n"
    },
    {
      "cell_type": "markdown",
      "metadata": {},
      "source": "**Corollary:** Since $(x_0, u) = (x_0, 0) + (0, u)$ the solution of\n"
    },
    {
      "cell_type": "markdown",
      "metadata": {},
      "source": "$$\n\\dot{x} = A x + Bu, \\; x(0) = x_0\n$$\n"
    },
    {
      "cell_type": "markdown",
      "metadata": {},
      "source": "is the sum of the solutions $x_1$ and $x_2$ of:\n"
    },
    {
      "cell_type": "markdown",
      "metadata": {},
      "source": "------------------------------------------------------------------------\n"
    },
    {
      "cell_type": "markdown",
      "metadata": {},
      "source": "the **internal dynamics**\n"
    },
    {
      "cell_type": "markdown",
      "metadata": {},
      "source": "$$\n\\dot{x}_1 = A x_1, \\; x_1(0) = x_0\n$$\n"
    },
    {
      "cell_type": "markdown",
      "metadata": {},
      "source": "(behavior controlled by the initial value only, no input)\n"
    },
    {
      "cell_type": "markdown",
      "metadata": {},
      "source": "and the **external dynamics**:\n"
    },
    {
      "cell_type": "markdown",
      "metadata": {},
      "source": "$$\n\\dot{x}_2 = A x_2 + Bu, \\; x_2(0) = 0\n$$\n"
    },
    {
      "cell_type": "markdown",
      "metadata": {},
      "source": "(behavior controlled by the input, the systems is initially at rest)\n"
    },
    {
      "cell_type": "markdown",
      "metadata": {},
      "source": "Matrix Size\n-----------\n"
    },
    {
      "cell_type": "markdown",
      "metadata": {},
      "source": "$A \\in \\mathbb{R}^{n \\times n}$, $B \\in \\mathbb{R}^{n\\times m}$,\n$C \\in \\mathbb{R}^{p \\times n}$, $D \\in \\mathbb{R}^{p \\times m}$.\n"
    },
    {
      "cell_type": "markdown",
      "metadata": {},
      "source": "$$\n  \\left[\n  \\begin{array}{c|c}\n  A &  B \\\\\n  \\hline\n  C &  D\n  \\end{array} \n  \\right]\n  $$\n"
    },
    {
      "cell_type": "markdown",
      "metadata": {},
      "source": "LTI Systems\n-----------\n"
    },
    {
      "cell_type": "markdown",
      "metadata": {},
      "source": "They are actually referred to as **linear time-invariant (LTI)**\nsystems:\n"
    },
    {
      "cell_type": "markdown",
      "metadata": {},
      "source": "When $x(t)$ is a solution of\n"
    },
    {
      "cell_type": "markdown",
      "metadata": {},
      "source": "$$\n\\dot{x} = A x + Bu, \\; x(0) = x_0,\n$$\n"
    },
    {
      "cell_type": "markdown",
      "metadata": {},
      "source": "then $x(t- t_0)$ is a solution of\n"
    },
    {
      "cell_type": "markdown",
      "metadata": {},
      "source": "$$\n\\dot{x} = A x + Bu(t-t_0), \\; x(t_0) = x_0.\n$$\n"
    },
    {
      "cell_type": "markdown",
      "metadata": {},
      "source": "<i class=\"fa fa-eye\"></i> \u2013 Linear System / Heat Equation\n---------------------------------------------------------\n"
    },
    {
      "cell_type": "markdown",
      "metadata": {},
      "source": "![](images/static/heat-simple.svg)\n"
    },
    {
      "cell_type": "markdown",
      "metadata": {},
      "source": "Simplified Model\n----------------\n"
    },
    {
      "cell_type": "markdown",
      "metadata": {},
      "source": "-   Four cells numbered 1 to 4 are arranged in a row.\n\n-   The first cell has a heat source, the last one a temperature sensor.\n\n-   The heat sink/source is increasing the temperature of its cell of\n    $u$ degrees by second.\n\n-   If the temperature of a cell is $T$ and the one of a neighbor is\n    $T_n$, $T$ increases of $T_n - T$ by second.\n"
    },
    {
      "cell_type": "markdown",
      "metadata": {},
      "source": "------------------------------------------------------------------------\n"
    },
    {
      "cell_type": "markdown",
      "metadata": {},
      "source": "Given the geometric layout:\n"
    },
    {
      "cell_type": "markdown",
      "metadata": {},
      "source": "-   $d T_1/dt = u + (T_2 - T_1)$\n\n-   $d T_2/dt = (T_1 - T_2) + (T_3 - T_2)$\n\n-   $d T_3/dt = (T_2 - T_3) + (T_4 - T_3)$\n\n-   $d T_4/dt = (T_3 - T_4)$\n\n-   $y = T_4$\n"
    },
    {
      "cell_type": "markdown",
      "metadata": {},
      "source": "------------------------------------------------------------------------\n"
    },
    {
      "cell_type": "markdown",
      "metadata": {},
      "source": "Set $x = (T_1, T_2, T_3, T_4)$.\n"
    },
    {
      "cell_type": "markdown",
      "metadata": {},
      "source": "The model is linear and its standard matrices are:\n"
    },
    {
      "cell_type": "markdown",
      "metadata": {},
      "source": "$$\nA = \\left[\n  \\begin{array}{rrrr}\n-1 & 1 & 0 & 0   \\\\\n1  & -2 & 1 & 0 \\\\\n0 & 1 & -2 & 1  \\\\\n0 & 0 & 1 & -1 \n\\end{array}\n\\right]\n$$\n"
    },
    {
      "cell_type": "markdown",
      "metadata": {},
      "source": "------------------------------------------------------------------------\n"
    },
    {
      "cell_type": "markdown",
      "metadata": {},
      "source": "$$\nB = \\left[\n  \\begin{array}{c}\n  1 \\\\ 0 \\\\ 0 \\\\ 0\n  \\end{array} \n  \\right], \\;\nC = \n\\left[ \n\\begin{array}{cccc}\n0 & 0 & 0 & 1\n\\end{array}\n\\right],\n\\; D = [0]\n$$\n"
    },
    {
      "cell_type": "markdown",
      "metadata": {},
      "source": "Nonlinear to Linear\n-------------------\n"
    },
    {
      "cell_type": "markdown",
      "metadata": {},
      "source": "Consider the nonlinear system\n"
    },
    {
      "cell_type": "markdown",
      "metadata": {},
      "source": "$$\n  \\begin{array}{ccc}\n  \\dot{x} &=& f(x, u) \\\\\n        y &=& g(x, u)\n  \\end{array}\n  $$\n"
    },
    {
      "cell_type": "markdown",
      "metadata": {},
      "source": "Assume that $x_e$ is an equilibrium when $u=u_e$ (cst):\n"
    },
    {
      "cell_type": "markdown",
      "metadata": {},
      "source": "$$\n  f(x_e, u_e) = 0\n  $$\n"
    },
    {
      "cell_type": "markdown",
      "metadata": {},
      "source": "and let\n"
    },
    {
      "cell_type": "markdown",
      "metadata": {},
      "source": "$$\n  y_e = g(x_e, u_e)\n  $$\n"
    },
    {
      "cell_type": "markdown",
      "metadata": {},
      "source": "------------------------------------------------------------------------\n"
    },
    {
      "cell_type": "markdown",
      "metadata": {},
      "source": "Define the error variables\n"
    },
    {
      "cell_type": "markdown",
      "metadata": {},
      "source": "-   $\\Delta x = x - x_e$,\n\n-   $\\Delta u = u - u_e$ and\n\n-   $\\Delta y = y - y_e$.\n"
    },
    {
      "cell_type": "markdown",
      "metadata": {},
      "source": "------------------------------------------------------------------------\n"
    },
    {
      "cell_type": "markdown",
      "metadata": {},
      "source": "As long as the error variables stay small\n"
    },
    {
      "cell_type": "markdown",
      "metadata": {},
      "source": "$$\n  f(x, u) \n  \\simeq\n  \\overbrace{f(x_e, u_e)}^0 + \n  \\frac{\\partial f}{\\partial x}(x_e, u_e) \\Delta x\n  + \\frac{\\partial f}{\\partial u}(x_e, u_e) \\Delta u\n  $$\n"
    },
    {
      "cell_type": "markdown",
      "metadata": {},
      "source": "$$\n  g(x, u) \n  \\simeq\n  \\overbrace{g(x_e, u_e)}^{y_e} + \n  \\frac{\\partial g}{\\partial x}(x_e, u_e) \\Delta x\n  + \\frac{\\partial g}{\\partial u}(x_e, u_e) \\Delta u\n  $$\n"
    },
    {
      "cell_type": "markdown",
      "metadata": {},
      "source": "------------------------------------------------------------------------\n"
    },
    {
      "cell_type": "markdown",
      "metadata": {},
      "source": "Hence, the error variables satisfy *approximately*\n"
    },
    {
      "cell_type": "markdown",
      "metadata": {},
      "source": "$$\n  \\begin{array}{c}\n  d(\\Delta x)/dt &=& A \\Delta x + B \\Delta u \\\\\n  \\Delta y       &=& C \\Delta x + D \\Delta u\n  \\end{array}\n  $$\n"
    },
    {
      "cell_type": "markdown",
      "metadata": {},
      "source": "with\n"
    },
    {
      "cell_type": "markdown",
      "metadata": {},
      "source": "$$\n  \\left[\n  \\begin{array}{c|c}\n  A &  B \\\\\n  \\hline\n  C &  D\n  \\end{array} \n  \\right]\n  = \n  \\left[\n  \\begin{array}{c|c}\n  \\frac{\\partial f}{\\partial x} &  \\frac{\\partial f}{\\partial u} \\\\\n  \\hline\n  \\frac{\\partial g}{\\partial x} &  \\frac{\\partial g}{\\partial u}\n  \\end{array} \n  \\right](x_e, u_e)\n  $$\n"
    },
    {
      "cell_type": "markdown",
      "metadata": {},
      "source": "Asymptotic Stability\n--------------------\n"
    },
    {
      "cell_type": "markdown",
      "metadata": {},
      "source": "The equilibrium $x_e$ is locally asymptotically stable for\n"
    },
    {
      "cell_type": "markdown",
      "metadata": {},
      "source": "$$\n  \\dot{x} = f(x, u_e)\n  $$\n"
    },
    {
      "cell_type": "markdown",
      "metadata": {},
      "source": "$\\Longleftrightarrow$\n"
    },
    {
      "cell_type": "markdown",
      "metadata": {},
      "source": "The equilibrium $0$ is locally asymptotically stable for\n"
    },
    {
      "cell_type": "markdown",
      "metadata": {},
      "source": "$$\n\\frac{d \\Delta x}{dt} = A \\Delta x\n$$\n"
    },
    {
      "cell_type": "markdown",
      "metadata": {},
      "source": "where $A = \\partial f (x_e, u_e) / \\partial x.$\n"
    },
    {
      "cell_type": "markdown",
      "metadata": {},
      "source": "<i class=\"fa fa-eye\"></i> \u2013 Linearization\n-----------------------------------------\n"
    },
    {
      "cell_type": "markdown",
      "metadata": {},
      "source": "Consider\n"
    },
    {
      "cell_type": "markdown",
      "metadata": {},
      "source": "$$\n\\dot{x} = -x^2 + u, \\; y = x u\n$$\n"
    },
    {
      "cell_type": "markdown",
      "metadata": {},
      "source": "If we set $u_e = 1$, the system has an equilibrium at $x_e = 1$ (and\nalso $x_e = -1$ but we focus on the former) and the corresponding $y$ is\n$y_e = x_e u_e = 1$.\n"
    },
    {
      "cell_type": "markdown",
      "metadata": {},
      "source": "------------------------------------------------------------------------\n"
    },
    {
      "cell_type": "markdown",
      "metadata": {},
      "source": "Around this configuration $(x_e, u_e) = (1, 1)$, we have\n"
    },
    {
      "cell_type": "markdown",
      "metadata": {},
      "source": "$$\n\\frac{\\partial (-x^2+u)}{\\partial x} = -2x_e = -2,\n\\; \\frac{\\partial (-x^2+u)}{\\partial u} = 1,\n$$\n"
    },
    {
      "cell_type": "markdown",
      "metadata": {},
      "source": "and\n"
    },
    {
      "cell_type": "markdown",
      "metadata": {},
      "source": "$$\n\\frac{\\partial x u }{\\partial x} = u_e = 1,\n\\; \\frac{\\partial x u}{\\partial u} = x_e = 1.\n$$\n"
    },
    {
      "cell_type": "markdown",
      "metadata": {},
      "source": "------------------------------------------------------------------------\n"
    },
    {
      "cell_type": "markdown",
      "metadata": {},
      "source": "Thus, the approximate, linearized dynamics around this equilibrium is\n"
    },
    {
      "cell_type": "markdown",
      "metadata": {},
      "source": "$$\n\\begin{array}{rcr}\nd(x-1)/dt &=& -2 (x - 1) + (u - 1) \\\\\ny -1      &=&  (x - 1) + (u - 1)\n\\end{array}\n$$\n"
    },
    {
      "cell_type": "markdown",
      "metadata": {},
      "source": "<i class=\"fa fa-question-circle-o\"></i> \u2013 Linearized Dynamics / Pendulum\n------------------------------------------------------------------------\n"
    },
    {
      "cell_type": "markdown",
      "metadata": {},
      "source": "A pendulum submitted to a torque $c$ is governed by\n"
    },
    {
      "cell_type": "markdown",
      "metadata": {},
      "source": "$$\nm \\ell^2 \\ddot{\\theta} + b \\dot{\\theta} + m g \\ell \\sin \\theta = c.\n$$\n"
    },
    {
      "cell_type": "markdown",
      "metadata": {},
      "source": "We assume that only the angle $\\theta$ is effectively measured.\n"
    },
    {
      "cell_type": "markdown",
      "metadata": {},
      "source": "------------------------------------------------------------------------\n"
    },
    {
      "cell_type": "markdown",
      "metadata": {},
      "source": "-   What are the function $f$ and $g$ that determine the nonlinear\n    dynamics of the pendulum when $x=(\\theta, \\dot{\\theta})$, $u=c$ and\n    $y=\\theta$?\n\n-   Show that for any angle $\\theta_e$ we can find a constant value\n    $c_e$ of the torque such that $x_e = (\\theta_e, 0)$ is an\n    equilibrium.\n\n-   Compute the linearized dynamics of the pendulum around this\n    equilibrium and put it in the standard form (compute $A$, $B$, $C$\n    and $D$).\n"
    },
    {
      "cell_type": "markdown",
      "metadata": {},
      "source": "Internal Dynamics\n=================\n"
    },
    {
      "cell_type": "markdown",
      "metadata": {},
      "source": "------------------------------------------------------------------------\n"
    },
    {
      "cell_type": "markdown",
      "metadata": {},
      "source": "We study the behavior of the solution\n"
    },
    {
      "cell_type": "markdown",
      "metadata": {},
      "source": "$$\n\\dot{x} = A x, \\; x(0) = x_0 \\in \\mathbb{R}^n\n$$\n"
    },
    {
      "cell_type": "markdown",
      "metadata": {},
      "source": "We try to get some understanding with the simplest cases first.\n"
    },
    {
      "cell_type": "markdown",
      "metadata": {},
      "source": "Scalar Case, Real-Valued\n------------------------\n"
    },
    {
      "cell_type": "markdown",
      "metadata": {},
      "source": "$$\n  \\dot{x} = a x\n  $$\n"
    },
    {
      "cell_type": "markdown",
      "metadata": {},
      "source": "$a \\in \\mathbb{R}$, $x(0) = x_0 \\in \\mathbb{R}$.\n"
    },
    {
      "cell_type": "markdown",
      "metadata": {},
      "source": "------------------------------------------------------------------------\n"
    },
    {
      "cell_type": "markdown",
      "metadata": {},
      "source": "**Solution:** $$\n  x(t) = e^{a t} x_0\n  $$\n"
    },
    {
      "cell_type": "markdown",
      "metadata": {},
      "source": "**Proof:** $$\n\\frac{d}{dt} e^{at} x_0 = a e^{at} x_0 = a x(t)\n$$ and $$\nx(0) = e^{a \\times 0} x_0 = x_0.\n$$\n"
    },
    {
      "cell_type": "markdown",
      "metadata": {},
      "source": "<i class=\"fa fa-area-chart\"></i> Trajectory\n-------------------------------------------\n"
    },
    {
      "cell_type": "code",
      "execution_count": 2,
      "metadata": {},
      "outputs": [],
      "source": "a = 2.0; x0 = 1.0\nfigure()\nt = linspace(0.0, 3.0, 1000)\nplot(t, exp(a*t)*x0, \"k\")\nxlabel(\"$t$\"); ylabel(\"$x(t)$\"); title(f\"$a={a}$\")\ngrid(); axis([0.0, 2.0, 0.0, 10.0])"
    },
    {
      "cell_type": "markdown",
      "metadata": {},
      "source": "<i class=\"fa fa-area-chart\"></i>\n--------------------------------\n"
    },
    {
      "cell_type": "code",
      "execution_count": 3,
      "metadata": {},
      "outputs": [],
      "source": "figure()\nplot(real(a), imag(a), \"x\", color=\"k\", ms=10.0)\ngca().set_aspect(1.0)\nxlim(-3,3); ylim(-3,3); \nplot([-3,3], [0,0], \"k\")\nplot([0, 0], [-3, 3], \"k\")\nxticks([-2,-1,0,1,2]); yticks([-2,-1,0,1,2])\ntitle(f\"$a={a}$\")\ngrid(True)"
    },
    {
      "cell_type": "markdown",
      "metadata": {},
      "source": "<i class=\"fa fa-area-chart\"></i>\n--------------------------------\n"
    },
    {
      "cell_type": "code",
      "execution_count": 4,
      "metadata": {},
      "outputs": [],
      "source": "a = 1.0; x0 = 1.0\nfigure()\nt = linspace(0.0, 3.0, 1000)\nplot(t, exp(a*t)*x0, \"k\")\nxlabel(\"$t$\"); ylabel(\"$x(t)$\"); title(f\"$a={a}$\")\ngrid(); axis([0.0, 2.0, 0.0, 10.0])"
    },
    {
      "cell_type": "markdown",
      "metadata": {},
      "source": "<i class=\"fa fa-area-chart\"></i>\n--------------------------------\n"
    },
    {
      "cell_type": "code",
      "execution_count": 5,
      "metadata": {},
      "outputs": [],
      "source": "figure()\nplot(real(a), imag(a), \"x\", color=\"k\", ms=10.0)\ngca().set_aspect(1.0)\nxlim(-3,3); ylim(-3,3); \nplot([-3,3], [0,0], \"k\")\nplot([0, 0], [-3, 3], \"k\")\nxticks([-2,-1,0,1,2]); yticks([-2,-1,0,1,2])\ntitle(f\"$a={a}$\")\ngrid(True)"
    },
    {
      "cell_type": "markdown",
      "metadata": {},
      "source": "<i class=\"fa fa-area-chart\"></i>\n--------------------------------\n"
    },
    {
      "cell_type": "code",
      "execution_count": 6,
      "metadata": {},
      "outputs": [],
      "source": "a = 0.0; x0 = 1.0\nfigure()\nt = linspace(0.0, 3.0, 1000)\nplot(t, exp(a*t)*x0, \"k\")\nxlabel(\"$t$\"); ylabel(\"$x(t)$\"); title(f\"$a={a}$\")\ngrid(); axis([0.0, 2.0, 0.0, 10.0])"
    },
    {
      "cell_type": "markdown",
      "metadata": {},
      "source": "<i class=\"fa fa-area-chart\"></i>\n--------------------------------\n"
    },
    {
      "cell_type": "code",
      "execution_count": 7,
      "metadata": {},
      "outputs": [],
      "source": "figure()\nplot(real(a), imag(a), \"x\", color=\"k\", ms=10.0)\ngca().set_aspect(1.0)\nxlim(-3,3); ylim(-3,3); \nplot([-3,3], [0,0], \"k\")\nplot([0, 0], [-3, 3], \"k\")\nxticks([-2,-1,0,1,2]); yticks([-2,-1,0,1,2])\ntitle(f\"$a={a}$\")\ngrid(True)"
    },
    {
      "cell_type": "markdown",
      "metadata": {},
      "source": "<i class=\"fa fa-area-chart\"></i>\n--------------------------------\n"
    },
    {
      "cell_type": "code",
      "execution_count": 8,
      "metadata": {},
      "outputs": [],
      "source": "a = -1.0; x0 = 1.0\nfigure()\nt = linspace(0.0, 3.0, 1000)\nplot(t, exp(a*t)*x0, \"k\")\nxlabel(\"$t$\"); ylabel(\"$x(t)$\"); title(f\"$a={a}$\")\ngrid(); axis([0.0, 2.0, 0.0, 10.0])"
    },
    {
      "cell_type": "markdown",
      "metadata": {},
      "source": "<i class=\"fa fa-area-chart\"></i>\n--------------------------------\n"
    },
    {
      "cell_type": "code",
      "execution_count": 9,
      "metadata": {},
      "outputs": [],
      "source": "figure()\nplot(real(a), imag(a), \"x\", color=\"k\", ms=10.0)\ngca().set_aspect(1.0)\nxlim(-3,3); ylim(-3,3); \nplot([-3,3], [0,0], \"k\")\nplot([0, 0], [-3, 3], \"k\")\nxticks([-2,-1,0,1,2]); yticks([-2,-1,0,1,2])\ntitle(f\"$a={a}$\")\ngrid(True)"
    },
    {
      "cell_type": "markdown",
      "metadata": {},
      "source": "<i class=\"fa fa-area-chart\"></i>\n--------------------------------\n"
    },
    {
      "cell_type": "code",
      "execution_count": 10,
      "metadata": {},
      "outputs": [],
      "source": "a = -2.0; x0 = 1.0\nfigure()\nt = linspace(0.0, 3.0, 1000)\nplot(t, exp(a*t)*x0, \"k\")\nxlabel(\"$t$\"); ylabel(\"$x(t)$\"); title(f\"$a={a}$\")\ngrid(); axis([0.0, 2.0, 0.0, 10.0])"
    },
    {
      "cell_type": "markdown",
      "metadata": {},
      "source": "<i class=\"fa fa-area-chart\"></i>\n--------------------------------\n"
    },
    {
      "cell_type": "code",
      "execution_count": 11,
      "metadata": {},
      "outputs": [],
      "source": "figure()\nplot(real(a), imag(a), \"x\", color=\"k\", ms=10.0)\ngca().set_aspect(1.0)\nxlim(-3,3); ylim(-3,3); \nplot([-3,3], [0,0], \"k\")\nplot([0, 0], [-3, 3], \"k\")\nxticks([-2,-1,0,1,2]); yticks([-2,-1,0,1,2])\ntitle(f\"$a={a}$\")\ngrid(True)"
    },
    {
      "cell_type": "markdown",
      "metadata": {},
      "source": "Analysis\n--------\n"
    },
    {
      "cell_type": "markdown",
      "metadata": {},
      "source": "-   The origin is globally asymptotically stable when $a < 0.0$:\\\n    $a$ is in the open left-hand plane,\n\n-   In this case, define the time constant $\\tau = - 1 / a$:\n\n    $$\n    x(t) = e^{at} x_0 = e^{-t/\\tau} x_0\n    $$\n"
    },
    {
      "cell_type": "markdown",
      "metadata": {},
      "source": "------------------------------------------------------------------------\n"
    },
    {
      "cell_type": "markdown",
      "metadata": {},
      "source": "$\\tau$ controls the time it take for the solution to (almost) reach to\nthe origin:\n"
    },
    {
      "cell_type": "markdown",
      "metadata": {},
      "source": "-   when $t = \\tau$, $|x(t)|$ is $\\simeq$ $33 \\%$ of $|x_0|$;\n\n-   when $t = 3 \\tau$, $|x(t)|$ is $\\simeq$ $5 \\%$ of $|x_0|$.\n"
    },
    {
      "cell_type": "markdown",
      "metadata": {},
      "source": "Vector Case, Diagonal, Real-Valued\n----------------------------------\n"
    },
    {
      "cell_type": "markdown",
      "metadata": {},
      "source": "$$\n\\dot{x}_1 = a_1 x_1, \\; x_1(0) = x_{10}\n$$\n"
    },
    {
      "cell_type": "markdown",
      "metadata": {},
      "source": "$$\n\\dot{x}_2 = a_2 x_2, \\; x_2(0) = x_{20}\n$$\n"
    },
    {
      "cell_type": "markdown",
      "metadata": {},
      "source": "i.e.\n"
    },
    {
      "cell_type": "markdown",
      "metadata": {},
      "source": "$$\nA = \\left[\n\\begin{array}{cc}\na_1 &   0 \\\\\n  0 & a_2\n\\end{array}\n\\right]\n$$\n"
    },
    {
      "cell_type": "markdown",
      "metadata": {},
      "source": "------------------------------------------------------------------------\n"
    },
    {
      "cell_type": "markdown",
      "metadata": {},
      "source": "**Solution:** by linearity\n"
    },
    {
      "cell_type": "markdown",
      "metadata": {},
      "source": "$$\nx(t) =   e^{a_1 t} \\left[\\begin{array}{c} x_{10} \\\\ 0 \\end{array}\\right] \n       + e^{a_2 t} \\left[\\begin{array}{c} 0 \\\\ x_{20} \\end{array}\\right] \n$$\n"
    },
    {
      "cell_type": "markdown",
      "metadata": {},
      "source": "<i class=\"fa fa-area-chart\"></i>\n--------------------------------\n"
    },
    {
      "cell_type": "code",
      "execution_count": 12,
      "metadata": {},
      "outputs": [],
      "source": "a1 = -1.0; a2 = 2.0; x10 = x20 = 1.0\nfigure()\nt = linspace(0.0, 3.0, 1000)\nx1 = exp(a1*t)*x10; x2 = exp(a2*t)*x20\nxn = sqrt(x1**2 + x2**2)\nplot(t, xn , \"k\")\nplot(t, x1, \"k--\")\nplot(t, x2 , \"k--\")\nxlabel(\"$t$\"); ylabel(\"$\\|x(t)\\|$\"); title(f\"$a_1={a1}, \\; a_2={a2}$\")\ngrid(); axis([0.0, 2.0, 0.0, 10.0])"
    },
    {
      "cell_type": "markdown",
      "metadata": {},
      "source": "<i class=\"fa fa-area-chart\"></i>\n--------------------------------\n"
    },
    {
      "cell_type": "code",
      "execution_count": 13,
      "metadata": {},
      "outputs": [],
      "source": "figure()\nplot(real(a1), imag(a1), \"x\", color=\"k\", ms=10.0)\nplot(real(a2), imag(a2), \"x\", color=\"k\", ms=10.0)\ngca().set_aspect(1.0)\nxlim(-3,3); ylim(-3,3); \nplot([-3,3], [0,0], \"k\")\nplot([0, 0], [-3, 3], \"k\")\nxticks([-2,-1,0,1,2]); yticks([-2,-1,0,1,2])\ntitle(f\"$a_1={a1}, \\; a_2={a2}$\")\ngrid(True)"
    },
    {
      "cell_type": "markdown",
      "metadata": {},
      "source": "<i class=\"fa fa-area-chart\"></i>\n--------------------------------\n"
    },
    {
      "cell_type": "code",
      "execution_count": 14,
      "metadata": {},
      "outputs": [],
      "source": "a1 = -1.0; a2 = -2.0; x10 = x20 = 1.0\nfigure()\nt = linspace(0.0, 3.0, 1000)\nx1 = exp(a1*t)*x10; x2 = exp(a2*t)*x20\nxn = sqrt(x1**2 + x2**2)\nplot(t, xn , \"k\")\nplot(t, x1, \"k--\")\nplot(t, x2 , \"k--\")\nxlabel(\"$t$\"); ylabel(\"$\\|x(t)\\|$\"); title(f\"$a_1={a1}, \\; a_2={a2}$\")\ngrid(); axis([0.0, 2.0, 0.0, 10.0])"
    },
    {
      "cell_type": "markdown",
      "metadata": {},
      "source": "<i class=\"fa fa-area-chart\"></i>\n--------------------------------\n"
    },
    {
      "cell_type": "code",
      "execution_count": 15,
      "metadata": {},
      "outputs": [],
      "source": "figure()\nplot(real(a1), imag(a1), \"x\", color=\"k\", ms=10.0)\nplot(real(a2), imag(a2), \"x\", color=\"k\", ms=10.0)\ngca().set_aspect(1.0)\nxlim(-3,3); ylim(-3,3); \nplot([-3,3], [0,0], \"k\")\nplot([0, 0], [-3, 3], \"k\")\nxticks([-2,-1,0,1,2]); yticks([-2,-1,0,1,2])\ntitle(f\"$a_1={a1}, \\; a_2={a2}$\")\ngrid(True)"
    },
    {
      "cell_type": "markdown",
      "metadata": {},
      "source": "Analysis\n--------\n"
    },
    {
      "cell_type": "markdown",
      "metadata": {},
      "source": "-   The rightmost $a_i$ determines the asymptotic behavior,\n\n-   The origin is globally asymptotically stable only when every $a_i$\n    is in the open left-hand plane.\n"
    },
    {
      "cell_type": "markdown",
      "metadata": {},
      "source": "Scalar Case, Complex-Valued\n---------------------------\n"
    },
    {
      "cell_type": "markdown",
      "metadata": {},
      "source": "$$\n  \\dot{x} = a x\n  $$\n"
    },
    {
      "cell_type": "markdown",
      "metadata": {},
      "source": "$a \\in \\mathbb{C}$, $x(0) = x_0 \\in \\mathbb{C}$.\n"
    },
    {
      "cell_type": "markdown",
      "metadata": {},
      "source": "------------------------------------------------------------------------\n"
    },
    {
      "cell_type": "markdown",
      "metadata": {},
      "source": "**Solution:** formally, the same old solution\n"
    },
    {
      "cell_type": "markdown",
      "metadata": {},
      "source": "$$\nx(t) = e^{at} x_0\n$$\n"
    },
    {
      "cell_type": "markdown",
      "metadata": {},
      "source": "But now, $x(t) \\in \\mathbb{C}$:\n"
    },
    {
      "cell_type": "markdown",
      "metadata": {},
      "source": "if $a = \\sigma + i \\omega$ and $x_0 = |x_0| e^{i \\angle x_0}$\n"
    },
    {
      "cell_type": "markdown",
      "metadata": {},
      "source": "$$\n|x(t)| = |x_0| e^{\\sigma t} \\, \\mbox{ and } \\, \\angle x(t) = \\angle x_0 + \\omega t.\n$$\n"
    },
    {
      "cell_type": "markdown",
      "metadata": {},
      "source": "<i class=\"fa fa-area-chart\"></i>\n--------------------------------\n"
    },
    {
      "cell_type": "code",
      "execution_count": 16,
      "metadata": {},
      "outputs": [],
      "source": "a = 1.0j; x0=1.0\nfigure()\nt = linspace(0.0, 20.0, 1000)\nplot(t, real(exp(a*t)*x0), label=\"$\\mathrm{Re}(x(t))$\")\nplot(t, imag(exp(a*t)*x0), label=\"$\\mathrm{Im}(x(t))$\")\nxlabel(\"$t$\")\nlegend(); grid()"
    },
    {
      "cell_type": "markdown",
      "metadata": {},
      "source": "------------------------------------------------------------------------\n"
    },
    {
      "cell_type": "code",
      "execution_count": 17,
      "metadata": {},
      "outputs": [],
      "source": "fig = figure()\nax = fig.add_subplot(111, projection=\"3d\")\nzticks = ax.set_zticks\nax.plot(t, real(exp(a*t)*x0), imag(exp(a*t)*x0))\nxticks([0.0, 20.0]); yticks([]); zticks([])\nax.set_xlabel(\"$t$\")\nax.set_ylabel(\"$\\mathrm{Re}(x(t))$\")\nax.set_zlabel(\"$\\mathrm{Im}(x(t))$\")"
    },
    {
      "cell_type": "markdown",
      "metadata": {},
      "source": "<i class=\"fa fa-area-chart\"></i>\n--------------------------------\n"
    },
    {
      "cell_type": "code",
      "execution_count": 18,
      "metadata": {},
      "outputs": [],
      "source": "figure()\nplot(real(a), imag(a), \"x\", color=\"k\", ms=10.0)\ngca().set_aspect(1.0)\nxlim(-3,3); ylim(-3,3); \nplot([-3,3], [0,0], \"k\")\nplot([0, 0], [-3, 3], \"k\")\nxticks([-2,-1,0,1,2]); yticks([-2,-1,0,1,2])\ntitle(f\"$a={a}$\")\ngrid(True)"
    },
    {
      "cell_type": "markdown",
      "metadata": {},
      "source": "<i class=\"fa fa-area-chart\"></i>\n--------------------------------\n"
    },
    {
      "cell_type": "code",
      "execution_count": 19,
      "metadata": {},
      "outputs": [],
      "source": "a = -0.5 + 1.0j; x0=1.0\nfigure()\nt = linspace(0.0, 20.0, 1000)\nplot(t, real(exp(a*t)*x0), label=\"$\\mathrm{Re}(x(t))$\")\nplot(t, imag(exp(a*t)*x0), label=\"$\\mathrm{Im}(x(t))$\")\nxlabel(\"$t$\")\nlegend(); grid()"
    },
    {
      "cell_type": "markdown",
      "metadata": {},
      "source": "<i class=\"fa fa-area-chart\"></i>\n--------------------------------\n"
    },
    {
      "cell_type": "code",
      "execution_count": 20,
      "metadata": {},
      "outputs": [],
      "source": "fig = figure()\nax = fig.add_subplot(111, projection=\"3d\")\nzticks = ax.set_zticks\nax.plot(t, real(exp(a*t)*x0), imag(exp(a*t)*x0))\nxticks([0.0, 20.0]); yticks([]); zticks([])\nax.set_xlabel(\"$t$\")\nax.set_ylabel(\"$\\mathrm{Re}(x(t))$\")\nax.set_zlabel(\"$\\mathrm{Im}(x(t))$\")"
    },
    {
      "cell_type": "markdown",
      "metadata": {},
      "source": "<i class=\"fa fa-area-chart\"></i>\n--------------------------------\n"
    },
    {
      "cell_type": "code",
      "execution_count": 21,
      "metadata": {},
      "outputs": [],
      "source": "figure()\nplot(real(a), imag(a), \"x\", color=\"k\", ms=10.0)\ngca().set_aspect(1.0)\nxlim(-3,3); ylim(-3,3); \nplot([-3,3], [0,0], \"k\")\nplot([0, 0], [-3, 3], \"k\")\nxticks([-2,-1,0,1,2]); yticks([-2,-1,0,1,2])\ntitle(f\"$a={a}$\")\ngrid(True)"
    },
    {
      "cell_type": "markdown",
      "metadata": {},
      "source": "Analysis\n--------\n"
    },
    {
      "cell_type": "markdown",
      "metadata": {},
      "source": "-   the origin is globally asymptotically stable if $a$ is in the open\n    left-hand plane: $$\\mathrm{Re} (a) < 0$$\n\n-   if $a= \\sigma + i \\omega$,\n\n    -   $\\tau = -1 /\\sigma$ is the time constant related of the speed of\n        convergence,\n\n    -   $\\omega$ the (rotational) frequency of the (damped)\n        oscillations.\n"
    },
    {
      "cell_type": "markdown",
      "metadata": {},
      "source": "------------------------------------------------------------------------\n"
    },
    {
      "cell_type": "markdown",
      "metadata": {},
      "source": "Only one step left before the (almost) general case \u2026\n"
    },
    {
      "cell_type": "markdown",
      "metadata": {},
      "source": "Exponential Matrix\n------------------\n"
    },
    {
      "cell_type": "markdown",
      "metadata": {},
      "source": "If $M \\in \\mathbb{C}^{n \\times n}$, the **exponential** is defined as:\n"
    },
    {
      "cell_type": "markdown",
      "metadata": {},
      "source": "$$\n  e^{M} = \\sum_{i=0}^{+\\infty} \\frac{M^n}{n !} \\in \\mathbb{C}^{n \\times n}\n  $$\n"
    },
    {
      "cell_type": "markdown",
      "metadata": {},
      "source": "------------------------------------------------------------------------\n"
    },
    {
      "cell_type": "markdown",
      "metadata": {},
      "source": "### <i class=\"fa fa-warning\"></i>\n"
    },
    {
      "cell_type": "markdown",
      "metadata": {},
      "source": "The exponential of a matrix $M$ is *not* the matrix with elements\n$e^{M_{ij}}$ (the elementwise exponential).\n"
    },
    {
      "cell_type": "markdown",
      "metadata": {},
      "source": "-   elementwise exponential: **`exp`** (`numpy` module),\n\n-   exponential: **`expm`** (`scipy.linalg` module).\n"
    },
    {
      "cell_type": "markdown",
      "metadata": {},
      "source": "<i class=\"fa fa-question-circle-o\"></i> Exponential Matrix\n----------------------------------------------------------\n"
    },
    {
      "cell_type": "markdown",
      "metadata": {},
      "source": "Let\n"
    },
    {
      "cell_type": "markdown",
      "metadata": {},
      "source": "$$\n  M = \n  \\left[\n  \\begin{array}{cc}\n  0 & 1 \\\\\n  1 & 0\n  \\end{array}\n  \\right]\n  $$\n"
    },
    {
      "cell_type": "markdown",
      "metadata": {},
      "source": "-   \\[<i class=\"fa fa-superscript\"></i>\\] Compute the exponential of\n    $M$.\n\n    <i class=\"fa fa-key\"></i> **Hint:**\n    $\\cosh x = \\frac{e^x + e^{-x}}{2},$\n    $\\sinh x = \\frac{e^x - e^{-x}}{2}.$\n\n-   \\[<i class=\"fa fa-flask\"></i>\\] Check the results with `expm`.\n"
    },
    {
      "cell_type": "markdown",
      "metadata": {},
      "source": "------------------------------------------------------------------------\n"
    },
    {
      "cell_type": "markdown",
      "metadata": {},
      "source": "Note that\n"
    },
    {
      "cell_type": "markdown",
      "metadata": {},
      "source": "$$\n  \\begin{align}\n  \\frac{d}{dt} e^{A t} &= \\frac{d}{dt} \\sum_{n=0}^{+\\infty} \\frac{A^n}{n!} t^n \\\\ \n  &= \\sum_{n=1}^{+\\infty} \\frac{A^{n}}{(n-1)!} t^{n-1} \\\\\n  &= A \\sum_{n=1}^{+\\infty} \\frac{A^{n-1}}{(n-1)!} t^{n-1} \n  = A e^{A t}\n  \\end{align}\n  $$\n"
    },
    {
      "cell_type": "markdown",
      "metadata": {},
      "source": "------------------------------------------------------------------------\n"
    },
    {
      "cell_type": "markdown",
      "metadata": {},
      "source": "Thus, for any $A \\in \\mathbb{C}^{n\\times n}$ and $x_0 \\in \\mathbb{C}^n$,\n"
    },
    {
      "cell_type": "markdown",
      "metadata": {},
      "source": "$$\n  \\frac{d}{dt} (e^{A t} x_0) \n  = A (e^{At} x_0)\n  $$\n"
    },
    {
      "cell_type": "markdown",
      "metadata": {},
      "source": "Internal Dynamics\n-----------------\n"
    },
    {
      "cell_type": "markdown",
      "metadata": {},
      "source": "The solution of\n"
    },
    {
      "cell_type": "markdown",
      "metadata": {},
      "source": "$$\n  \\dot{x} = A x\\; \\mbox{ and } \\; x(0) = x_0\n  $$\n"
    },
    {
      "cell_type": "markdown",
      "metadata": {},
      "source": "is\n"
    },
    {
      "cell_type": "markdown",
      "metadata": {},
      "source": "$$\n  x(t) = e^{A t} x_0.\n  $$\n"
    },
    {
      "cell_type": "markdown",
      "metadata": {},
      "source": "Stability Criteria\n------------------\n"
    },
    {
      "cell_type": "markdown",
      "metadata": {},
      "source": "Let $A \\in \\mathbb{C}^{n \\times n}$.\n"
    },
    {
      "cell_type": "markdown",
      "metadata": {},
      "source": "The origin of $\\dot{x} = A x$ is globally asymptotically stable\n"
    },
    {
      "cell_type": "markdown",
      "metadata": {},
      "source": "$\\Longleftrightarrow$\n"
    },
    {
      "cell_type": "markdown",
      "metadata": {},
      "source": "all eigenvalues of $A$ have a negative real part.\n"
    },
    {
      "cell_type": "markdown",
      "metadata": {},
      "source": "<i class=\"fa fa-question-circle-o\"></i> G.A.S. $\\Leftrightarrow$ L.A.\n---------------------------------------------------------------------\n"
    },
    {
      "cell_type": "markdown",
      "metadata": {},
      "source": "Show that for a linear systems $\\dot{x} = Ax$, it is enough that the\norigin is locally attractive for the system to be globally\nasymptotically stable.\n"
    },
    {
      "cell_type": "markdown",
      "metadata": {},
      "source": "------------------------------------------------------------------------\n"
    },
    {
      "cell_type": "markdown",
      "metadata": {},
      "source": "### Why does this criteria work?\n"
    },
    {
      "cell_type": "markdown",
      "metadata": {},
      "source": "Assume that $A$ is diagonalizable with eigenvalues\n$\\{\\lambda_1, \\dots, \\lambda_n\\}$.\n"
    },
    {
      "cell_type": "markdown",
      "metadata": {},
      "source": "(Very likely unless $A$ has some special structure)\n"
    },
    {
      "cell_type": "markdown",
      "metadata": {},
      "source": "------------------------------------------------------------------------\n"
    },
    {
      "cell_type": "markdown",
      "metadata": {},
      "source": "Then, there is an invertible matrix $P \\in \\mathbb{C}^{n \\times n}$ such\nthat\n"
    },
    {
      "cell_type": "markdown",
      "metadata": {},
      "source": "$$\n  P^{-1} A P = \\mathrm{diag}(\\lambda_1, \\dots, \\lambda_n) =\n  \\left[\n  \\begin{array}{cccc}\n  \\lambda_1 & 0         & \\cdots & 0 \\\\\n  0         & \\lambda_2 & \\cdots & 0 \\\\\n  \\vdots    & \\vdots    & \\vdots & \\vdots \\\\\n  0         & \\cdots    & \\cdots & \\lambda_n\n  \\end{array}\n  \\right] \n  $$\n"
    },
    {
      "cell_type": "markdown",
      "metadata": {},
      "source": "------------------------------------------------------------------------\n"
    },
    {
      "cell_type": "markdown",
      "metadata": {},
      "source": "Thus, if $y = P^{-1} x$, $\\dot{x} = A x$ is equivalent to\n"
    },
    {
      "cell_type": "markdown",
      "metadata": {},
      "source": "$$\n  \\left|\n  \\begin{array}{ccc}\n  \\dot{y}_1 &=& \\lambda_1 y_1 \\\\\n  \\dot{y}_2 &=& \\lambda_2 y_2 \\\\\n  \\vdots &=& \\vdots \\\\\n  \\dot{y}_n &=& \\lambda_n y_n \\\\\n  \\end{array}\n  \\right.\n  $$\n"
    },
    {
      "cell_type": "markdown",
      "metadata": {},
      "source": "The system is G.A.S. iff each component of the system is, which holds\niff $\\mathrm{Re} \\lambda_i < 0$ for each $i$.\n"
    },
    {
      "cell_type": "markdown",
      "metadata": {},
      "source": "<i class=\"fa fa-question-circle-o\"></i> Stability / 2nd-order system\n--------------------------------------------------------------------\n"
    },
    {
      "cell_type": "markdown",
      "metadata": {},
      "source": "Consider the scalar ODE\n"
    },
    {
      "cell_type": "markdown",
      "metadata": {},
      "source": "$$\n  \\ddot{x} + k x = 0, \\; \\mbox{ with } k > 0\n  $$\n"
    },
    {
      "cell_type": "markdown",
      "metadata": {},
      "source": "-   \\[<i class=\"fa fa-superscript\"></i>\\] Determine the representation\n    of this system as a first-order ODE with state $(x, \\dot{x})$.\n\n-   \\[<i class=\"fa fa-lightbulb-o\"></i>,\n    <i class=\"fa fa-superscript\"></i>\\] Is this system asymptotically\n    stable?\n"
    },
    {
      "cell_type": "markdown",
      "metadata": {},
      "source": "------------------------------------------------------------------------\n"
    },
    {
      "cell_type": "markdown",
      "metadata": {},
      "source": "-   \\[<i class=\"fa fa-lightbulb-o\"></i>,\n    <i class=\"fa fa-superscript\"></i>\\] If its solutions oscillate,\n    determine its (rotational) frequency $\\omega$?\n\n-   \\[<i class=\"fa fa-lightbulb-o\"></i>,\n    <i class=\"fa fa-superscript\"></i>\\] Characterize the asymptotic\n    behavior of $x(t)$ when $\\ddot{x} + b \\dot{x} + k x = 0$ for some\n    $b>0$.\n"
    },
    {
      "cell_type": "markdown",
      "metadata": {},
      "source": "<i class=\"fa fa-question-circle-o\"></i> Stability / Integrators\n---------------------------------------------------------------\n"
    },
    {
      "cell_type": "markdown",
      "metadata": {},
      "source": "Consider the system\n"
    },
    {
      "cell_type": "markdown",
      "metadata": {},
      "source": "$$\n  \\dot{x} = J x \n  \\; \\mbox{ with } \\; \n  J = \n  \\left[\n  \\begin{array}{cccc}\n  0 & 1 & 0 & \\dots & 0 \\\\\n  0 & 0 & 1 & \\dots & 0 \\\\\n  \\vdots & \\vdots & \\vdots & \\vdots & \\vdots \\\\\n  0 & 0 & 0 & \\dots & 1 \\\\\n  0 & 0 & 0 & \\dots & 0\n  \\end{array}\n  \\right]\n  $$\n"
    },
    {
      "cell_type": "markdown",
      "metadata": {},
      "source": "------------------------------------------------------------------------\n"
    },
    {
      "cell_type": "markdown",
      "metadata": {},
      "source": "-   \\[<i class=\"fa fa-lightbulb-o\"></i>,\n    <i class=\"fa fa-superscript\"></i>\\] Compute the solution when\n\n    $$\n      x(0) =\n      \\left[\n      \\begin{array}{c}\n      0 \\\\\n      \\vdots \\\\\n      0 \\\\\n      1\n      \\end{array}\n      \\right],$$\n\n    then for any initial condition.\n"
    },
    {
      "cell_type": "markdown",
      "metadata": {},
      "source": "------------------------------------------------------------------------\n"
    },
    {
      "cell_type": "markdown",
      "metadata": {},
      "source": "-   \\[<i class=\"fa fa-lightbulb-o\"></i>,\n    <i class=\"fa fa-superscript\"></i>\\] Same questions when\n    $\\dot{x} = (\\lambda I + J)x$ for some $\\lambda \\in \\mathbb{C}$.\n\n-   \\[<i class=\"fa fa-lightbulb-o\"></i>\\] Is the system asymptotically\n    stable ? Why does it matter in general?\n"
    },
    {
      "cell_type": "markdown",
      "metadata": {},
      "source": "I/O Behavior\n============\n"
    },
    {
      "cell_type": "markdown",
      "metadata": {},
      "source": "Context\n-------\n"
    },
    {
      "cell_type": "markdown",
      "metadata": {},
      "source": "-   Assume that the system is \u201cinitially at rest\u201d:\n\n    $$\n    x(0) = 0\n    $$\n\n-   Forget about the state $x(t)$ (may be unknown)\n\n-   Study the input/output (I/O) relationship:\n\n    $$\n    u \\to y\n    $$\n"
    },
    {
      "cell_type": "markdown",
      "metadata": {},
      "source": "------------------------------------------------------------------------\n"
    },
    {
      "cell_type": "markdown",
      "metadata": {},
      "source": "In this context, we have:\n"
    },
    {
      "cell_type": "markdown",
      "metadata": {},
      "source": "$$\n  y(t) = \\int_0^{t} C e^{A(t-\\tau)} B u(\\tau) \\, d\\tau + D u(t)\n  $$\n"
    },
    {
      "cell_type": "markdown",
      "metadata": {},
      "source": "Causal Signals\n--------------\n"
    },
    {
      "cell_type": "markdown",
      "metadata": {},
      "source": "-   extend $u(t)$ and $y(t)$ by $0$ when $t<0$ (as **causal signals**).\n\n-   introduce the **Heaviside function** defined by\n\n    $$\n    e(t) = \\left|\n    \\begin{array}{c}\n    1 & \\mbox{if } \\; t\\geq 0, \\\\\n    0 & \\mbox{if } \\; t < 0.\n    \\end{array}\n    \\right.\n    $$\n"
    },
    {
      "cell_type": "markdown",
      "metadata": {},
      "source": "Impulse Response\n----------------\n"
    },
    {
      "cell_type": "markdown",
      "metadata": {},
      "source": "The system **impulse response** is defined by:\n"
    },
    {
      "cell_type": "markdown",
      "metadata": {},
      "source": "$$\nH(t) = (C e^{At} B) \\times e(t) + D \\delta(t) \\in \\mathbb{R}^{p \\times m}\n$$\n"
    },
    {
      "cell_type": "markdown",
      "metadata": {},
      "source": "<i class=\"fa fa-sticky-note\"></i> works for general or **MIMO**\nsystems.\\\nMIMO = multiple-input & multiple-output systems.\n"
    },
    {
      "cell_type": "markdown",
      "metadata": {},
      "source": "<i class=\"fa fa-sticky-note\"></i> $\\delta(t)$ is the **unit impulse**,\nwe\u2019ll get back to it (in the meantime, you may assume that $D=0$).\n"
    },
    {
      "cell_type": "markdown",
      "metadata": {},
      "source": "SISO Systems\n------------\n"
    },
    {
      "cell_type": "markdown",
      "metadata": {},
      "source": "When\n"
    },
    {
      "cell_type": "markdown",
      "metadata": {},
      "source": "$$p = m = 1$$\n"
    },
    {
      "cell_type": "markdown",
      "metadata": {},
      "source": "(single-input & single-output or **SISO** systems),\n"
    },
    {
      "cell_type": "markdown",
      "metadata": {},
      "source": "the $1 \\times 1$ matrix $H(t)$ is identified with a scalar $h(t)$:\n"
    },
    {
      "cell_type": "markdown",
      "metadata": {},
      "source": "$$\nH(t) = [h(t)]\n$$\n"
    },
    {
      "cell_type": "markdown",
      "metadata": {},
      "source": "------------------------------------------------------------------------\n"
    },
    {
      "cell_type": "markdown",
      "metadata": {},
      "source": "Then, we have:\n"
    },
    {
      "cell_type": "markdown",
      "metadata": {},
      "source": "$$\n  y(t) = \\int_{-\\infty}^{+\\infty} H(t - \\tau) u(\\tau) \\, d\\tau\n  $$\n"
    },
    {
      "cell_type": "markdown",
      "metadata": {},
      "source": "and denote $\\ast$ this operation between $H$ and $u$:\n"
    },
    {
      "cell_type": "markdown",
      "metadata": {},
      "source": "$$\n  y(t) = (H \\ast u) (t)\n  $$\n"
    },
    {
      "cell_type": "markdown",
      "metadata": {},
      "source": "It\u2019s called a **convolution**.\n"
    },
    {
      "cell_type": "markdown",
      "metadata": {},
      "source": "<i class=\"fa fa-eye\"></i> Impulse Response\n------------------------------------------\n"
    },
    {
      "cell_type": "markdown",
      "metadata": {},
      "source": "Consider the SISO system\n"
    },
    {
      "cell_type": "markdown",
      "metadata": {},
      "source": "$$\n\\left| \n\\begin{array}{ccl}\n\\dot{x} &=& ax + u \\\\\ny &=& x \\\\\n\\end{array}\n\\right.\n$$\n"
    },
    {
      "cell_type": "markdown",
      "metadata": {},
      "source": "where $a \\neq 0$.\n"
    },
    {
      "cell_type": "markdown",
      "metadata": {},
      "source": "------------------------------------------------------------------------\n"
    },
    {
      "cell_type": "markdown",
      "metadata": {},
      "source": "We have\n"
    },
    {
      "cell_type": "markdown",
      "metadata": {},
      "source": "$$\n\\begin{split}\nH(t) &= (C e^{At} B) \\times e(t) + D \\delta(t)\\\\\n     &= [1]e^{[a]t} [1] e(t) + [0] \\delta(t) \\\\\n     &= [e(t)e^{at}]\n\\end{split}\n$$\n"
    },
    {
      "cell_type": "markdown",
      "metadata": {},
      "source": "------------------------------------------------------------------------\n"
    },
    {
      "cell_type": "markdown",
      "metadata": {},
      "source": "When $u(t) = e(t)$ for example,\n"
    },
    {
      "cell_type": "markdown",
      "metadata": {},
      "source": "$$\n\\begin{split}\ny(t) \n  &= \\int_{-\\infty}^{+\\infty} e(t - \\tau)e^{a(t-\\tau)} e(\\tau) \\, d\\tau \\\\\n  &= \\int_{0}^{t} e^{a(t- \\tau)} \\, d\\tau \\\\\n  &= \\int_{0}^{t} e^{a \\tau} \\, d\\tau  \\\\\n  &= \\frac{1}{a} \\left(e^{a t} - 1 \\right)\n\\end{split} \n$$\n"
    },
    {
      "cell_type": "markdown",
      "metadata": {},
      "source": "------------------------------------------------------------------------\n"
    },
    {
      "cell_type": "markdown",
      "metadata": {},
      "source": "<i class=\"fa fa-question-circle-o\"></i> Impulse Response / Integrator\n---------------------------------------------------------------------\n"
    },
    {
      "cell_type": "markdown",
      "metadata": {},
      "source": "-   \\[<i class=\"fa fa-superscript\"></i>\\] Compute the impulse response\n    of the system\n\n    $$\n    \\left| \n    \\begin{array}{ccc}\n    \\dot{x} &=& u \\\\\n    y &=& x \\\\\n    \\end{array}\n    \\right.\n    $$\n"
    },
    {
      "cell_type": "markdown",
      "metadata": {},
      "source": "where $u \\in \\mathbb{R}$, $x \\in \\mathbb{R}$ and $y \\in \\mathbb{R}$.\n"
    },
    {
      "cell_type": "markdown",
      "metadata": {},
      "source": "<i class=\"fa fa-question-circle-o\"></i> Impulse Response / Double Integrator\n----------------------------------------------------------------------------\n"
    },
    {
      "cell_type": "markdown",
      "metadata": {},
      "source": "-   \\[<i class=\"fa fa-superscript\"></i>\\] Compute the impulse response\n    of the system\n\n    $$\n    \\left| \n    \\begin{array}{ccc}\n    \\dot{x}_1 &=& x_2 \\\\\n    \\dot{x}_2 &=& u \\\\\n    y &=& x_1 \\\\\n    \\end{array}\n    \\right.\n    $$\n\n    where $u \\in \\mathbb{R}$, $x=(x_1, x_2) \\in \\mathbb{R}^2$ and\n    $y \\in \\mathbb{R}$.\n"
    },
    {
      "cell_type": "markdown",
      "metadata": {},
      "source": "<i class=\"fa fa-question-circle-o\"></i> Impulse Response / Gain\n---------------------------------------------------------------\n"
    },
    {
      "cell_type": "markdown",
      "metadata": {},
      "source": "-   \\[<i class=\"fa fa-superscript\"></i>\\] Compute the impulse response\n    of the system\n\n    $$\n    y = K u\n    $$\n\n    where $u \\in \\mathbb{R}^m$, $y \\in \\mathbb{R}^p$ and\n    $K \\in \\mathbb{R}^{p \\times m}$.\n"
    },
    {
      "cell_type": "markdown",
      "metadata": {},
      "source": "<i class=\"fa fa-question-circle-o\"></i> Impulse Response / MIMO System\n----------------------------------------------------------------------\n"
    },
    {
      "cell_type": "markdown",
      "metadata": {},
      "source": "-   \\[<i class=\"fa fa-superscript\"></i>\\] Find a linear system with\n    matrices $A$, $B$, $C$, $D$ whose impulse response is\n"
    },
    {
      "cell_type": "markdown",
      "metadata": {},
      "source": "$$\n  H(t) = \n  \\left[\n  \\begin{array}{cc}\n  e^{t} e(t) & e^{-t} e(t)\n  \\end{array}\n  \\right]\n  $$\n"
    },
    {
      "cell_type": "markdown",
      "metadata": {},
      "source": "-   \\[<i class=\"fa fa-superscript\"></i>\\] Is there another set of\n    matrices $A$, $B$, $C$, $D$ with the same impulse response? With a\n    matrix $A$ of a different size?\n"
    },
    {
      "cell_type": "markdown",
      "metadata": {},
      "source": "Laplace Transform\n-----------------\n"
    },
    {
      "cell_type": "markdown",
      "metadata": {},
      "source": "Associate to a scalar signal $x(t) \\in \\mathbb{R}$, $t\\in \\mathbb{R}$,\nthe function of a complex argument $s \\in \\mathbb{C}$:\n"
    },
    {
      "cell_type": "markdown",
      "metadata": {},
      "source": "$$\nx(s) = \\int_{-\\infty}^{+\\infty} x(t) e^{-st} \\, dt.\n$$\n"
    },
    {
      "cell_type": "markdown",
      "metadata": {},
      "source": "defined when $\\mathrm{Re} \\, (s) > \\sigma$ if\n$\\|x(t)\\| \\leq K e^{\\sigma t}$.\n"
    },
    {
      "cell_type": "markdown",
      "metadata": {},
      "source": "<i class=\"fa fa-warning\"></i> Notation\n--------------------------------------\n"
    },
    {
      "cell_type": "markdown",
      "metadata": {},
      "source": "We use the same symbol (here \u201c$x$\u201d) to denote:\n"
    },
    {
      "cell_type": "markdown",
      "metadata": {},
      "source": "-   a signal $x(t)$ and\n\n-   its Laplace transform $x(s)$\n"
    },
    {
      "cell_type": "markdown",
      "metadata": {},
      "source": "They are two equivalent representations of the same \u201cobject\u201d, but\ndifferent mathematical \u201cfunctions\u201d.\n"
    },
    {
      "cell_type": "markdown",
      "metadata": {},
      "source": "If you fear some ambiguity, use named variables, e.g.:\n"
    },
    {
      "cell_type": "markdown",
      "metadata": {},
      "source": "$$\n  x(t=1) \\, \\mbox{ or } \\, x(s=1) \\, \\mbox{ instead of } \\, x(1).\n  $$\n"
    },
    {
      "cell_type": "markdown",
      "metadata": {},
      "source": "Vector/Matrix-Valued Signals\n----------------------------\n"
    },
    {
      "cell_type": "markdown",
      "metadata": {},
      "source": "The Laplace transform\n"
    },
    {
      "cell_type": "markdown",
      "metadata": {},
      "source": "-   of a vector-valued signal $x(t) \\in \\mathbb{R}^n$ or\n\n-   of a matrix-valued signals $X(t) \\in \\mathbb{R}^{m \\times n}$\n"
    },
    {
      "cell_type": "markdown",
      "metadata": {},
      "source": "are computed elementwise.\n"
    },
    {
      "cell_type": "markdown",
      "metadata": {},
      "source": "------------------------------------------------------------------------\n"
    },
    {
      "cell_type": "markdown",
      "metadata": {},
      "source": "$$\n  x_{i}(s) = \\int_{-\\infty}^{+\\infty} x_{i}(t) e^{-st} \\, dt.\n  $$\n"
    },
    {
      "cell_type": "markdown",
      "metadata": {},
      "source": "$$\n  X_{ij}(s) = \\int_{-\\infty}^{+\\infty} X_{ij}(t) e^{-st} \\, dt.\n  $$\n"
    },
    {
      "cell_type": "markdown",
      "metadata": {},
      "source": "Rational & Causal Signals\n-------------------------\n"
    },
    {
      "cell_type": "markdown",
      "metadata": {},
      "source": "We will only deal with **rational & causal** signals:\n"
    },
    {
      "cell_type": "markdown",
      "metadata": {},
      "source": "$$\n  x(t) = \\left(\\sum_{\\lambda \\in \\Lambda} p_{\\lambda}(t) e^{\\lambda t} \\right) e(t)\n  $$\n"
    },
    {
      "cell_type": "markdown",
      "metadata": {},
      "source": "where:\n"
    },
    {
      "cell_type": "markdown",
      "metadata": {},
      "source": "-   $\\Lambda$ is a finite subset of $\\mathbb{C}$,\n\n-   for every $\\lambda \\in \\Lambda$, $p_{\\lambda}(t)$ is a polynomial in\n    $t$.\n"
    },
    {
      "cell_type": "markdown",
      "metadata": {},
      "source": "------------------------------------------------------------------------\n"
    },
    {
      "cell_type": "markdown",
      "metadata": {},
      "source": "-   Such signals are **causal** since\n\n    $x(t) = 0$ when $t < 0$.\n\n    <i class=\"fa fa-sticky-note\"></i> Causality $\\Leftrightarrow$\n    $\\deg n(s) \\leq \\deg d(s)$.\n\n-   They are **rational** since\n\n    $$\n      x(s) = \\frac{n(s)}{d(s)}\n      $$\n\n    where $n(s)$ and $d(s)$ are polynomials.\n"
    },
    {
      "cell_type": "markdown",
      "metadata": {},
      "source": "<i class=\"fa fa-eye\"></i> Laplace Transform / Exponential\n---------------------------------------------------------\n"
    },
    {
      "cell_type": "markdown",
      "metadata": {},
      "source": "Set $x(t) = e(t) e^{a t}$\n"
    },
    {
      "cell_type": "markdown",
      "metadata": {},
      "source": "$$\n\\begin{split}\nx(s) &= \\int_0^{+\\infty} e^{at} e^{-s t} \\, dt = \\int_0^{+\\infty} e^{(a-s) t} \\, dt \\\\\n&= \\left[\\frac{e^{(a-s) t}}{a-s} \\right]^{+\\infty}_0 = \\frac{1}{s-a}\n\\end{split}\n$$\n"
    },
    {
      "cell_type": "markdown",
      "metadata": {},
      "source": "(If $\\mathrm{Re} (s) \\geq \\mathrm{Re} \\, (a) +\\epsilon$, then\n$|e^{(a-s)t}| \\leq e^{-\\epsilon t}$)\n"
    },
    {
      "cell_type": "markdown",
      "metadata": {},
      "source": "Symbolic Computations\n---------------------\n"
    },
    {
      "cell_type": "code",
      "execution_count": 22,
      "metadata": {},
      "outputs": [],
      "source": "import sympy\nfrom sympy.abc import t, s, a\nfrom sympy.integrals.transforms import laplace_transform    \ndef L(f):\n    return laplace_transform(f, t, s)[0]"
    },
    {
      "cell_type": "markdown",
      "metadata": {},
      "source": "------------------------------------------------------------------------\n"
    },
    {
      "cell_type": "code",
      "execution_count": 23,
      "metadata": {},
      "outputs": [],
      "source": "xt = sympy.exp(a*t)\nxs = L(xt) # 1/(-a + s)"
    },
    {
      "cell_type": "markdown",
      "metadata": {},
      "source": "<i class=\"fa fa-question-circle-o\"></i> Laplace Transform / Ramp\n----------------------------------------------------------------\n"
    },
    {
      "cell_type": "markdown",
      "metadata": {},
      "source": "Compute the Laplace Transform of\n"
    },
    {
      "cell_type": "markdown",
      "metadata": {},
      "source": "$$\nx(t) = t e(t)\n$$\n"
    },
    {
      "cell_type": "markdown",
      "metadata": {},
      "source": "Convolution & Laplace\n---------------------\n"
    },
    {
      "cell_type": "markdown",
      "metadata": {},
      "source": "Let $H(t)$ be the impulse response of a system.\n"
    },
    {
      "cell_type": "markdown",
      "metadata": {},
      "source": "Its Laplace transform $H(s)$ is called the system **transfer function**.\n"
    },
    {
      "cell_type": "markdown",
      "metadata": {},
      "source": "For LTI systems in standard form, we have\n"
    },
    {
      "cell_type": "markdown",
      "metadata": {},
      "source": "$$\nH(s) = C [sI - A]^{-1} B + D\n$$\n"
    },
    {
      "cell_type": "markdown",
      "metadata": {},
      "source": "Operational Calculus\n--------------------\n"
    },
    {
      "cell_type": "markdown",
      "metadata": {},
      "source": "The Laplace transform turns convolution into products:\n"
    },
    {
      "cell_type": "markdown",
      "metadata": {},
      "source": "$$\n  y(t) = (H \\ast u)(t)\n  \\; \\Longleftrightarrow \\;\n  y(s) = H(s) \\times u(s)\n  $$\n"
    },
    {
      "cell_type": "markdown",
      "metadata": {},
      "source": "Graphical Language\n------------------\n"
    },
    {
      "cell_type": "markdown",
      "metadata": {},
      "source": "Control engineers used *block diagrams* to describe (combinations of)\ndynamical systems, with\n"
    },
    {
      "cell_type": "markdown",
      "metadata": {},
      "source": "-   \u201cboxes\u201d to determine the relation between input signals and output\n    signals and\n\n-   \u201cwires\u201d to route output signals to inputs signals.\n"
    },
    {
      "cell_type": "markdown",
      "metadata": {},
      "source": "<i class=\"fa fa-eye\"></i> Block-Diagram / Feedback\n--------------------------------------------------\n"
    },
    {
      "cell_type": "markdown",
      "metadata": {},
      "source": "![](images/static/feedback-alt.svg)\n"
    },
    {
      "cell_type": "markdown",
      "metadata": {},
      "source": "------------------------------------------------------------------------\n"
    },
    {
      "cell_type": "markdown",
      "metadata": {},
      "source": "-   **Triangles** denote **gains** (scalar or matrix multipliers),\n\n-   **Adders** sum (or substract) signals.\n"
    },
    {
      "cell_type": "markdown",
      "metadata": {},
      "source": "------------------------------------------------------------------------\n"
    },
    {
      "cell_type": "markdown",
      "metadata": {},
      "source": "-   **LTI systems** can be specified with:\n\n    -   (differential) equations,\n\n    -   the impulse response,\n\n    -   the transfer function,\n"
    },
    {
      "cell_type": "markdown",
      "metadata": {},
      "source": "Equivalent Systems\n------------------\n"
    },
    {
      "cell_type": "markdown",
      "metadata": {},
      "source": "![](images/static/equivalent-systems.svg)\n"
    },
    {
      "cell_type": "markdown",
      "metadata": {},
      "source": "<i class=\"fa fa-question-circle-o\"></i> Block-Diagram / Feedback\n----------------------------------------------------------------\n"
    },
    {
      "cell_type": "markdown",
      "metadata": {},
      "source": "Compute the transfer function $H(s)$ of the system depicted in the\nfeedback block-diagram example.\n"
    },
    {
      "cell_type": "markdown",
      "metadata": {},
      "source": "Impulse Response\n----------------\n"
    },
    {
      "cell_type": "markdown",
      "metadata": {},
      "source": "Why refer to $h(t)$ as the system \u201cimpulse response\u201d?\n"
    },
    {
      "cell_type": "markdown",
      "metadata": {},
      "source": "By the way, what\u2019s an impulse?\n"
    },
    {
      "cell_type": "markdown",
      "metadata": {},
      "source": "<i class=\"fa fa-eye\"></i> Impulses Approximations\n-------------------------------------------------\n"
    },
    {
      "cell_type": "markdown",
      "metadata": {},
      "source": "Pick a time constant $\\epsilon > 0$ and define\n"
    },
    {
      "cell_type": "markdown",
      "metadata": {},
      "source": "$$\n  \\delta_{\\epsilon}(t) = \\frac{1}{\\epsilon} e^{-t/\\epsilon} e(t)\n  $$\n"
    },
    {
      "cell_type": "markdown",
      "metadata": {},
      "source": "------------------------------------------------------------------------\n"
    },
    {
      "cell_type": "code",
      "execution_count": 24,
      "metadata": {},
      "outputs": [],
      "source": "def delta(t, eps=1.0):\n    return exp(-t / eps) / eps * (t >= 0)"
    },
    {
      "cell_type": "markdown",
      "metadata": {},
      "source": "<i class=\"fa fa-area-chart\"></i>\n--------------------------------\n"
    },
    {
      "cell_type": "code",
      "execution_count": 25,
      "metadata": {},
      "outputs": [],
      "source": "figure()\nt = linspace(-1,4,1000)\nplot(t, delta(t, eps=1.0), \"k:\", label=\"$\\epsilon=1.0$\")\nplot(t, delta(t, eps=0.5), \"k--\", label=\"$\\epsilon=0.5$\")\nplot(t, delta(t, eps=0.25), \"k\", label=\"$\\epsilon=0.25$\")\nxlabel(\"$t$\"); title(\"$\\delta_{\\epsilon}(t)$\") \nlegend()"
    },
    {
      "cell_type": "markdown",
      "metadata": {},
      "source": "Impulses in the Laplace Domain\n------------------------------\n"
    },
    {
      "cell_type": "markdown",
      "metadata": {},
      "source": "$$\n  \\begin{split}\n  \\delta_{\\epsilon}(s) \n    &= \\int_{-\\infty}^{+\\infty} \\delta_{\\epsilon}(t) e^{-st} \\, dt \\\\\n    &= \\frac{1}{\\epsilon} \\int_{0}^{+\\infty} e^{-(s + 1/\\epsilon)t} \\, dt \\\\\n    &= \\frac{1}{\\epsilon} \n       \\left[ \n       \\frac{e^{-(s+1/\\epsilon)t}}{-(s+1/\\epsilon)} \n       \\right]^{+\\infty}_0 = \\frac{1}{1 + \\epsilon s}\\\\\n  \\end{split}\n  $$\n"
    },
    {
      "cell_type": "markdown",
      "metadata": {},
      "source": "(assuming that $\\mathrm{Re}(s) > -1/\\epsilon$)\n"
    },
    {
      "cell_type": "markdown",
      "metadata": {},
      "source": "------------------------------------------------------------------------\n"
    },
    {
      "cell_type": "markdown",
      "metadata": {},
      "source": "-   The \u201climit\u201d of the signal $\\delta_{\\epsilon}(t)$ when\n    $\\epsilon \\to 0$ is not defined *as a function* (issue for $t=0$)\n    but as a *generalized function* $\\delta(t)$, the **unit impulse**.\n\n-   This technicality can be avoided in the Laplace domain where $$\n      \\delta(s) = \\lim_{\\epsilon \\to 0} \\delta_{\\epsilon}(s)\n      =\n      \\lim_{\\epsilon \\to 0} \\frac{1}{1 + \\epsilon s} = 1.\n      $$\n"
    },
    {
      "cell_type": "markdown",
      "metadata": {},
      "source": "------------------------------------------------------------------------\n"
    },
    {
      "cell_type": "markdown",
      "metadata": {},
      "source": "Thus, if $y(t) = (h \\ast u)(t)$ and\n"
    },
    {
      "cell_type": "markdown",
      "metadata": {},
      "source": "1.  $u(t) = \\delta(t)$ then\n\n2.  $y(s) = h(s) \\times \\delta(s) = h(s) \\times 1 = h(s)$\n\n3.  and thus $y(t) = h(t)$.\n"
    },
    {
      "cell_type": "markdown",
      "metadata": {},
      "source": "**Conclusion:** the impulse response $h(t)$ is the output of the system\nwhen the input is the unit impulse $\\delta(t)$.\n"
    },
    {
      "cell_type": "markdown",
      "metadata": {},
      "source": "I/O Stability\n-------------\n"
    },
    {
      "cell_type": "markdown",
      "metadata": {},
      "source": "A system is **I/O-stable** if there is a $K \\geq 0$ such that\n"
    },
    {
      "cell_type": "markdown",
      "metadata": {},
      "source": "$$\n\\mbox{for any } t\\geq, \\|y(t)\\| \\leq K M\n$$\n"
    },
    {
      "cell_type": "markdown",
      "metadata": {},
      "source": "whenever\n"
    },
    {
      "cell_type": "markdown",
      "metadata": {},
      "source": "$$\n\\mbox{for any } t\\geq, \\|u(t)\\| \\leq M\n$$\n"
    },
    {
      "cell_type": "markdown",
      "metadata": {},
      "source": "There is a bound on the amplification of the input signal that the\nsystem can provide.\n"
    },
    {
      "cell_type": "markdown",
      "metadata": {},
      "source": "<i class=\"fa fa-sticky-note\"></i> Also called **BIBO-stability** (for\n\u201cbounded input, bounded output\u201d)\n"
    },
    {
      "cell_type": "markdown",
      "metadata": {},
      "source": "Transfer Function Poles\n-----------------------\n"
    },
    {
      "cell_type": "markdown",
      "metadata": {},
      "source": "A **pole** of the transfer function $H(s)$ is a $s \\in \\mathbb{C}$ such\nthat for at least one element $H_{ij}(s)$,\n"
    },
    {
      "cell_type": "markdown",
      "metadata": {},
      "source": "$$\n|H_{ij}(s)| = +\\infty.\n$$\n"
    },
    {
      "cell_type": "markdown",
      "metadata": {},
      "source": "I/O-Stability Criteria\n----------------------\n"
    },
    {
      "cell_type": "markdown",
      "metadata": {},
      "source": "A system is I/O-stable if and only if all its poles are in the open\nleft-plane, i.e.\u00a0such that\n"
    },
    {
      "cell_type": "markdown",
      "metadata": {},
      "source": "$$\n\\mbox{Re}(s) < 0.\n$$\n"
    },
    {
      "cell_type": "markdown",
      "metadata": {},
      "source": "Internal Stability vs I/O-Stability\n-----------------------------------\n"
    },
    {
      "cell_type": "markdown",
      "metadata": {},
      "source": "If the system $\\dot{x} = A x$ is asymptotically stable, then for any\nmatrices $B$, $C$, $D$ of appropriate sizes,\n"
    },
    {
      "cell_type": "markdown",
      "metadata": {},
      "source": "$$\n\\begin{split}\n\\dot{x} &= A x + B u \\\\\ny &= C x + Du\n\\end{split}\n$$\n"
    },
    {
      "cell_type": "markdown",
      "metadata": {},
      "source": "is I/O-stable.\n"
    },
    {
      "cell_type": "markdown",
      "metadata": {},
      "source": "Fully Actuated & Measured System\n--------------------------------\n"
    },
    {
      "cell_type": "markdown",
      "metadata": {},
      "source": "If $B=I$, $C=I$ and $D=0$, that is\n"
    },
    {
      "cell_type": "markdown",
      "metadata": {},
      "source": "$$\n  \\dot{x} = A x +u, \\; y = x\n  $$\n"
    },
    {
      "cell_type": "markdown",
      "metadata": {},
      "source": "then $H(s) = [sI-A]^{-1}$.\n"
    },
    {
      "cell_type": "markdown",
      "metadata": {},
      "source": "------------------------------------------------------------------------\n"
    },
    {
      "cell_type": "markdown",
      "metadata": {},
      "source": "Therefore, $s$ is a pole of $H$ iff it\u2019s an eigenvalue of $A$.\n"
    },
    {
      "cell_type": "markdown",
      "metadata": {},
      "source": "Thus, in this case, asymptotic stability and I/O-stability are\nequivalent.\n"
    },
    {
      "cell_type": "markdown",
      "metadata": {},
      "source": "This equivalence holds under much weaker conditions.\n"
    },
    {
      "cell_type": "markdown",
      "metadata": {},
      "source": "<style>\n\n.reveal section img {\n  border:0;\n  height:50vh;\n  width:auto;\n\n}\n\n.reveal section img.medium {\n  border:0;\n  max-width:50vh;\n}\n\n.reveal section img.icon {\n  display:inline;\n  border:0;\n  width:1em;\n  margin:0em;\n  box-shadow:none;\n  vertical-align:-10%;\n}\n\n.reveal code {\n  font-family: Inconsolata, monospace;\n}\n\n.reveal pre code {\n  font-size: 1.5em;\n  line-height: 1.5em;\n  /* max-height: 80wh; won't work, overriden */\n}\n\ninput {\n  font-family: \"Source Sans Pro\", Helvetica, sans-serif;\n  font-size: 42px;\n  line-height: 54.6px;\n}\n\n</style>\n"
    },
    {
      "cell_type": "markdown",
      "metadata": {},
      "source": "<link href=\"https://fonts.googleapis.com/css?family=Inconsolata:400,700\" rel=\"stylesheet\">\n"
    },
    {
      "cell_type": "markdown",
      "metadata": {},
      "source": "<link href=\"https://cdnjs.cloudflare.com/ajax/libs/font-awesome/4.7.0/css/font-awesome.css\" rel=\"stylesheet\">\n"
    }
  ],
  "metadata": {
    "kernelspec": {
      "display_name": "Python 3",
      "language": "python",
      "name": "python3"
    },
    "language_info": {
      "codemirror_mode": {
        "name": "ipython",
        "version": 3
      },
      "file_extension": ".py",
      "mimetype": "text/x-python",
      "name": "python",
      "nbconvert_exporter": "python",
      "pygments_lexer": "ipython3",
      "version": "3.6.4"
    }
  },
  "nbformat": 4,
  "nbformat_minor": 2
}